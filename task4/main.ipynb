{
 "cells": [
  {
   "cell_type": "code",
   "execution_count": 1,
   "metadata": {},
   "outputs": [
    {
     "name": "stderr",
     "output_type": "stream",
     "text": [
      "c:\\ProgramData\\Anaconda3\\lib\\site-packages\\sklearn\\experimental\\enable_hist_gradient_boosting.py:16: UserWarning: Since version 1.0, it is not needed to import enable_hist_gradient_boosting anymore. HistGradientBoostingClassifier and HistGradientBoostingRegressor are now stable and can be normally imported from sklearn.ensemble.\n",
      "  warnings.warn(\n"
     ]
    },
    {
     "name": "stdout",
     "output_type": "stream",
     "text": [
      "2.8.0\n"
     ]
    }
   ],
   "source": [
    "# coding: utf-8\n",
    "\n",
    "from  __future__ import absolute_import\n",
    "from __future__ import print_function\n",
    "import numpy as np\n",
    "from keras.applications.vgg16 import VGG16\n",
    "from keras.layers import *\n",
    "from keras.models import Model, load_model\n",
    "from keras.preprocessing.image import load_img, img_to_array\n",
    "import tensorflow as tf\n",
    "from keras import backend as K\n",
    "from keras.preprocessing.image import ImageDataGenerator\n",
    "import tensorflow_hub as hub\n",
    "from sklearn.experimental import enable_hist_gradient_boosting\n",
    "from sklearn.ensemble import HistGradientBoostingRegressor\n",
    "\n",
    "import tensorflow as tf\n",
    "import os\n",
    "import matplotlib.pyplot as plt\n",
    "import numpy as np\n",
    "import pandas as pd\n",
    "from keras import layers\n",
    "from keras import optimizers\n",
    "import shutil\n",
    "import random\n",
    "from PIL import Image\n",
    "import numpy as np\n",
    "import logging\n",
    "import tensorflow as tf\n",
    "from keras.preprocessing.image import ImageDataGenerator\n",
    "import os\n",
    "import matplotlib.pyplot as plt\n",
    "import numpy as np\n",
    "import pandas as pd\n",
    "from keras import layers\n",
    "import tensorflow_hub as hub\n",
    "import shutil\n",
    "import random\n",
    "from PIL import Image\n",
    "import pickle\n",
    "import shutil\n",
    "from tensorflow import debugging\n",
    "import matplotlib.pyplot as plt\n",
    "import numpy as np\n",
    "import os\n",
    "import random\n",
    "import tensorflow as tf\n",
    "from pathlib import Path\n",
    "from keras import applications\n",
    "from keras import layers\n",
    "from keras import losses\n",
    "from keras import optimizers\n",
    "from keras import metrics\n",
    "from keras import Model\n",
    "from keras.applications import resnet\n",
    "from keras.callbacks import ModelCheckpoint\n",
    "\n",
    "from sklearn.svm import SVC\n",
    "from sklearn import svm\n",
    "from sklearn import datasets\n",
    "from sklearn.pipeline import make_pipeline\n",
    "from sklearn.preprocessing import PolynomialFeatures\n",
    "from sklearn.kernel_ridge import KernelRidge\n",
    "from sklearn.linear_model import Ridge, RidgeCV, ElasticNet\n",
    "from sklearn.model_selection import cross_val_score\n",
    "from sklearn.metrics import mean_squared_error\n",
    "from sklearn.linear_model import LogisticRegression\n",
    "from sklearn.ensemble import RandomForestClassifier\n",
    "from sklearn.ensemble import AdaBoostClassifier\n",
    "from sklearn.impute import KNNImputer\n",
    "from imblearn.over_sampling import RandomOverSampler\n",
    "from imblearn.under_sampling import ClusterCentroids\n",
    "from sklearn.model_selection import train_test_split\n",
    "from sklearn.preprocessing import StandardScaler\n",
    "from sklearn.datasets import make_moons, make_circles, make_classification\n",
    "from sklearn.neural_network import MLPClassifier\n",
    "from sklearn.neighbors import KNeighborsClassifier\n",
    "from sklearn.svm import SVC\n",
    "from sklearn.gaussian_process import GaussianProcessClassifier\n",
    "from sklearn.gaussian_process.kernels import RBF\n",
    "from sklearn.tree import DecisionTreeClassifier\n",
    "from sklearn.ensemble import RandomForestClassifier, AdaBoostClassifier, GradientBoostingClassifier, HistGradientBoostingClassifier, ExtraTreesClassifier\n",
    "from sklearn.naive_bayes import GaussianNB\n",
    "from sklearn.discriminant_analysis import QuadraticDiscriminantAnalysis\n",
    "from sklearn.feature_selection import SelectKBest\n",
    "from sklearn.feature_selection import chi2\n",
    "from sklearn.cluster import KMeans\n",
    "from sklearn.decomposition import PCA\n",
    "from keras.regularizers import l2\n",
    "\n",
    "import logging\n",
    "logger = tf.get_logger()\n",
    "logger.setLevel(logging.ERROR)\n",
    "\n",
    "\n",
    "print(tf.__version__)\n",
    "\n",
    "model_path = \"./deep_ranking\"\n",
    "\n",
    "# batch_size = 96\n",
    "# batch_size = 8\n",
    "batch_size = 24\n",
    "# batch_size = 3\n",
    "# batch_size = 1"
   ]
  },
  {
   "cell_type": "markdown",
   "metadata": {},
   "source": [
    "# Step 1: create lumo predictor"
   ]
  },
  {
   "cell_type": "code",
   "execution_count": 2,
   "metadata": {},
   "outputs": [],
   "source": [
    "\n",
    "X = np.array(pd.read_csv(\"pretrain_features.csv.zip\").iloc[:, 2:]).astype(np.float32)\n",
    "Y = np.array(pd.read_csv(\"pretrain_labels.csv.zip\").iloc[:, 1:]).astype(np.float32)\n",
    "\n",
    "lumo_predictor = tf.keras.Sequential([\n",
    "            layers.Dense(512, activation=tf.keras.activations.relu, kernel_regularizer=l2(0.001), bias_regularizer=l2(0.001)),\n",
    "            layers.Dense(512, activation=tf.keras.activations.relu, kernel_regularizer=l2(0.001), bias_regularizer=l2(0.001)),\n",
    "            # layers.Dense(512, activation=tf.keras.activations.relu),\n",
    "            # layers.Dense(512, activation=tf.keras.activations.relu),\n",
    "            layers.Dense(1, activation='linear')\n",
    "        ])\n",
    "        \n",
    "lumo_predictor.compile(loss=losses.mean_squared_error, optimizer=tf.keras.optimizers.Adam(0.0001))\n",
    "\n",
    "# retrain = True\n",
    "retrain = False\n",
    "if(retrain):\n",
    "    lumo_predictor.fit(X, Y, epochs=30)\n",
    "    lumo_predictor.save_weights('lumo_predictor.h5')\n",
    "else:\n",
    "    #build the model\n",
    "    lumo_predictor.predict(X)\n",
    "    lumo_predictor.load_weights(\"lumo_predictor.h5\")"
   ]
  },
  {
   "cell_type": "markdown",
   "metadata": {},
   "source": [
    "# Step 2: create encoder"
   ]
  },
  {
   "cell_type": "code",
   "execution_count": 3,
   "metadata": {},
   "outputs": [],
   "source": [
    "encoder = tf.keras.Sequential([\n",
    "            #encoder\n",
    "            layers.Dense(64, activation=tf.keras.activations.linear, kernel_regularizer=l2(0.001), bias_regularizer=l2(0.001)),\n",
    "            #classifier\n",
    "            layers.Dense(512, activation=tf.keras.activations.relu, kernel_regularizer=l2(0.001), bias_regularizer=l2(0.001)),\n",
    "            layers.Dense(1, activation='linear', kernel_regularizer=l2(0.001), bias_regularizer=l2(0.001))\n",
    "        ])\n",
    "        \n",
    "encoder.compile(loss=losses.mean_squared_error, optimizer=tf.keras.optimizers.Adam(0.0001))\n",
    "\n",
    "# retrain = True\n",
    "retrain = False\n",
    "if(retrain):\n",
    "    encoder.fit(X, Y, epochs=30)\n",
    "    encoder.save_weights('encoder.h5')\n",
    "else:\n",
    "    #build the model\n",
    "    encoder.predict(X)\n",
    "    encoder.load_weights(\"encoder.h5\")"
   ]
  },
  {
   "cell_type": "markdown",
   "metadata": {},
   "source": [
    "# Step 3: setup data to train homo predictor"
   ]
  },
  {
   "cell_type": "code",
   "execution_count": 4,
   "metadata": {},
   "outputs": [],
   "source": [
    "X_train = np.array(pd.read_csv(\"train_features.csv.zip\").iloc[:, 2:]).astype(np.float32)\n",
    "Y_train = np.array(pd.read_csv(\"train_labels.csv.zip\").iloc[:, 1:]).astype(np.float32)\n",
    "\n",
    "Y_gap = np.array(pd.read_csv(\"train_labels.csv.zip\").iloc[:, 1:]).astype(np.float32)\n",
    "\n",
    "Y_lumo = lumo_predictor.predict(X_train)\n",
    "\n",
    "Y_homo = -(Y_gap - Y_lumo)\n",
    "\n"
   ]
  },
  {
   "cell_type": "markdown",
   "metadata": {},
   "source": [
    "# Step 4: train homo predictor"
   ]
  },
  {
   "cell_type": "code",
   "execution_count": 5,
   "metadata": {},
   "outputs": [],
   "source": [
    "homo_predictor = tf.keras.Sequential([\n",
    "            #encoder\n",
    "            layers.Dense(64, activation=tf.keras.activations.linear, kernel_regularizer=l2(0.001), bias_regularizer=l2(0.001),trainable=False),\n",
    "            #classifier\n",
    "            layers.Dense(512, activation=tf.keras.activations.relu, kernel_regularizer=l2(0.001), bias_regularizer=l2(0.001)),\n",
    "            layers.Dense(1, activation='linear', kernel_regularizer=l2(0.001), bias_regularizer=l2(0.001))\n",
    "        ])\n",
    "\n",
    "#build the model\n",
    "homo_predictor.predict(X_train)\n",
    "\n",
    "#transfer learning\n",
    "homo_predictor.load_weights(\"encoder.h5\")\n",
    "\n",
    "homo_predictor.compile(loss=losses.mean_squared_error, optimizer=tf.keras.optimizers.Adam(0.00001))\n",
    "history = homo_predictor.fit(X_train, Y_homo, epochs=9000,verbose=False)\n",
    "\n"
   ]
  },
  {
   "cell_type": "markdown",
   "metadata": {},
   "source": [
    "# Step 5: test set"
   ]
  },
  {
   "cell_type": "code",
   "execution_count": 6,
   "metadata": {},
   "outputs": [],
   "source": [
    "X_test = np.array(pd.read_csv(\"test_features.csv.zip\").iloc[:, 2:]).astype(np.float32)\n",
    "sample = pd.read_csv(\"sample.csv\")\n",
    "\n",
    "\n",
    "homo = homo_predictor.predict(X_test)\n",
    "lumo = lumo_predictor.predict(X_test)\n",
    "\n",
    "sample[\"y\"] = (lumo-homo)\n",
    "\n",
    "sample.to_csv('submit.csv', index=False, float_format='%.5f')"
   ]
  }
 ],
 "metadata": {
  "interpreter": {
   "hash": "ad2bdc8ecc057115af97d19610ffacc2b4e99fae6737bb82f5d7fb13d2f2c186"
  },
  "kernelspec": {
   "display_name": "Python 3.9.7 ('base')",
   "language": "python",
   "name": "python3"
  },
  "language_info": {
   "codemirror_mode": {
    "name": "ipython",
    "version": 3
   },
   "file_extension": ".py",
   "mimetype": "text/x-python",
   "name": "python",
   "nbconvert_exporter": "python",
   "pygments_lexer": "ipython3",
   "version": "3.9.7"
  },
  "orig_nbformat": 4
 },
 "nbformat": 4,
 "nbformat_minor": 2
}
