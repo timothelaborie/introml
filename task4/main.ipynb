{
 "cells": [
  {
   "cell_type": "code",
   "execution_count": 1,
   "metadata": {},
   "outputs": [
    {
     "name": "stdout",
     "output_type": "stream",
     "text": [
      "2.8.0\n"
     ]
    }
   ],
   "source": [
    "# coding: utf-8\n",
    "\n",
    "from  __future__ import absolute_import\n",
    "from __future__ import print_function\n",
    "import numpy as np\n",
    "from keras.applications.vgg16 import VGG16\n",
    "from keras.layers import *\n",
    "from keras.models import Model, load_model\n",
    "from keras.preprocessing.image import load_img, img_to_array\n",
    "import tensorflow as tf\n",
    "from keras import backend as K\n",
    "from keras.preprocessing.image import ImageDataGenerator\n",
    "import tensorflow_hub as hub\n",
    "\n",
    "import tensorflow as tf\n",
    "import os\n",
    "import matplotlib.pyplot as plt\n",
    "import numpy as np\n",
    "import pandas as pd\n",
    "from keras import layers\n",
    "from keras import optimizers\n",
    "import shutil\n",
    "import random\n",
    "from PIL import Image\n",
    "import numpy as np\n",
    "import logging\n",
    "import tensorflow as tf\n",
    "from keras.preprocessing.image import ImageDataGenerator\n",
    "import os\n",
    "import matplotlib.pyplot as plt\n",
    "import numpy as np\n",
    "import pandas as pd\n",
    "from keras import layers\n",
    "import tensorflow_hub as hub\n",
    "import shutil\n",
    "import random\n",
    "from PIL import Image\n",
    "import pickle\n",
    "import shutil\n",
    "from tensorflow import debugging\n",
    "import matplotlib.pyplot as plt\n",
    "import numpy as np\n",
    "import os\n",
    "import random\n",
    "import tensorflow as tf\n",
    "from pathlib import Path\n",
    "from keras import applications\n",
    "from keras import layers\n",
    "from keras import losses\n",
    "from keras import optimizers\n",
    "from keras import metrics\n",
    "from keras import Model\n",
    "from keras.callbacks import ModelCheckpoint\n",
    "from keras.regularizers import l2,L1L2 \n",
    "from keras.activations import relu,softmax\n",
    "\n",
    "from sklearn.svm import SVC\n",
    "from sklearn import svm\n",
    "from sklearn import datasets\n",
    "from sklearn.pipeline import make_pipeline\n",
    "from sklearn.preprocessing import PolynomialFeatures\n",
    "from sklearn.kernel_ridge import KernelRidge\n",
    "from sklearn.linear_model import Ridge, RidgeCV, ElasticNet\n",
    "from sklearn.model_selection import cross_val_score\n",
    "from sklearn.metrics import mean_squared_error\n",
    "from sklearn.linear_model import LogisticRegression\n",
    "from sklearn.ensemble import RandomForestClassifier\n",
    "from sklearn.ensemble import AdaBoostClassifier\n",
    "from sklearn.impute import KNNImputer\n",
    "from imblearn.over_sampling import RandomOverSampler\n",
    "from imblearn.under_sampling import ClusterCentroids\n",
    "from sklearn.model_selection import train_test_split\n",
    "from sklearn.preprocessing import StandardScaler\n",
    "from sklearn.datasets import make_moons, make_circles, make_classification\n",
    "from sklearn.neural_network import MLPClassifier\n",
    "from sklearn.neighbors import KNeighborsClassifier\n",
    "from sklearn.svm import SVC\n",
    "from sklearn.gaussian_process import GaussianProcessClassifier\n",
    "from sklearn.gaussian_process.kernels import RBF\n",
    "from sklearn.tree import DecisionTreeClassifier\n",
    "from sklearn.ensemble import RandomForestClassifier, AdaBoostClassifier, GradientBoostingClassifier, HistGradientBoostingClassifier, ExtraTreesClassifier\n",
    "from sklearn.naive_bayes import GaussianNB\n",
    "from sklearn.discriminant_analysis import QuadraticDiscriminantAnalysis\n",
    "from sklearn.feature_selection import SelectKBest\n",
    "from sklearn.feature_selection import chi2\n",
    "from sklearn.cluster import KMeans\n",
    "from sklearn.decomposition import PCA\n",
    "\n",
    "\n",
    "import logging\n",
    "logger = tf.get_logger()\n",
    "logger.setLevel(logging.ERROR)\n",
    "\n",
    "\n",
    "print(tf.__version__)\n",
    "\n"
   ]
  },
  {
   "cell_type": "markdown",
   "metadata": {},
   "source": [
    "# Step 1: create lumo predictor"
   ]
  },
  {
   "cell_type": "code",
   "execution_count": 2,
   "metadata": {},
   "outputs": [
    {
     "ename": "ValueError",
     "evalue": "Unable to load weights saved in HDF5 format into a subclassed Model which has not created its variables yet. Call the Model first, then load the weights.",
     "output_type": "error",
     "traceback": [
      "\u001b[1;31m---------------------------------------------------------------------------\u001b[0m",
      "\u001b[1;31mValueError\u001b[0m                                Traceback (most recent call last)",
      "\u001b[1;32m~\\AppData\\Local\\Temp/ipykernel_92720/2733452856.py\u001b[0m in \u001b[0;36m<module>\u001b[1;34m\u001b[0m\n\u001b[0;32m     19\u001b[0m     \u001b[1;31m#build the model\u001b[0m\u001b[1;33m\u001b[0m\u001b[1;33m\u001b[0m\u001b[0m\n\u001b[0;32m     20\u001b[0m     \u001b[1;31m# lumo_predictor.predict(X)\u001b[0m\u001b[1;33m\u001b[0m\u001b[1;33m\u001b[0m\u001b[0m\n\u001b[1;32m---> 21\u001b[1;33m     \u001b[0mlumo_predictor\u001b[0m\u001b[1;33m.\u001b[0m\u001b[0mload_weights\u001b[0m\u001b[1;33m(\u001b[0m\u001b[1;34m\"lumo_predictor.h5\"\u001b[0m\u001b[1;33m)\u001b[0m\u001b[1;33m\u001b[0m\u001b[1;33m\u001b[0m\u001b[0m\n\u001b[0m",
      "\u001b[1;32mc:\\ProgramData\\Anaconda3\\lib\\site-packages\\keras\\utils\\traceback_utils.py\u001b[0m in \u001b[0;36merror_handler\u001b[1;34m(*args, **kwargs)\u001b[0m\n\u001b[0;32m     65\u001b[0m     \u001b[1;32mexcept\u001b[0m \u001b[0mException\u001b[0m \u001b[1;32mas\u001b[0m \u001b[0me\u001b[0m\u001b[1;33m:\u001b[0m  \u001b[1;31m# pylint: disable=broad-except\u001b[0m\u001b[1;33m\u001b[0m\u001b[1;33m\u001b[0m\u001b[0m\n\u001b[0;32m     66\u001b[0m       \u001b[0mfiltered_tb\u001b[0m \u001b[1;33m=\u001b[0m \u001b[0m_process_traceback_frames\u001b[0m\u001b[1;33m(\u001b[0m\u001b[0me\u001b[0m\u001b[1;33m.\u001b[0m\u001b[0m__traceback__\u001b[0m\u001b[1;33m)\u001b[0m\u001b[1;33m\u001b[0m\u001b[1;33m\u001b[0m\u001b[0m\n\u001b[1;32m---> 67\u001b[1;33m       \u001b[1;32mraise\u001b[0m \u001b[0me\u001b[0m\u001b[1;33m.\u001b[0m\u001b[0mwith_traceback\u001b[0m\u001b[1;33m(\u001b[0m\u001b[0mfiltered_tb\u001b[0m\u001b[1;33m)\u001b[0m \u001b[1;32mfrom\u001b[0m \u001b[1;32mNone\u001b[0m\u001b[1;33m\u001b[0m\u001b[1;33m\u001b[0m\u001b[0m\n\u001b[0m\u001b[0;32m     68\u001b[0m     \u001b[1;32mfinally\u001b[0m\u001b[1;33m:\u001b[0m\u001b[1;33m\u001b[0m\u001b[1;33m\u001b[0m\u001b[0m\n\u001b[0;32m     69\u001b[0m       \u001b[1;32mdel\u001b[0m \u001b[0mfiltered_tb\u001b[0m\u001b[1;33m\u001b[0m\u001b[1;33m\u001b[0m\u001b[0m\n",
      "\u001b[1;32mc:\\ProgramData\\Anaconda3\\lib\\site-packages\\keras\\engine\\training.py\u001b[0m in \u001b[0;36mload_weights\u001b[1;34m(self, filepath, by_name, skip_mismatch, options)\u001b[0m\n\u001b[0;32m   2591\u001b[0m             'HDF5. Try installing h5py.')\n\u001b[0;32m   2592\u001b[0m       \u001b[1;32mif\u001b[0m \u001b[1;32mnot\u001b[0m \u001b[0mself\u001b[0m\u001b[1;33m.\u001b[0m\u001b[0m_is_graph_network\u001b[0m \u001b[1;32mand\u001b[0m \u001b[1;32mnot\u001b[0m \u001b[0mself\u001b[0m\u001b[1;33m.\u001b[0m\u001b[0mbuilt\u001b[0m\u001b[1;33m:\u001b[0m\u001b[1;33m\u001b[0m\u001b[1;33m\u001b[0m\u001b[0m\n\u001b[1;32m-> 2593\u001b[1;33m         raise ValueError(\n\u001b[0m\u001b[0;32m   2594\u001b[0m             \u001b[1;34m'Unable to load weights saved in HDF5 format into a subclassed '\u001b[0m\u001b[1;33m\u001b[0m\u001b[1;33m\u001b[0m\u001b[0m\n\u001b[0;32m   2595\u001b[0m             \u001b[1;34m'Model which has not created its variables yet. Call the Model '\u001b[0m\u001b[1;33m\u001b[0m\u001b[1;33m\u001b[0m\u001b[0m\n",
      "\u001b[1;31mValueError\u001b[0m: Unable to load weights saved in HDF5 format into a subclassed Model which has not created its variables yet. Call the Model first, then load the weights."
     ]
    }
   ],
   "source": [
    "\n",
    "X = np.array(pd.read_csv(\"pretrain_features.csv.zip\").iloc[:, 2:]).astype(np.float32)\n",
    "Y = np.array(pd.read_csv(\"pretrain_labels.csv.zip\").iloc[:, 1:]).astype(np.float32)\n",
    "\n",
    "lumo_predictor = tf.keras.Sequential([\n",
    "            layers.Dense(512, activation=tf.keras.activations.relu, kernel_regularizer=l2(0.001)),\n",
    "            layers.Dense(512, activation=tf.keras.activations.relu, kernel_regularizer=l2(0.001)),\n",
    "            layers.Dense(1, activation='linear')\n",
    "        ])\n",
    "        \n",
    "lumo_predictor.compile(loss=losses.mean_squared_error, optimizer=tf.keras.optimizers.Adam(0.00005))\n",
    "\n",
    "# retrain = True\n",
    "retrain = False\n",
    "if(retrain):\n",
    "    lumo_predictor.fit(X, Y, epochs=200,verbose=False)\n",
    "    # lumo_predictor.fit(X, Y, epochs=100)\n",
    "    lumo_predictor.save_weights('lumo_predictor.h5')\n",
    "else:\n",
    "    #build the model\n",
    "    # lumo_predictor.predict(X)\n",
    "    lumo_predictor.load_weights(\"lumo_predictor.h5\")"
   ]
  },
  {
   "cell_type": "markdown",
   "metadata": {},
   "source": [
    "# Step 2: create encoder"
   ]
  },
  {
   "cell_type": "code",
   "execution_count": 3,
   "metadata": {},
   "outputs": [
    {
     "name": "stdout",
     "output_type": "stream",
     "text": [
      "Epoch 1/30\n",
      "1563/1563 [==============================] - 5s 3ms/step - loss: 0.4939\n",
      "Epoch 2/30\n",
      "1563/1563 [==============================] - 5s 3ms/step - loss: 0.1669\n",
      "Epoch 3/30\n",
      "1563/1563 [==============================] - 6s 4ms/step - loss: 0.1076\n",
      "Epoch 4/30\n",
      "1563/1563 [==============================] - 5s 3ms/step - loss: 0.0704\n",
      "Epoch 5/30\n",
      "1563/1563 [==============================] - 5s 3ms/step - loss: 0.0480\n",
      "Epoch 6/30\n",
      "1563/1563 [==============================] - 5s 3ms/step - loss: 0.0349\n",
      "Epoch 7/30\n",
      "1563/1563 [==============================] - 5s 3ms/step - loss: 0.0271\n",
      "Epoch 8/30\n",
      "1563/1563 [==============================] - 5s 3ms/step - loss: 0.0221\n",
      "Epoch 9/30\n",
      "1563/1563 [==============================] - 5s 3ms/step - loss: 0.0187\n",
      "Epoch 10/30\n",
      "1563/1563 [==============================] - 5s 3ms/step - loss: 0.0164\n",
      "Epoch 11/30\n",
      "1563/1563 [==============================] - 5s 3ms/step - loss: 0.0148\n",
      "Epoch 12/30\n",
      "1563/1563 [==============================] - 5s 3ms/step - loss: 0.0137\n",
      "Epoch 13/30\n",
      "1563/1563 [==============================] - 5s 3ms/step - loss: 0.0127\n",
      "Epoch 14/30\n",
      "1563/1563 [==============================] - 5s 3ms/step - loss: 0.0119\n",
      "Epoch 15/30\n",
      "1563/1563 [==============================] - 4s 3ms/step - loss: 0.0113\n",
      "Epoch 16/30\n",
      "1563/1563 [==============================] - 4s 3ms/step - loss: 0.0108\n",
      "Epoch 17/30\n",
      "1563/1563 [==============================] - 4s 3ms/step - loss: 0.0104\n",
      "Epoch 18/30\n",
      "1563/1563 [==============================] - 4s 3ms/step - loss: 0.0100\n",
      "Epoch 19/30\n",
      "1563/1563 [==============================] - 4s 3ms/step - loss: 0.0098\n",
      "Epoch 20/30\n",
      "1563/1563 [==============================] - 5s 3ms/step - loss: 0.0095\n",
      "Epoch 21/30\n",
      "1563/1563 [==============================] - 4s 3ms/step - loss: 0.0093\n",
      "Epoch 22/30\n",
      "1563/1563 [==============================] - 4s 3ms/step - loss: 0.0091\n",
      "Epoch 23/30\n",
      "1563/1563 [==============================] - 5s 3ms/step - loss: 0.0089\n",
      "Epoch 24/30\n",
      "1563/1563 [==============================] - 4s 3ms/step - loss: 0.0088\n",
      "Epoch 25/30\n",
      "1563/1563 [==============================] - 4s 3ms/step - loss: 0.0086\n",
      "Epoch 26/30\n",
      "1563/1563 [==============================] - 4s 3ms/step - loss: 0.0086\n",
      "Epoch 27/30\n",
      "1563/1563 [==============================] - 4s 3ms/step - loss: 0.0084\n",
      "Epoch 28/30\n",
      "1563/1563 [==============================] - 4s 3ms/step - loss: 0.0083\n",
      "Epoch 29/30\n",
      "1563/1563 [==============================] - 4s 3ms/step - loss: 0.0081\n",
      "Epoch 30/30\n",
      "1563/1563 [==============================] - 4s 3ms/step - loss: 0.0080\n"
     ]
    }
   ],
   "source": [
    "encoder = tf.keras.Sequential([\n",
    "            #encoder\n",
    "            layers.Dense(64, activation=tf.keras.activations.linear, kernel_regularizer=l2(0.001)),\n",
    "            #classifier\n",
    "            layers.Dense(512, activation=tf.keras.activations.relu, kernel_regularizer=l2(0.001)),\n",
    "            layers.Dense(1, activation='linear')\n",
    "        ])\n",
    "        \n",
    "encoder.compile(loss=losses.mean_squared_error, optimizer=tf.keras.optimizers.Adam(0.0001))\n",
    "\n",
    "retrain = True\n",
    "# retrain = False\n",
    "if(retrain):\n",
    "    encoder.fit(X, Y, epochs=30)\n",
    "    encoder.save_weights('encoder.h5')\n",
    "else:\n",
    "    #build the model\n",
    "    encoder.predict(X)\n",
    "    encoder.load_weights(\"encoder.h5\")"
   ]
  },
  {
   "cell_type": "markdown",
   "metadata": {},
   "source": [
    "# Step 3: setup data to train homo predictor"
   ]
  },
  {
   "cell_type": "code",
   "execution_count": 4,
   "metadata": {},
   "outputs": [],
   "source": [
    "X_train = np.array(pd.read_csv(\"train_features.csv.zip\").iloc[:, 2:]).astype(np.float32)\n",
    "Y_train = np.array(pd.read_csv(\"train_labels.csv.zip\").iloc[:, 1:]).astype(np.float32)\n",
    "\n",
    "Y_gap = np.array(pd.read_csv(\"train_labels.csv.zip\").iloc[:, 1:]).astype(np.float32)\n",
    "\n",
    "Y_lumo = lumo_predictor.predict(X_train)\n",
    "\n",
    "Y_homo = -(Y_gap - Y_lumo)\n",
    "\n"
   ]
  },
  {
   "cell_type": "markdown",
   "metadata": {},
   "source": [
    "# Step 4: train homo predictor"
   ]
  },
  {
   "cell_type": "code",
   "execution_count": 5,
   "metadata": {},
   "outputs": [],
   "source": [
    "homo_predictor = tf.keras.Sequential([\n",
    "            #encoder\n",
    "            layers.Dense(64, activation=tf.keras.activations.linear, kernel_regularizer=l2(0.001),trainable=False),\n",
    "            #classifier\n",
    "            layers.Dense(512, activation=tf.keras.activations.relu, kernel_regularizer=l2(0.001)),\n",
    "            # layers.Dense(1, activation='linear', kernel_regularizer=l2(0.001), bias_regularizer=l2(0.001))\n",
    "            layers.Dense(1, activation='linear')\n",
    "        ])\n",
    "\n",
    "#build the model\n",
    "homo_predictor.predict(X_train)\n",
    "\n",
    "#transfer learning\n",
    "homo_predictor.load_weights(\"encoder.h5\")\n",
    "\n",
    "homo_predictor.compile(loss=losses.mean_squared_error, optimizer=tf.keras.optimizers.Adam(0.00001))\n",
    "history = homo_predictor.fit(X_train, Y_homo, epochs=20000,batch_size=100,verbose=False)\n",
    "\n"
   ]
  },
  {
   "cell_type": "markdown",
   "metadata": {},
   "source": [
    "# Step 5: test set"
   ]
  },
  {
   "cell_type": "code",
   "execution_count": 6,
   "metadata": {},
   "outputs": [],
   "source": [
    "X_test = np.array(pd.read_csv(\"test_features.csv.zip\").iloc[:, 2:]).astype(np.float32)\n",
    "sample = pd.read_csv(\"sample.csv\")\n",
    "\n",
    "\n",
    "homo = homo_predictor.predict(X_test)\n",
    "lumo = lumo_predictor.predict(X_test)\n",
    "\n",
    "sample[\"y\"] = (lumo-homo)\n",
    "\n",
    "sample.to_csv('submit.csv', index=False, float_format='%.5f')"
   ]
  }
 ],
 "metadata": {
  "interpreter": {
   "hash": "ad2bdc8ecc057115af97d19610ffacc2b4e99fae6737bb82f5d7fb13d2f2c186"
  },
  "kernelspec": {
   "display_name": "Python 3.9.7 ('base')",
   "language": "python",
   "name": "python3"
  },
  "language_info": {
   "codemirror_mode": {
    "name": "ipython",
    "version": 3
   },
   "file_extension": ".py",
   "mimetype": "text/x-python",
   "name": "python",
   "nbconvert_exporter": "python",
   "pygments_lexer": "ipython3",
   "version": "3.9.7"
  },
  "orig_nbformat": 4
 },
 "nbformat": 4,
 "nbformat_minor": 2
}
