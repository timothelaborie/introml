{
 "cells": [
  {
   "cell_type": "code",
   "execution_count": 1,
   "metadata": {},
   "outputs": [
    {
     "name": "stdout",
     "output_type": "stream",
     "text": [
      "2.8.0\n"
     ]
    }
   ],
   "source": [
    "# coding: utf-8\n",
    "\n",
    "from  __future__ import absolute_import\n",
    "from __future__ import print_function\n",
    "import numpy as np\n",
    "from keras.applications.vgg16 import VGG16\n",
    "from keras.layers import *\n",
    "from keras.models import Model, load_model\n",
    "from keras.preprocessing.image import load_img, img_to_array\n",
    "import tensorflow as tf\n",
    "from keras import backend as K\n",
    "from keras.preprocessing.image import ImageDataGenerator\n",
    "import tensorflow_hub as hub\n",
    "\n",
    "import tensorflow as tf\n",
    "import os\n",
    "import matplotlib.pyplot as plt\n",
    "import numpy as np\n",
    "import pandas as pd\n",
    "from keras import layers\n",
    "from keras import optimizers\n",
    "import shutil\n",
    "import random\n",
    "from PIL import Image\n",
    "import numpy as np\n",
    "import logging\n",
    "import tensorflow as tf\n",
    "from keras.preprocessing.image import ImageDataGenerator\n",
    "import os\n",
    "import matplotlib.pyplot as plt\n",
    "import numpy as np\n",
    "import pandas as pd\n",
    "from keras import layers\n",
    "import tensorflow_hub as hub\n",
    "import shutil\n",
    "import random\n",
    "from PIL import Image\n",
    "import pickle\n",
    "import shutil\n",
    "from tensorflow import debugging\n",
    "import matplotlib.pyplot as plt\n",
    "import numpy as np\n",
    "import os\n",
    "import random\n",
    "import tensorflow as tf\n",
    "from pathlib import Path\n",
    "from keras import applications\n",
    "from keras import layers\n",
    "from keras import losses\n",
    "from keras import optimizers\n",
    "from keras import metrics\n",
    "from keras import Model\n",
    "from keras.applications import resnet\n",
    "from keras.callbacks import ModelCheckpoint\n",
    "\n",
    "from sklearn.svm import SVC\n",
    "from sklearn import svm\n",
    "from sklearn import datasets\n",
    "from sklearn.pipeline import make_pipeline\n",
    "from sklearn.preprocessing import PolynomialFeatures\n",
    "from sklearn.kernel_ridge import KernelRidge\n",
    "from sklearn.linear_model import Ridge, RidgeCV, ElasticNet\n",
    "from sklearn.model_selection import cross_val_score\n",
    "from sklearn.metrics import mean_squared_error\n",
    "from sklearn.linear_model import LogisticRegression\n",
    "from sklearn.ensemble import RandomForestClassifier\n",
    "from sklearn.ensemble import AdaBoostClassifier\n",
    "from sklearn.impute import KNNImputer\n",
    "from imblearn.over_sampling import RandomOverSampler\n",
    "from imblearn.under_sampling import ClusterCentroids\n",
    "from sklearn.model_selection import train_test_split\n",
    "from sklearn.preprocessing import StandardScaler\n",
    "from sklearn.datasets import make_moons, make_circles, make_classification\n",
    "from sklearn.neural_network import MLPClassifier\n",
    "from sklearn.neighbors import KNeighborsClassifier\n",
    "from sklearn.svm import SVC\n",
    "from sklearn.gaussian_process import GaussianProcessClassifier\n",
    "from sklearn.gaussian_process.kernels import RBF\n",
    "from sklearn.tree import DecisionTreeClassifier\n",
    "from sklearn.ensemble import RandomForestClassifier, AdaBoostClassifier, GradientBoostingClassifier, HistGradientBoostingClassifier, ExtraTreesClassifier\n",
    "from sklearn.naive_bayes import GaussianNB\n",
    "from sklearn.discriminant_analysis import QuadraticDiscriminantAnalysis\n",
    "from sklearn.feature_selection import SelectKBest\n",
    "from sklearn.feature_selection import chi2\n",
    "from sklearn.cluster import KMeans\n",
    "from sklearn.decomposition import PCA\n",
    "from keras.regularizers import l2\n",
    "\n",
    "import logging\n",
    "logger = tf.get_logger()\n",
    "logger.setLevel(logging.ERROR)\n",
    "\n",
    "\n",
    "print(tf.__version__)\n",
    "\n"
   ]
  },
  {
   "cell_type": "markdown",
   "metadata": {},
   "source": [
    "# Step 1: create lumo predictor"
   ]
  },
  {
   "cell_type": "code",
   "execution_count": 2,
   "metadata": {},
   "outputs": [],
   "source": [
    "\n",
    "X = np.array(pd.read_csv(\"pretrain_features.csv.zip\").iloc[:, 2:]).astype(np.float32)\n",
    "Y = np.array(pd.read_csv(\"pretrain_labels.csv.zip\").iloc[:, 1:]).astype(np.float32)\n",
    "\n",
    "lumo_predictor = tf.keras.Sequential([\n",
    "            layers.Dense(512, activation=tf.keras.activations.relu, kernel_regularizer=l2(0.001), bias_regularizer=l2(0.001)),\n",
    "            layers.Dense(512, activation=tf.keras.activations.relu, kernel_regularizer=l2(0.001), bias_regularizer=l2(0.001)),\n",
    "            # layers.Dense(512, activation=tf.keras.activations.relu),\n",
    "            # layers.Dense(512, activation=tf.keras.activations.relu),\n",
    "            layers.Dense(1, activation='linear')\n",
    "        ])\n",
    "        \n",
    "lumo_predictor.compile(loss=losses.mean_squared_error, optimizer=tf.keras.optimizers.Adam(0.0001))\n",
    "\n",
    "# retrain = True\n",
    "retrain = False\n",
    "if(retrain):\n",
    "    lumo_predictor.fit(X, Y, epochs=100,verbose=False)\n",
    "    # lumo_predictor.fit(X, Y, epochs=100)\n",
    "    lumo_predictor.save_weights('lumo_predictor.h5')\n",
    "else:\n",
    "    #build the model\n",
    "    lumo_predictor.predict(X)\n",
    "    lumo_predictor.load_weights(\"lumo_predictor.h5\")"
   ]
  },
  {
   "cell_type": "markdown",
   "metadata": {},
   "source": [
    "# Step 2: create encoder"
   ]
  },
  {
   "cell_type": "code",
   "execution_count": 3,
   "metadata": {},
   "outputs": [],
   "source": [
    "encoder = tf.keras.Sequential([\n",
    "            #encoder\n",
    "            layers.Dense(64, activation=tf.keras.activations.linear, kernel_regularizer=l2(0.001), bias_regularizer=l2(0.001)),\n",
    "            #classifier\n",
    "            layers.Dense(512, activation=tf.keras.activations.relu, kernel_regularizer=l2(0.001), bias_regularizer=l2(0.001)),\n",
    "            # layers.Dense(1, activation='linear', kernel_regularizer=l2(0.001), bias_regularizer=l2(0.001))\n",
    "            layers.Dense(1, activation='linear')\n",
    "        ])\n",
    "        \n",
    "encoder.compile(loss=losses.mean_squared_error, optimizer=tf.keras.optimizers.Adam(0.0001))\n",
    "\n",
    "# retrain = True\n",
    "retrain = False\n",
    "if(retrain):\n",
    "    encoder.fit(X, Y, epochs=30)\n",
    "    encoder.save_weights('encoder.h5')\n",
    "else:\n",
    "    #build the model\n",
    "    encoder.predict(X)\n",
    "    encoder.load_weights(\"encoder.h5\")"
   ]
  },
  {
   "cell_type": "markdown",
   "metadata": {},
   "source": [
    "# Step 3: setup data to train homo predictor"
   ]
  },
  {
   "cell_type": "code",
   "execution_count": 4,
   "metadata": {},
   "outputs": [],
   "source": [
    "X_train = np.array(pd.read_csv(\"train_features.csv.zip\").iloc[:, 2:]).astype(np.float32)\n",
    "Y_train = np.array(pd.read_csv(\"train_labels.csv.zip\").iloc[:, 1:]).astype(np.float32)\n",
    "\n",
    "Y_gap = np.array(pd.read_csv(\"train_labels.csv.zip\").iloc[:, 1:]).astype(np.float32)\n",
    "\n",
    "Y_lumo = lumo_predictor.predict(X_train)\n",
    "\n",
    "Y_homo = -(Y_gap - Y_lumo)\n",
    "\n"
   ]
  },
  {
   "cell_type": "markdown",
   "metadata": {},
   "source": [
    "# Andys code: second encoder    \n"
   ]
  },
  {
   "cell_type": "code",
   "execution_count": 6,
   "metadata": {},
   "outputs": [
    {
     "name": "stdout",
     "output_type": "stream",
     "text": [
      "Epoch 1/30\n",
      "4/4 [==============================] - 0s 3ms/step - loss: 26.7655\n",
      "Epoch 2/30\n",
      "4/4 [==============================] - 0s 2ms/step - loss: 25.7166\n",
      "Epoch 3/30\n",
      "4/4 [==============================] - 0s 2ms/step - loss: 24.7259\n",
      "Epoch 4/30\n",
      "4/4 [==============================] - 0s 2ms/step - loss: 23.7623\n",
      "Epoch 5/30\n",
      "4/4 [==============================] - 0s 3ms/step - loss: 22.7589\n",
      "Epoch 6/30\n",
      "4/4 [==============================] - 0s 3ms/step - loss: 21.7486\n",
      "Epoch 7/30\n",
      "4/4 [==============================] - 0s 2ms/step - loss: 20.7057\n",
      "Epoch 8/30\n",
      "4/4 [==============================] - 0s 3ms/step - loss: 19.5761\n",
      "Epoch 9/30\n",
      "4/4 [==============================] - 0s 2ms/step - loss: 18.4082\n",
      "Epoch 10/30\n",
      "4/4 [==============================] - 0s 3ms/step - loss: 17.1644\n",
      "Epoch 11/30\n",
      "4/4 [==============================] - 0s 2ms/step - loss: 15.8590\n",
      "Epoch 12/30\n",
      "4/4 [==============================] - 0s 2ms/step - loss: 14.4865\n",
      "Epoch 13/30\n",
      "4/4 [==============================] - 0s 3ms/step - loss: 13.0595\n",
      "Epoch 14/30\n",
      "4/4 [==============================] - 0s 3ms/step - loss: 11.6037\n",
      "Epoch 15/30\n",
      "4/4 [==============================] - 0s 3ms/step - loss: 10.1216\n",
      "Epoch 16/30\n",
      "4/4 [==============================] - 0s 3ms/step - loss: 8.6538\n",
      "Epoch 17/30\n",
      "4/4 [==============================] - 0s 2ms/step - loss: 7.2279\n",
      "Epoch 18/30\n",
      "4/4 [==============================] - 0s 3ms/step - loss: 5.8711\n",
      "Epoch 19/30\n",
      "4/4 [==============================] - 0s 3ms/step - loss: 4.6269\n",
      "Epoch 20/30\n",
      "4/4 [==============================] - 0s 3ms/step - loss: 3.5211\n",
      "Epoch 21/30\n",
      "4/4 [==============================] - 0s 3ms/step - loss: 2.6027\n",
      "Epoch 22/30\n",
      "4/4 [==============================] - 0s 3ms/step - loss: 1.8860\n",
      "Epoch 23/30\n",
      "4/4 [==============================] - 0s 4ms/step - loss: 1.3504\n",
      "Epoch 24/30\n",
      "4/4 [==============================] - 0s 4ms/step - loss: 1.0151\n",
      "Epoch 25/30\n",
      "4/4 [==============================] - 0s 3ms/step - loss: 0.8338\n",
      "Epoch 26/30\n",
      "4/4 [==============================] - 0s 3ms/step - loss: 0.7358\n",
      "Epoch 27/30\n",
      "4/4 [==============================] - 0s 3ms/step - loss: 0.7170\n",
      "Epoch 28/30\n",
      "4/4 [==============================] - 0s 3ms/step - loss: 0.7211\n",
      "Epoch 29/30\n",
      "4/4 [==============================] - 0s 2ms/step - loss: 0.7163\n",
      "Epoch 30/30\n",
      "4/4 [==============================] - 0s 3ms/step - loss: 0.7057\n"
     ]
    }
   ],
   "source": [
    "# We add extra stuff to get more features to work with, we want to predict the homos of \n",
    "sec_encoder = tf.keras.Sequential([\n",
    "            #encoder\n",
    "            layers.Dense(64, activation=tf.keras.activations.linear, kernel_regularizer=l2(0.001), bias_regularizer=l2(0.001)),\n",
    "            #classifier\n",
    "            layers.Dense(512, activation=tf.keras.activations.relu, kernel_regularizer=l2(0.001), bias_regularizer=l2(0.001)),\n",
    "            # layers.Dense(1, activation='linear', kernel_regularizer=l2(0.001), bias_regularizer=l2(0.001))\n",
    "            layers.Dense(1, activation='linear')\n",
    "        ])\n",
    "        \n",
    "sec_encoder.compile(loss=losses.mean_squared_error, optimizer=tf.keras.optimizers.Adam(0.0001))\n",
    "\n",
    "retrain = True\n",
    "#retrain = False\n",
    "if(retrain):\n",
    "    sec_encoder.fit(X_train, Y_homo, epochs=30)\n",
    "    sec_encoder.save_weights('sec_encoder.h5')\n",
    "else:\n",
    "    #build the model\n",
    "    sec_encoder.predict(X_train)\n",
    "    sec_encoder.load_weights(\"sec_encoder.h5\")"
   ]
  },
  {
   "cell_type": "markdown",
   "metadata": {},
   "source": [
    "# Step 4: train homo predictor"
   ]
  },
  {
   "cell_type": "code",
   "execution_count": 7,
   "metadata": {},
   "outputs": [],
   "source": [
    "homo_predictor = tf.keras.Sequential([\n",
    "            #encoder\n",
    "            layers.Dense(64, activation=tf.keras.activations.linear, kernel_regularizer=l2(0.001), bias_regularizer=l2(0.001),trainable=False),\n",
    "            #classifier\n",
    "            layers.Dense(512, activation=tf.keras.activations.relu, kernel_regularizer=l2(0.001), bias_regularizer=l2(0.001)),\n",
    "            # layers.Dense(1, activation='linear', kernel_regularizer=l2(0.001), bias_regularizer=l2(0.001))\n",
    "            layers.Dense(1, activation='linear')\n",
    "        ])\n",
    "\n",
    "#build the model\n",
    "homo_predictor.predict(X_train)\n",
    "\n",
    "#transfer learning\n",
    "homo_predictor.load_weights(\"encoder.h5\")\n",
    "\n",
    "homo_predictor.compile(loss=losses.mean_squared_error, optimizer=tf.keras.optimizers.Adam(0.00001))\n",
    "history = homo_predictor.fit(X_train, Y_homo, epochs=20000,batch_size=100,verbose=False)\n",
    "\n"
   ]
  },
  {
   "cell_type": "markdown",
   "metadata": {},
   "source": [
    "# Step 5: test set"
   ]
  },
  {
   "cell_type": "code",
   "execution_count": 8,
   "metadata": {},
   "outputs": [],
   "source": [
    "X_test = np.array(pd.read_csv(\"test_features.csv.zip\").iloc[:, 2:]).astype(np.float32)\n",
    "sample = pd.read_csv(\"sample.csv\")\n",
    "\n",
    "\n",
    "homo = homo_predictor.predict(X_test)\n",
    "lumo = lumo_predictor.predict(X_test)\n",
    "\n",
    "sample[\"y\"] = (lumo-homo)\n",
    "\n",
    "sample.to_csv('submit.csv', index=False, float_format='%.5f')"
   ]
  }
 ],
 "metadata": {
  "interpreter": {
   "hash": "07200052a1a214cad871f0e7d98c5cd93b302d0e6911f799e5fdb1c5eb958239"
  },
  "kernelspec": {
   "display_name": "Python 3.9.7 ('base')",
   "language": "python",
   "name": "python3"
  },
  "language_info": {
   "codemirror_mode": {
    "name": "ipython",
    "version": 3
   },
   "file_extension": ".py",
   "mimetype": "text/x-python",
   "name": "python",
   "nbconvert_exporter": "python",
   "pygments_lexer": "ipython3",
   "version": "3.9.7"
  },
  "orig_nbformat": 4
 },
 "nbformat": 4,
 "nbformat_minor": 2
}
