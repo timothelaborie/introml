{
  "cells": [
    {
      "cell_type": "markdown",
      "metadata": {
        "id": "fA93WUy1zzWf"
      },
      "source": [
        "## Import stuff"
      ]
    },
    {
      "cell_type": "code",
      "execution_count": 1,
      "metadata": {
        "id": "-ZMgCvSRFqxE"
      },
      "outputs": [
        {
          "name": "stdout",
          "output_type": "stream",
          "text": [
            "2.3.0\n",
            "tensorflow detects GPU: \n",
            "[name: \"/device:CPU:0\"\n",
            "device_type: \"CPU\"\n",
            "memory_limit: 268435456\n",
            "locality {\n",
            "}\n",
            "incarnation: 7109170117696070960\n",
            "]\n",
            "\n",
            "[PhysicalDevice(name='/physical_device:CPU:0', device_type='CPU')]\n",
            "torch detects GPU:  True\n"
          ]
        }
      ],
      "source": [
        "import tensorflow as tf\n",
        "import os\n",
        "import matplotlib.pyplot as plt\n",
        "import numpy as np\n",
        "import pandas as pd\n",
        "from tensorflow.keras import layers\n",
        "import shutil\n",
        "import random\n",
        "from PIL import Image\n",
        "import numpy as np\n",
        "import logging\n",
        "from sklearn.metrics import mean_squared_error\n",
        "from sklearn.model_selection import KFold\n",
        "import torch \n",
        "import torch.jit\n",
        "import torch.nn as nn \n",
        "import torchvision\n",
        "from torchvision import transforms, datasets\n",
        "logger = tf.get_logger()\n",
        "logger.setLevel(logging.ERROR)\n",
        "os.environ[\"CUDA_VISIBLE_DEVICES\"]=\"0,1\"\n",
        "\n",
        "print(tf.__version__)\n",
        "\n",
        "from tensorflow.python.client import device_lib\n",
        "print(\"tensorflow detects GPU: \")\n",
        "print(device_lib.list_local_devices() )\n",
        "print(tf.test.gpu_device_name())\n",
        "print(tf.config.list_physical_devices())\n",
        "\n",
        "print(\"torch detects GPU: \" , torch.cuda.is_available())\n"
      ]
    },
    {
      "cell_type": "markdown",
      "metadata": {
        "id": "AC3EQFi20buB"
      },
      "source": [
        "## Load training data from csv\n"
      ]
    },
    {
      "cell_type": "code",
      "execution_count": 3,
      "metadata": {},
      "outputs": [
        {
          "name": "stdout",
          "output_type": "stream",
          "text": [
            "[   87.19891672   -67.27010868    28.53822962   158.07550392\n",
            "  -819.69642955   200.04958807  -393.54175642  1953.26216027\n",
            "  -523.63288817  1518.93422164   -86.60565699    65.34027498\n",
            "   -30.99213078  -155.77167729   822.10809666   327.10998801\n",
            "  -737.64020338  3890.67031254 -1211.22831196  3799.82175142\n",
            " -6689.18958011]\n"
          ]
        }
      ],
      "source": [
        "csv = pd.read_csv(\"train.csv\")\n",
        "\n",
        "Y = csv[\"y\"].tolist()\n",
        "\n",
        "X = np.array(csv[[\"x1\",\"x2\",\"x3\",\"x4\",\"x5\"]].values)\n",
        "\n",
        "X = np.array(X,  dtype=float)\n",
        "Y = np.array(Y,  dtype=float)\n",
        "\n",
        "features = np.zeros((X.shape[0],21),  dtype=float)\n",
        "\n",
        "for i in range(X.shape[0]):\n",
        "    features[i] = np.concatenate((X[i],X[i]**2,np.exp(X[i]),np.cos(X[i]),np.array([1],  dtype=float)))\n",
        "\n",
        "x = np.linalg.lstsq(features, Y, rcond=None)\n",
        "\n",
        "# print(x[0].shape)\n",
        "print(x[0])\n",
        "\n"
      ]
    },
    {
      "cell_type": "markdown",
      "metadata": {},
      "source": [
        "# Export results"
      ]
    },
    {
      "cell_type": "code",
      "execution_count": 4,
      "metadata": {},
      "outputs": [],
      "source": [
        "# write the RMSE to file \"submit.csv\"\n",
        "with open(\"submit.csv\", \"w\") as f:\n",
        "    for i in x[0]:\n",
        "        f.write(str(i) + \"\\n\")\n",
        "\n"
      ]
    }
  ],
  "metadata": {
    "colab": {
      "collapsed_sections": [],
      "name": "l02c01_celsius_to_fahrenheit.ipynb",
      "toc_visible": true
    },
    "kernelspec": {
      "display_name": "Python 3",
      "name": "python3"
    },
    "language_info": {
      "codemirror_mode": {
        "name": "ipython",
        "version": 3
      },
      "file_extension": ".py",
      "mimetype": "text/x-python",
      "name": "python",
      "nbconvert_exporter": "python",
      "pygments_lexer": "ipython3",
      "version": "3.8.8"
    }
  },
  "nbformat": 4,
  "nbformat_minor": 0
}
