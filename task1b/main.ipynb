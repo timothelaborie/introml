{
 "cells": [
  {
   "cell_type": "markdown",
   "id": "66ed1fe5",
   "metadata": {
    "id": "fA93WUy1zzWf"
   },
   "source": [
    "## Import stuff"
   ]
  },
  {
   "cell_type": "code",
   "execution_count": 1,
   "id": "0573a7df",
   "metadata": {},
   "outputs": [],
   "source": [
    "import numpy as np\n",
    "import pandas as pd\n",
    "    "
   ]
  },
  {
   "cell_type": "markdown",
   "id": "5498f19b",
   "metadata": {
    "id": "fA93WUy1zzWf"
   },
   "source": [
    "## Load training data"
   ]
  },
  {
   "cell_type": "code",
   "execution_count": 2,
   "id": "13cb80f3",
   "metadata": {},
   "outputs": [
    {
     "name": "stderr",
     "output_type": "stream",
     "text": [
      "C:\\Users\\andyt\\AppData\\Local\\Temp/ipykernel_44452/3222968692.py:15: FutureWarning: `rcond` parameter will change to the default of machine precision times ``max(M, N)`` where M and N are the input matrix dimensions.\n",
      "To use the future default and silence this warning we advise to pass `rcond=None`, to keep using the old, explicitly pass `rcond=-1`.\n",
      "  x = np.linalg.lstsq(A_transpose, y)\n"
     ]
    }
   ],
   "source": [
    "csv = pd.read_csv(\"train.csv\")\n",
    "y = csv[\"y\"].to_numpy()\n",
    "x_inputs = csv[[\"x1\", \"x2\", \"x3\", \"x4\", \"x5\"]].to_numpy()\n",
    "\n",
    "# apply all the operations, or actually get array A:\n",
    "# apply all the operations, or actually get array A:\n",
    "A = np.array([csv[\"x1\"], csv[\"x2\"], csv[\"x3\"], csv[\"x4\"], csv[\"x5\"],\n",
    "              np.square(csv[\"x1\"]), np.square(csv[\"x2\"]), np.square(csv[\"x3\"]), np.square(csv[\"x4\"]), np.square(csv[\"x5\"]),\n",
    "             np.exp(csv[\"x1\"]), np.exp(csv[\"x2\"]), np.exp(csv[\"x3\"]), np.exp(csv[\"x4\"]), np.exp(csv[\"x5\"]),\n",
    "             np.cos(csv[\"x1\"]), np.cos(csv[\"x2\"]), np.cos(csv[\"x3\"]), np.cos(csv[\"x4\"]), np.cos(csv[\"x5\"]),\n",
    "             np.ones_like(csv[\"x1\"])])\n",
    "\n",
    "\n",
    "A_transpose = np.transpose(A)\n",
    "x = np.linalg.lstsq(A_transpose, y)"
   ]
  },
  {
   "cell_type": "markdown",
   "id": "4bc3eca0",
   "metadata": {},
   "source": [
    "   ## Export"
   ]
  },
  {
   "cell_type": "code",
   "execution_count": 3,
   "id": "9fa60a5a",
   "metadata": {},
   "outputs": [],
   "source": [
    "with open(\"submit.csv\", \"w\") as f:\n",
    "    for i in x[0]:\n",
    "        f.write(str(i) + \"\\n\")"
   ]
  },
  {
   "cell_type": "code",
   "execution_count": null,
   "id": "8b0671ee",
   "metadata": {},
   "outputs": [],
   "source": []
  }
 ],
 "metadata": {
  "kernelspec": {
   "display_name": "Python 3 (ipykernel)",
   "language": "python",
   "name": "python3"
  },
  "language_info": {
   "codemirror_mode": {
    "name": "ipython",
    "version": 3
   },
   "file_extension": ".py",
   "mimetype": "text/x-python",
   "name": "python",
   "nbconvert_exporter": "python",
   "pygments_lexer": "ipython3",
   "version": "3.9.7"
  }
 },
 "nbformat": 4,
 "nbformat_minor": 5
}
