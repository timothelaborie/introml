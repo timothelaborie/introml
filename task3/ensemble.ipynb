{
 "cells": [
  {
   "cell_type": "markdown",
   "metadata": {
    "id": "fA93WUy1zzWf"
   },
   "source": [
    "## Import stuff"
   ]
  },
  {
   "cell_type": "code",
   "execution_count": 75,
   "metadata": {
    "id": "-ZMgCvSRFqxE"
   },
   "outputs": [
    {
     "name": "stdout",
     "output_type": "stream",
     "text": [
      "2.8.0\n"
     ]
    }
   ],
   "source": [
    "import tensorflow as tf\n",
    "from keras.losses import categorical_crossentropy, mean_squared_error\n",
    "from keras import layers\n",
    "\n",
    "import os\n",
    "import matplotlib.pyplot as plt\n",
    "import numpy as np\n",
    "import pandas as pd\n",
    "import shutil\n",
    "import random\n",
    "from PIL import Image\n",
    "import logging\n",
    "import time\n",
    "\n",
    "from sklearn.metrics import mean_squared_error\n",
    "from sklearn.model_selection import KFold\n",
    "import sklearn.metrics as metrics\n",
    "from sklearn.svm import SVC\n",
    "from sklearn import svm\n",
    "from sklearn import datasets\n",
    "from sklearn.pipeline import make_pipeline\n",
    "from sklearn.preprocessing import PolynomialFeatures\n",
    "from sklearn.kernel_ridge import KernelRidge\n",
    "from sklearn.linear_model import Ridge, RidgeCV, ElasticNet\n",
    "from sklearn.model_selection import cross_val_score,StratifiedKFold\n",
    "from sklearn.metrics import mean_squared_error\n",
    "from sklearn.linear_model import LogisticRegression\n",
    "from sklearn.ensemble import RandomForestClassifier\n",
    "from sklearn.ensemble import AdaBoostClassifier\n",
    "from sklearn.impute import KNNImputer\n",
    "from sklearn.model_selection import train_test_split\n",
    "from sklearn.preprocessing import StandardScaler\n",
    "from sklearn.datasets import make_moons, make_circles, make_classification\n",
    "from sklearn.neural_network import MLPClassifier\n",
    "from sklearn.neighbors import KNeighborsClassifier\n",
    "from sklearn.svm import SVC\n",
    "from sklearn.gaussian_process import GaussianProcessClassifier\n",
    "from sklearn.gaussian_process.kernels import RBF\n",
    "from sklearn.tree import DecisionTreeClassifier\n",
    "from sklearn.ensemble import RandomForestClassifier, AdaBoostClassifier, GradientBoostingClassifier, HistGradientBoostingClassifier, ExtraTreesClassifier\n",
    "from sklearn.naive_bayes import GaussianNB\n",
    "from sklearn.discriminant_analysis import QuadraticDiscriminantAnalysis\n",
    "from sklearn.feature_selection import SelectKBest\n",
    "from sklearn.feature_selection import chi2\n",
    "from sklearn.cluster import KMeans\n",
    "from sklearn.decomposition import PCA\n",
    "from sklearn.ensemble import HistGradientBoostingRegressor, ExtraTreesRegressor, RandomForestRegressor, AdaBoostRegressor, GradientBoostingRegressor\n",
    "from sklearn.mixture import BayesianGaussianMixture, GaussianMixture\n",
    "from sklearn.kernel_approximation import Nystroem\n",
    "from sklearn.preprocessing import MinMaxScaler\n",
    "\n",
    "from tqdm import tqdm\n",
    "import xgboost as xgb\n",
    "import lightgbm as lgb\n",
    "from catboost import CatBoostClassifier, CatBoostRegressor\n",
    "from lightgbm import LGBMClassifier, LGBMRegressor\n",
    "from xgboost import XGBClassifier, XGBRFClassifier, XGBRegressor, XGBRFRegressor\n",
    "\n",
    "logger = tf.get_logger()\n",
    "logger.setLevel(logging.ERROR)\n",
    "\n",
    "print(tf.__version__)\n",
    "\n",
    "\n",
    "def get_type(model):\n",
    "    return str(type(model)).split(\".\")[-1].split(\"'\")[0]\n",
    "\n",
    "\n"
   ]
  },
  {
   "cell_type": "markdown",
   "metadata": {
    "id": "AC3EQFi20buB"
   },
   "source": [
    "## Load training data from csv\n"
   ]
  },
  {
   "cell_type": "code",
   "execution_count": 76,
   "metadata": {},
   "outputs": [
    {
     "name": "stdout",
     "output_type": "stream",
     "text": [
      "X shape:  (7315, 2)\n",
      "Y shape:  (7315,)\n",
      "X shape:  (7476, 2)\n",
      "Y shape:  (7476,)\n"
     ]
    }
   ],
   "source": [
    "train_data = pd.read_csv(\"train_distances.csv\",index_col=0)\n",
    "train_labels = pd.read_csv(\"train_labels.txt\", header=None)\n",
    "val_data = pd.read_csv(\"val_distances.csv\",index_col=0)\n",
    "val_labels = pd.read_csv(\"val_labels.txt\", header=None)\n",
    "\n",
    "for data in [train_data, val_data]:\n",
    "    data.drop(\"anchor_left_distance_mn\", axis=1, inplace=True)\n",
    "    data.drop(\"anchor_right_distance_mn\", axis=1, inplace=True)\n",
    "    for extractor in [\"xl\",\"resnet\"]:\n",
    "        data[extractor] = data[\"anchor_left_distance_\"+extractor]-data[\"anchor_right_distance_\"+extractor]\n",
    "        data.drop(\"anchor_left_distance_\"+extractor, axis=1, inplace=True)\n",
    "        data.drop(\"anchor_right_distance_\"+extractor, axis=1, inplace=True)\n",
    "\n",
    "\n",
    "X_train = np.array(train_data.iloc[:, :].values,  dtype=float)\n",
    "Y_train = np.array(train_labels.iloc[:, :].values,  dtype=float).reshape(-1)\n",
    "X_val = np.array(val_data.iloc[:, :].values,  dtype=float)\n",
    "Y_val = np.array(val_labels.iloc[:, :].values,  dtype=float).reshape(-1)\n",
    "\n",
    "print(\"X shape: \", X_train.shape)\n",
    "print(\"Y shape: \", Y_train.shape)\n",
    "print(\"X shape: \", X_val.shape)\n",
    "print(\"Y shape: \", Y_val.shape)\n",
    "\n"
   ]
  },
  {
   "cell_type": "code",
   "execution_count": 77,
   "metadata": {},
   "outputs": [
    {
     "data": {
      "text/html": [
       "<div>\n",
       "<style scoped>\n",
       "    .dataframe tbody tr th:only-of-type {\n",
       "        vertical-align: middle;\n",
       "    }\n",
       "\n",
       "    .dataframe tbody tr th {\n",
       "        vertical-align: top;\n",
       "    }\n",
       "\n",
       "    .dataframe thead th {\n",
       "        text-align: right;\n",
       "    }\n",
       "</style>\n",
       "<table border=\"1\" class=\"dataframe\">\n",
       "  <thead>\n",
       "    <tr style=\"text-align: right;\">\n",
       "      <th></th>\n",
       "      <th>xl</th>\n",
       "      <th>resnet</th>\n",
       "    </tr>\n",
       "  </thead>\n",
       "  <tbody>\n",
       "    <tr>\n",
       "      <th>0</th>\n",
       "      <td>-0.554846</td>\n",
       "      <td>-0.738040</td>\n",
       "    </tr>\n",
       "    <tr>\n",
       "      <th>1</th>\n",
       "      <td>-0.495574</td>\n",
       "      <td>-0.504175</td>\n",
       "    </tr>\n",
       "    <tr>\n",
       "      <th>2</th>\n",
       "      <td>-0.122495</td>\n",
       "      <td>-0.710170</td>\n",
       "    </tr>\n",
       "    <tr>\n",
       "      <th>3</th>\n",
       "      <td>-0.525400</td>\n",
       "      <td>-0.376821</td>\n",
       "    </tr>\n",
       "    <tr>\n",
       "      <th>4</th>\n",
       "      <td>0.509301</td>\n",
       "      <td>0.556689</td>\n",
       "    </tr>\n",
       "    <tr>\n",
       "      <th>...</th>\n",
       "      <td>...</td>\n",
       "      <td>...</td>\n",
       "    </tr>\n",
       "    <tr>\n",
       "      <th>7310</th>\n",
       "      <td>-0.399301</td>\n",
       "      <td>-0.026181</td>\n",
       "    </tr>\n",
       "    <tr>\n",
       "      <th>7311</th>\n",
       "      <td>-0.148462</td>\n",
       "      <td>-0.340682</td>\n",
       "    </tr>\n",
       "    <tr>\n",
       "      <th>7312</th>\n",
       "      <td>-0.396075</td>\n",
       "      <td>-0.401896</td>\n",
       "    </tr>\n",
       "    <tr>\n",
       "      <th>7313</th>\n",
       "      <td>-0.612196</td>\n",
       "      <td>-0.661628</td>\n",
       "    </tr>\n",
       "    <tr>\n",
       "      <th>7314</th>\n",
       "      <td>-0.622744</td>\n",
       "      <td>-0.596276</td>\n",
       "    </tr>\n",
       "  </tbody>\n",
       "</table>\n",
       "<p>7315 rows × 2 columns</p>\n",
       "</div>"
      ],
      "text/plain": [
       "            xl    resnet\n",
       "0    -0.554846 -0.738040\n",
       "1    -0.495574 -0.504175\n",
       "2    -0.122495 -0.710170\n",
       "3    -0.525400 -0.376821\n",
       "4     0.509301  0.556689\n",
       "...        ...       ...\n",
       "7310 -0.399301 -0.026181\n",
       "7311 -0.148462 -0.340682\n",
       "7312 -0.396075 -0.401896\n",
       "7313 -0.612196 -0.661628\n",
       "7314 -0.622744 -0.596276\n",
       "\n",
       "[7315 rows x 2 columns]"
      ]
     },
     "execution_count": 77,
     "metadata": {},
     "output_type": "execute_result"
    }
   ],
   "source": [
    "train_data"
   ]
  },
  {
   "cell_type": "code",
   "execution_count": 78,
   "metadata": {},
   "outputs": [
    {
     "name": "stdout",
     "output_type": "stream",
     "text": [
      "[[-0.5548462 -0.73804  ]\n",
      " [-0.4955739 -0.5041751]\n",
      " [-0.1224949 -0.7101702]\n",
      " ...\n",
      " [-0.3960754 -0.4018956]\n",
      " [-0.6121962 -0.6616282]\n",
      " [-0.6227437 -0.5962763]]\n"
     ]
    }
   ],
   "source": [
    "print(X_train)#[:,4:]"
   ]
  },
  {
   "cell_type": "markdown",
   "metadata": {
    "id": "VM7_9Klvq7MO"
   },
   "source": [
    "## The function that trains and rates models"
   ]
  },
  {
   "cell_type": "code",
   "execution_count": 79,
   "metadata": {},
   "outputs": [],
   "source": [
    "#baseline model that just checks the distances\n",
    "class MajorityVote():\n",
    "    def fit(self,X,Y):\n",
    "        a=1\n",
    "        \n",
    "    def predict_proba(self,X):\n",
    "        X_ = X#[:,4:]\n",
    "        pred = []\n",
    "        for row in X_:\n",
    "            score_left = 0\n",
    "            score_right = 0\n",
    "            score_left+=row[0]\n",
    "            score_left+=row[1]\n",
    "                \n",
    "\n",
    "\n",
    "            pred.append([0 if score_left>score_right else 1,1 if score_left>score_right else 0])\n",
    "\n",
    "        pred = np.array(pred)\n",
    "        print(pred.shape)\n",
    "        return pred\n"
   ]
  },
  {
   "cell_type": "code",
   "execution_count": 80,
   "metadata": {},
   "outputs": [
    {
     "name": "stdout",
     "output_type": "stream",
     "text": [
      "training model  MajorityVote\n",
      "(7476, 2)\n",
      "accuracy for MajorityVote :  0.7683253076511504 , time taken:  0 s\n",
      "training model  HistGradientBoostingClassifier\n",
      "accuracy for HistGradientBoostingClassifier :  0.7225789192081327 , time taken:  0 s\n",
      "training model  ExtraTreesClassifier\n",
      "accuracy for ExtraTreesClassifier :  0.7227126805778491 , time taken:  0 s\n",
      "training model  RandomForestClassifier\n",
      "accuracy for RandomForestClassifier :  0.722043873729267 , time taken:  0 s\n",
      "training model  XGBRFClassifier\n",
      "accuracy for XGBRFClassifier :  0.7406367041198502 , time taken:  0 s\n",
      "training model  XGBClassifier\n",
      "accuracy for XGBClassifier :  0.7253879079721777 , time taken:  0 s\n",
      "training model  LGBMClassifier\n",
      "accuracy for LGBMClassifier :  0.7212413055109684 , time taken:  0 s\n",
      "training model  CatBoostClassifier\n",
      "accuracy for CatBoostClassifier :  0.7285981808453719 , time taken:  3 s\n",
      "best model:  MajorityVote score:  0.7683253076511504 \n",
      "\n"
     ]
    }
   ],
   "source": [
    "classifiers = [\n",
    "    MajorityVote(),\n",
    "    HistGradientBoostingClassifier(),\n",
    "    ExtraTreesClassifier(),\n",
    "    RandomForestClassifier(),\n",
    "    XGBRFClassifier(),\n",
    "    XGBClassifier(),\n",
    "    LGBMClassifier(),\n",
    "    CatBoostClassifier(logging_level='Silent'),\n",
    "    # AutoML(task=\"classification\",time_budget=240,ensemble=False,auto_augment=False,verbose=False,estimator_list=['catboost']),\n",
    "]\n",
    "\n",
    "\n",
    "best_model = None\n",
    "best_accuracy = 0\n",
    "\n",
    "for model in classifiers:\n",
    "    start_time = time.time()\n",
    "    model_type = get_type(model)\n",
    "    print(\"training model \", model_type)\n",
    "\n",
    "    model.fit(X_train, Y_train)\n",
    "\n",
    "    pred = model.predict_proba(X_val)\n",
    "    # print(pred)\n",
    "    pred = pred[:,0]\n",
    "\n",
    "    accuracy = metrics.accuracy_score(Y_val, pred<0.5)\n",
    "        \n",
    "    print(\"accuracy for\",model_type,\": \" , accuracy,\", time taken: \",int(time.time() - start_time),\"s\")\n",
    "    if accuracy > best_accuracy:\n",
    "        best_accuracy = accuracy\n",
    "        best_model = model\n",
    "\n",
    "print(\"best model: \", get_type(best_model),\"score: \",best_accuracy,\"\\n\")\n",
    "\n",
    "\n"
   ]
  }
 ],
 "metadata": {
  "colab": {
   "collapsed_sections": [],
   "name": "l02c01_celsius_to_fahrenheit.ipynb",
   "toc_visible": true
  },
  "kernelspec": {
   "display_name": "Python 3.9.7 ('base')",
   "language": "python",
   "name": "python3"
  },
  "language_info": {
   "codemirror_mode": {
    "name": "ipython",
    "version": 3
   },
   "file_extension": ".py",
   "mimetype": "text/x-python",
   "name": "python",
   "nbconvert_exporter": "python",
   "pygments_lexer": "ipython3",
   "version": "3.9.7"
  },
  "vscode": {
   "interpreter": {
    "hash": "ad2bdc8ecc057115af97d19610ffacc2b4e99fae6737bb82f5d7fb13d2f2c186"
   }
  }
 },
 "nbformat": 4,
 "nbformat_minor": 0
}
