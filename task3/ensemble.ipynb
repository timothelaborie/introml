{
 "cells": [
  {
   "cell_type": "markdown",
   "metadata": {
    "id": "fA93WUy1zzWf"
   },
   "source": [
    "## Import stuff"
   ]
  },
  {
   "cell_type": "code",
   "execution_count": 71,
   "metadata": {
    "id": "-ZMgCvSRFqxE"
   },
   "outputs": [],
   "source": [
    "import os\n",
    "import matplotlib.pyplot as plt\n",
    "import numpy as np\n",
    "import pandas as pd\n",
    "import shutil\n",
    "import random\n",
    "from PIL import Image\n",
    "import logging\n",
    "import time\n",
    "import sklearn.metrics as metrics\n"
   ]
  },
  {
   "cell_type": "markdown",
   "metadata": {
    "id": "AC3EQFi20buB"
   },
   "source": [
    "## Load training data from csv\n"
   ]
  },
  {
   "cell_type": "code",
   "execution_count": 72,
   "metadata": {},
   "outputs": [
    {
     "name": "stdout",
     "output_type": "stream",
     "text": [
      "X shape:  (7471, 5)\n",
      "Y shape:  (7471,)\n"
     ]
    },
    {
     "data": {
      "text/html": [
       "<div>\n",
       "<style scoped>\n",
       "    .dataframe tbody tr th:only-of-type {\n",
       "        vertical-align: middle;\n",
       "    }\n",
       "\n",
       "    .dataframe tbody tr th {\n",
       "        vertical-align: top;\n",
       "    }\n",
       "\n",
       "    .dataframe thead th {\n",
       "        text-align: right;\n",
       "    }\n",
       "</style>\n",
       "<table border=\"1\" class=\"dataframe\">\n",
       "  <thead>\n",
       "    <tr style=\"text-align: right;\">\n",
       "      <th></th>\n",
       "      <th>xl</th>\n",
       "      <th>resnet</th>\n",
       "      <th>clip</th>\n",
       "      <th>vit</th>\n",
       "      <th>swin</th>\n",
       "    </tr>\n",
       "  </thead>\n",
       "  <tbody>\n",
       "    <tr>\n",
       "      <th>0</th>\n",
       "      <td>-0.297992</td>\n",
       "      <td>-0.462003</td>\n",
       "      <td>-0.497801</td>\n",
       "      <td>-0.304850</td>\n",
       "      <td>-0.556594</td>\n",
       "    </tr>\n",
       "    <tr>\n",
       "      <th>1</th>\n",
       "      <td>-0.171737</td>\n",
       "      <td>-0.072772</td>\n",
       "      <td>-0.203814</td>\n",
       "      <td>-0.099252</td>\n",
       "      <td>0.020896</td>\n",
       "    </tr>\n",
       "    <tr>\n",
       "      <th>2</th>\n",
       "      <td>0.173895</td>\n",
       "      <td>0.209145</td>\n",
       "      <td>-0.078201</td>\n",
       "      <td>-0.049250</td>\n",
       "      <td>0.043718</td>\n",
       "    </tr>\n",
       "    <tr>\n",
       "      <th>3</th>\n",
       "      <td>-0.675008</td>\n",
       "      <td>-0.787609</td>\n",
       "      <td>-1.093797</td>\n",
       "      <td>-1.215614</td>\n",
       "      <td>-0.732954</td>\n",
       "    </tr>\n",
       "    <tr>\n",
       "      <th>4</th>\n",
       "      <td>0.573244</td>\n",
       "      <td>0.468123</td>\n",
       "      <td>0.475904</td>\n",
       "      <td>-0.040818</td>\n",
       "      <td>0.330896</td>\n",
       "    </tr>\n",
       "    <tr>\n",
       "      <th>...</th>\n",
       "      <td>...</td>\n",
       "      <td>...</td>\n",
       "      <td>...</td>\n",
       "      <td>...</td>\n",
       "      <td>...</td>\n",
       "    </tr>\n",
       "    <tr>\n",
       "      <th>7466</th>\n",
       "      <td>-0.331405</td>\n",
       "      <td>-0.236907</td>\n",
       "      <td>-0.830325</td>\n",
       "      <td>-0.802837</td>\n",
       "      <td>-0.522852</td>\n",
       "    </tr>\n",
       "    <tr>\n",
       "      <th>7467</th>\n",
       "      <td>0.053754</td>\n",
       "      <td>0.338329</td>\n",
       "      <td>0.027265</td>\n",
       "      <td>0.135439</td>\n",
       "      <td>-0.199139</td>\n",
       "    </tr>\n",
       "    <tr>\n",
       "      <th>7468</th>\n",
       "      <td>-0.153118</td>\n",
       "      <td>-0.625337</td>\n",
       "      <td>0.112721</td>\n",
       "      <td>-0.260577</td>\n",
       "      <td>-0.326937</td>\n",
       "    </tr>\n",
       "    <tr>\n",
       "      <th>7469</th>\n",
       "      <td>0.373239</td>\n",
       "      <td>0.512580</td>\n",
       "      <td>0.491642</td>\n",
       "      <td>0.311056</td>\n",
       "      <td>0.357579</td>\n",
       "    </tr>\n",
       "    <tr>\n",
       "      <th>7470</th>\n",
       "      <td>-0.127248</td>\n",
       "      <td>0.270950</td>\n",
       "      <td>0.156477</td>\n",
       "      <td>0.054601</td>\n",
       "      <td>0.227370</td>\n",
       "    </tr>\n",
       "  </tbody>\n",
       "</table>\n",
       "<p>7471 rows × 5 columns</p>\n",
       "</div>"
      ],
      "text/plain": [
       "            xl    resnet      clip       vit      swin\n",
       "0    -0.297992 -0.462003 -0.497801 -0.304850 -0.556594\n",
       "1    -0.171737 -0.072772 -0.203814 -0.099252  0.020896\n",
       "2     0.173895  0.209145 -0.078201 -0.049250  0.043718\n",
       "3    -0.675008 -0.787609 -1.093797 -1.215614 -0.732954\n",
       "4     0.573244  0.468123  0.475904 -0.040818  0.330896\n",
       "...        ...       ...       ...       ...       ...\n",
       "7466 -0.331405 -0.236907 -0.830325 -0.802837 -0.522852\n",
       "7467  0.053754  0.338329  0.027265  0.135439 -0.199139\n",
       "7468 -0.153118 -0.625337  0.112721 -0.260577 -0.326937\n",
       "7469  0.373239  0.512580  0.491642  0.311056  0.357579\n",
       "7470 -0.127248  0.270950  0.156477  0.054601  0.227370\n",
       "\n",
       "[7471 rows x 5 columns]"
      ]
     },
     "execution_count": 72,
     "metadata": {},
     "output_type": "execute_result"
    }
   ],
   "source": [
    "val_data = pd.read_csv(\"val_distances.csv\",index_col=0)\n",
    "val_labels = pd.read_csv(\"val_labels.txt\", header=None)\n",
    "\n",
    "for extractor in [\"xl\",\"resnet\",\"clip\",\"vit\",\"swin\"]:\n",
    "    val_data[extractor] = val_data[\"anchor_left_distance_\"+extractor]-val_data[\"anchor_right_distance_\"+extractor]\n",
    "    val_data.drop(\"anchor_left_distance_\"+extractor, axis=1, inplace=True)\n",
    "    val_data.drop(\"anchor_right_distance_\"+extractor, axis=1, inplace=True)\n",
    "\n",
    "\n",
    "X_val = np.array(val_data.iloc[:, :].values,  dtype=float)\n",
    "Y_val = np.array(val_labels.iloc[:, :].values,  dtype=float).reshape(-1)\n",
    "\n",
    "print(\"X shape: \", X_val.shape)\n",
    "print(\"Y shape: \", Y_val.shape)\n",
    "\n",
    "val_data"
   ]
  },
  {
   "cell_type": "markdown",
   "metadata": {},
   "source": [
    "# weighted ensemble\n",
    "the weights would be kinda hard to estimate in practice, it would take a few server submissions. I just made the worse 2 models less important"
   ]
  },
  {
   "cell_type": "code",
   "execution_count": 91,
   "metadata": {},
   "outputs": [
    {
     "data": {
      "text/plain": [
       "0.7823584526837103"
      ]
     },
     "execution_count": 91,
     "metadata": {},
     "output_type": "execute_result"
    }
   ],
   "source": [
    "pred = []\n",
    "for row in X_val:\n",
    "    score_left = 0.5*row[0]+row[1]+row[2]+0.5*row[3]\n",
    "    pred.append(score_left>0)\n",
    "\n",
    "pred = np.array(pred)\n",
    "accuracy = metrics.accuracy_score(Y_val, pred)\n",
    "accuracy"
   ]
  },
  {
   "cell_type": "markdown",
   "metadata": {},
   "source": [
    "# Majority vote\n",
    "performs worse"
   ]
  },
  {
   "cell_type": "code",
   "execution_count": 82,
   "metadata": {},
   "outputs": [
    {
     "data": {
      "text/plain": [
       "0.778744478650783"
      ]
     },
     "execution_count": 82,
     "metadata": {},
     "output_type": "execute_result"
    }
   ],
   "source": [
    "pred = []\n",
    "for row in X_val:\n",
    "    score_left = 0\n",
    "    score_left += row[0]>0\n",
    "    score_left += row[1]>0\n",
    "    score_left += row[2]>0\n",
    "    score_left += row[3]>0\n",
    "    score_left += row[4]>0\n",
    "    pred.append(0 if score_left>2 else 1)\n",
    "\n",
    "pred = np.array(pred)\n",
    "accuracy = metrics.accuracy_score(Y_val, pred<0.5)\n",
    "accuracy"
   ]
  }
 ],
 "metadata": {
  "colab": {
   "collapsed_sections": [],
   "name": "l02c01_celsius_to_fahrenheit.ipynb",
   "toc_visible": true
  },
  "kernelspec": {
   "display_name": "Python 3.9.7 ('base')",
   "language": "python",
   "name": "python3"
  },
  "language_info": {
   "codemirror_mode": {
    "name": "ipython",
    "version": 3
   },
   "file_extension": ".py",
   "mimetype": "text/x-python",
   "name": "python",
   "nbconvert_exporter": "python",
   "pygments_lexer": "ipython3",
   "version": "3.9.7"
  },
  "vscode": {
   "interpreter": {
    "hash": "ad2bdc8ecc057115af97d19610ffacc2b4e99fae6737bb82f5d7fb13d2f2c186"
   }
  }
 },
 "nbformat": 4,
 "nbformat_minor": 0
}
