{
 "cells": [
  {
   "cell_type": "markdown",
   "metadata": {
    "id": "fA93WUy1zzWf"
   },
   "source": [
    "## Import stuff"
   ]
  },
  {
   "cell_type": "code",
   "execution_count": 5,
   "metadata": {
    "id": "-ZMgCvSRFqxE"
   },
   "outputs": [],
   "source": [
    "import os\n",
    "import matplotlib.pyplot as plt\n",
    "import numpy as np\n",
    "import pandas as pd\n",
    "import shutil\n",
    "import random\n",
    "from PIL import Image\n",
    "import logging\n",
    "import time\n",
    "import sklearn.metrics as metrics\n"
   ]
  },
  {
   "cell_type": "markdown",
   "metadata": {
    "id": "AC3EQFi20buB"
   },
   "source": [
    "## Load training data from csv\n"
   ]
  },
  {
   "cell_type": "code",
   "execution_count": 6,
   "metadata": {},
   "outputs": [
    {
     "name": "stdout",
     "output_type": "stream",
     "text": [
      "X shape:  (7476, 8)\n",
      "Y shape:  (7476,)\n"
     ]
    },
    {
     "data": {
      "text/html": [
       "<div>\n",
       "<style scoped>\n",
       "    .dataframe tbody tr th:only-of-type {\n",
       "        vertical-align: middle;\n",
       "    }\n",
       "\n",
       "    .dataframe tbody tr th {\n",
       "        vertical-align: top;\n",
       "    }\n",
       "\n",
       "    .dataframe thead th {\n",
       "        text-align: right;\n",
       "    }\n",
       "</style>\n",
       "<table border=\"1\" class=\"dataframe\">\n",
       "  <thead>\n",
       "    <tr style=\"text-align: right;\">\n",
       "      <th></th>\n",
       "      <th>xl</th>\n",
       "      <th>resnet</th>\n",
       "      <th>clip</th>\n",
       "      <th>vit</th>\n",
       "      <th>merged</th>\n",
       "      <th>vit2</th>\n",
       "      <th>vit3</th>\n",
       "      <th>clip2</th>\n",
       "    </tr>\n",
       "  </thead>\n",
       "  <tbody>\n",
       "    <tr>\n",
       "      <th>0</th>\n",
       "      <td>-0.376129</td>\n",
       "      <td>-0.326017</td>\n",
       "      <td>-0.570965</td>\n",
       "      <td>-0.435678</td>\n",
       "      <td>-0.324292</td>\n",
       "      <td>-0.437379</td>\n",
       "      <td>-0.405525</td>\n",
       "      <td>-85.09982</td>\n",
       "    </tr>\n",
       "    <tr>\n",
       "      <th>1</th>\n",
       "      <td>-0.122618</td>\n",
       "      <td>-0.079811</td>\n",
       "      <td>-0.140376</td>\n",
       "      <td>-0.157509</td>\n",
       "      <td>-0.078924</td>\n",
       "      <td>-0.030681</td>\n",
       "      <td>0.067282</td>\n",
       "      <td>8.52122</td>\n",
       "    </tr>\n",
       "    <tr>\n",
       "      <th>2</th>\n",
       "      <td>0.261849</td>\n",
       "      <td>0.122114</td>\n",
       "      <td>-0.125301</td>\n",
       "      <td>0.011873</td>\n",
       "      <td>0.118544</td>\n",
       "      <td>-0.006831</td>\n",
       "      <td>0.411156</td>\n",
       "      <td>-57.96423</td>\n",
       "    </tr>\n",
       "    <tr>\n",
       "      <th>3</th>\n",
       "      <td>-0.547212</td>\n",
       "      <td>-0.657696</td>\n",
       "      <td>-1.082755</td>\n",
       "      <td>-1.271609</td>\n",
       "      <td>-0.993155</td>\n",
       "      <td>-1.251610</td>\n",
       "      <td>-1.061877</td>\n",
       "      <td>-141.26286</td>\n",
       "    </tr>\n",
       "    <tr>\n",
       "      <th>4</th>\n",
       "      <td>0.644307</td>\n",
       "      <td>0.251229</td>\n",
       "      <td>0.540372</td>\n",
       "      <td>-0.003367</td>\n",
       "      <td>0.064256</td>\n",
       "      <td>-0.044709</td>\n",
       "      <td>0.187157</td>\n",
       "      <td>30.28979</td>\n",
       "    </tr>\n",
       "    <tr>\n",
       "      <th>...</th>\n",
       "      <td>...</td>\n",
       "      <td>...</td>\n",
       "      <td>...</td>\n",
       "      <td>...</td>\n",
       "      <td>...</td>\n",
       "      <td>...</td>\n",
       "      <td>...</td>\n",
       "      <td>...</td>\n",
       "    </tr>\n",
       "    <tr>\n",
       "      <th>7471</th>\n",
       "      <td>0.105163</td>\n",
       "      <td>-0.299347</td>\n",
       "      <td>-0.152062</td>\n",
       "      <td>-0.087760</td>\n",
       "      <td>-0.040323</td>\n",
       "      <td>-0.124638</td>\n",
       "      <td>0.085406</td>\n",
       "      <td>-12.63158</td>\n",
       "    </tr>\n",
       "    <tr>\n",
       "      <th>7472</th>\n",
       "      <td>0.105163</td>\n",
       "      <td>-0.299347</td>\n",
       "      <td>-0.152062</td>\n",
       "      <td>-0.087760</td>\n",
       "      <td>-0.040323</td>\n",
       "      <td>-0.124638</td>\n",
       "      <td>0.085406</td>\n",
       "      <td>-12.63158</td>\n",
       "    </tr>\n",
       "    <tr>\n",
       "      <th>7473</th>\n",
       "      <td>0.105163</td>\n",
       "      <td>-0.299347</td>\n",
       "      <td>-0.152062</td>\n",
       "      <td>-0.087760</td>\n",
       "      <td>-0.040323</td>\n",
       "      <td>-0.124638</td>\n",
       "      <td>0.085406</td>\n",
       "      <td>-12.63158</td>\n",
       "    </tr>\n",
       "    <tr>\n",
       "      <th>7474</th>\n",
       "      <td>0.105163</td>\n",
       "      <td>-0.299347</td>\n",
       "      <td>-0.152062</td>\n",
       "      <td>-0.087760</td>\n",
       "      <td>-0.040323</td>\n",
       "      <td>-0.124638</td>\n",
       "      <td>0.085406</td>\n",
       "      <td>-12.63158</td>\n",
       "    </tr>\n",
       "    <tr>\n",
       "      <th>7475</th>\n",
       "      <td>-0.105163</td>\n",
       "      <td>0.299347</td>\n",
       "      <td>0.152062</td>\n",
       "      <td>0.087760</td>\n",
       "      <td>0.040323</td>\n",
       "      <td>0.124638</td>\n",
       "      <td>-0.085406</td>\n",
       "      <td>12.63158</td>\n",
       "    </tr>\n",
       "  </tbody>\n",
       "</table>\n",
       "<p>7476 rows × 8 columns</p>\n",
       "</div>"
      ],
      "text/plain": [
       "            xl    resnet      clip       vit    merged      vit2      vit3  \\\n",
       "0    -0.376129 -0.326017 -0.570965 -0.435678 -0.324292 -0.437379 -0.405525   \n",
       "1    -0.122618 -0.079811 -0.140376 -0.157509 -0.078924 -0.030681  0.067282   \n",
       "2     0.261849  0.122114 -0.125301  0.011873  0.118544 -0.006831  0.411156   \n",
       "3    -0.547212 -0.657696 -1.082755 -1.271609 -0.993155 -1.251610 -1.061877   \n",
       "4     0.644307  0.251229  0.540372 -0.003367  0.064256 -0.044709  0.187157   \n",
       "...        ...       ...       ...       ...       ...       ...       ...   \n",
       "7471  0.105163 -0.299347 -0.152062 -0.087760 -0.040323 -0.124638  0.085406   \n",
       "7472  0.105163 -0.299347 -0.152062 -0.087760 -0.040323 -0.124638  0.085406   \n",
       "7473  0.105163 -0.299347 -0.152062 -0.087760 -0.040323 -0.124638  0.085406   \n",
       "7474  0.105163 -0.299347 -0.152062 -0.087760 -0.040323 -0.124638  0.085406   \n",
       "7475 -0.105163  0.299347  0.152062  0.087760  0.040323  0.124638 -0.085406   \n",
       "\n",
       "          clip2  \n",
       "0     -85.09982  \n",
       "1       8.52122  \n",
       "2     -57.96423  \n",
       "3    -141.26286  \n",
       "4      30.28979  \n",
       "...         ...  \n",
       "7471  -12.63158  \n",
       "7472  -12.63158  \n",
       "7473  -12.63158  \n",
       "7474  -12.63158  \n",
       "7475   12.63158  \n",
       "\n",
       "[7476 rows x 8 columns]"
      ]
     },
     "execution_count": 6,
     "metadata": {},
     "output_type": "execute_result"
    }
   ],
   "source": [
    "val_data = pd.read_csv(\"val_distances.csv\",index_col=0)\n",
    "val_labels = pd.read_csv(\"val_labels.txt\", header=None)\n",
    "\n",
    "\n",
    "val_data.drop(\"anchor_left_distance_mn\", axis=1, inplace=True)\n",
    "val_data.drop(\"anchor_right_distance_mn\", axis=1, inplace=True)\n",
    "for extractor in [\"xl\",\"resnet\",\"clip\",\"vit\",\"merged\",\"vit2\",\"vit3\",\"clip2\"]:\n",
    "    val_data[extractor] = val_data[\"anchor_left_distance_\"+extractor]-val_data[\"anchor_right_distance_\"+extractor]\n",
    "    val_data.drop(\"anchor_left_distance_\"+extractor, axis=1, inplace=True)\n",
    "    val_data.drop(\"anchor_right_distance_\"+extractor, axis=1, inplace=True)\n",
    "\n",
    "\n",
    "X_val = np.array(val_data.iloc[:, :].values,  dtype=float)\n",
    "Y_val = np.array(val_labels.iloc[:, :].values,  dtype=float).reshape(-1)\n",
    "\n",
    "print(\"X shape: \", X_val.shape)\n",
    "print(\"Y shape: \", Y_val.shape)\n",
    "\n",
    "val_data"
   ]
  },
  {
   "cell_type": "code",
   "execution_count": 35,
   "metadata": {},
   "outputs": [
    {
     "data": {
      "text/plain": [
       "0.7839753879079722"
      ]
     },
     "execution_count": 35,
     "metadata": {},
     "output_type": "execute_result"
    }
   ],
   "source": [
    "pred = []\n",
    "for row in X_val:\n",
    "    # score_left = 0.5*row[0]+row[1]+row[2]+0.5*row[3]+0.05*row[4]\n",
    "    score_left = 0.5*row[0]+row[1]+row[2]+0.5*row[3]+0.05*row[4]\n",
    "    pred.append(0 if score_left>0 else 1)\n",
    "\n",
    "pred = np.array(pred)\n",
    "accuracy = metrics.accuracy_score(Y_val, pred<0.5)\n",
    "accuracy"
   ]
  },
  {
   "cell_type": "code",
   "execution_count": 22,
   "metadata": {},
   "outputs": [
    {
     "data": {
      "text/plain": [
       "0.7748796147672552"
      ]
     },
     "execution_count": 22,
     "metadata": {},
     "output_type": "execute_result"
    }
   ],
   "source": [
    "pred = []\n",
    "for row in X_val:\n",
    "    score_left = 0\n",
    "    score_left += row[0]>0\n",
    "    score_left += row[1]>0\n",
    "    score_left += row[2]>0\n",
    "    score_left += row[3]>0\n",
    "    score_left += row[4]>0\n",
    "    pred.append(0 if score_left>2 else 1)\n",
    "\n",
    "pred = np.array(pred)\n",
    "accuracy = metrics.accuracy_score(Y_val, pred<0.5)\n",
    "accuracy"
   ]
  }
 ],
 "metadata": {
  "colab": {
   "collapsed_sections": [],
   "name": "l02c01_celsius_to_fahrenheit.ipynb",
   "toc_visible": true
  },
  "kernelspec": {
   "display_name": "Python 3.9.7 ('base')",
   "language": "python",
   "name": "python3"
  },
  "language_info": {
   "codemirror_mode": {
    "name": "ipython",
    "version": 3
   },
   "file_extension": ".py",
   "mimetype": "text/x-python",
   "name": "python",
   "nbconvert_exporter": "python",
   "pygments_lexer": "ipython3",
   "version": "3.9.7"
  },
  "vscode": {
   "interpreter": {
    "hash": "ad2bdc8ecc057115af97d19610ffacc2b4e99fae6737bb82f5d7fb13d2f2c186"
   }
  }
 },
 "nbformat": 4,
 "nbformat_minor": 0
}
