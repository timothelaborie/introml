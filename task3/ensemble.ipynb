{
 "cells": [
  {
   "cell_type": "markdown",
   "metadata": {
    "id": "fA93WUy1zzWf"
   },
   "source": [
    "## Import stuff"
   ]
  },
  {
   "cell_type": "code",
   "execution_count": 4,
   "metadata": {
    "id": "-ZMgCvSRFqxE"
   },
   "outputs": [],
   "source": [
    "import os\n",
    "import matplotlib.pyplot as plt\n",
    "import numpy as np\n",
    "import pandas as pd\n",
    "import shutil\n",
    "import random\n",
    "from PIL import Image\n",
    "import logging\n",
    "import time\n",
    "import sklearn.metrics as metrics\n"
   ]
  },
  {
   "cell_type": "markdown",
   "metadata": {
    "id": "AC3EQFi20buB"
   },
   "source": [
    "## Load training data from csv\n"
   ]
  },
  {
   "cell_type": "code",
   "execution_count": 5,
   "metadata": {},
   "outputs": [
    {
     "name": "stdout",
     "output_type": "stream",
     "text": [
      "X shape:  (7476, 2)\n",
      "Y shape:  (7476,)\n"
     ]
    }
   ],
   "source": [
    "val_data = pd.read_csv(\"val_distances.csv\",index_col=0)\n",
    "val_labels = pd.read_csv(\"val_labels.txt\", header=None)\n",
    "\n",
    "\n",
    "val_data.drop(\"anchor_left_distance_mn\", axis=1, inplace=True)\n",
    "val_data.drop(\"anchor_right_distance_mn\", axis=1, inplace=True)\n",
    "for extractor in [\"xl\",\"resnet\"]:\n",
    "    val_data[extractor] = val_data[\"anchor_left_distance_\"+extractor]-val_data[\"anchor_right_distance_\"+extractor]\n",
    "    val_data.drop(\"anchor_left_distance_\"+extractor, axis=1, inplace=True)\n",
    "    val_data.drop(\"anchor_right_distance_\"+extractor, axis=1, inplace=True)\n",
    "\n",
    "\n",
    "X_val = np.array(val_data.iloc[:, :].values,  dtype=float)\n",
    "Y_val = np.array(val_labels.iloc[:, :].values,  dtype=float).reshape(-1)\n",
    "\n",
    "print(\"X shape: \", X_val.shape)\n",
    "print(\"Y shape: \", Y_val.shape)\n",
    "\n"
   ]
  },
  {
   "cell_type": "code",
   "execution_count": 6,
   "metadata": {},
   "outputs": [
    {
     "data": {
      "text/plain": [
       "0.7683253076511504"
      ]
     },
     "execution_count": 6,
     "metadata": {},
     "output_type": "execute_result"
    }
   ],
   "source": [
    "pred = []\n",
    "for row in X_val:\n",
    "    score_left = row[0]+row[1]\n",
    "    pred.append(0 if score_left>0 else 1)\n",
    "\n",
    "pred = np.array(pred)\n",
    "accuracy = metrics.accuracy_score(Y_val, pred<0.5)\n",
    "accuracy"
   ]
  }
 ],
 "metadata": {
  "colab": {
   "collapsed_sections": [],
   "name": "l02c01_celsius_to_fahrenheit.ipynb",
   "toc_visible": true
  },
  "kernelspec": {
   "display_name": "Python 3.9.7 ('base')",
   "language": "python",
   "name": "python3"
  },
  "language_info": {
   "codemirror_mode": {
    "name": "ipython",
    "version": 3
   },
   "file_extension": ".py",
   "mimetype": "text/x-python",
   "name": "python",
   "nbconvert_exporter": "python",
   "pygments_lexer": "ipython3",
   "version": "3.9.7"
  },
  "vscode": {
   "interpreter": {
    "hash": "ad2bdc8ecc057115af97d19610ffacc2b4e99fae6737bb82f5d7fb13d2f2c186"
   }
  }
 },
 "nbformat": 4,
 "nbformat_minor": 0
}
