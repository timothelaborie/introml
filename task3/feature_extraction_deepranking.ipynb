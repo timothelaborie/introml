{
  "cells": [
    {
      "cell_type": "markdown",
      "metadata": {
        "id": "FE7KNzPPVrVV"
      },
      "source": [
        "# Task 3"
      ]
    },
    {
      "cell_type": "markdown",
      "metadata": {
        "id": "zF9uvbXNVrVY"
      },
      "source": [
        "# Importing packages"
      ]
    },
    {
      "cell_type": "code",
      "execution_count": 1,
      "metadata": {
        "id": "oSdjGwVWGshH"
      },
      "outputs": [
        {
          "name": "stdout",
          "output_type": "stream",
          "text": [
            "2.8.0\n"
          ]
        }
      ],
      "source": [
        "from sklearn.experimental import enable_hist_gradient_boosting\n",
        "from sklearn.ensemble import HistGradientBoostingRegressor\n",
        "\n",
        "import tensorflow as tf\n",
        "import os\n",
        "import matplotlib.pyplot as plt\n",
        "import numpy as np\n",
        "import pandas as pd\n",
        "from tensorflow.keras import layers\n",
        "import shutil\n",
        "import random\n",
        "from PIL import Image\n",
        "import numpy as np\n",
        "import logging\n",
        "from sklearn.metrics import mean_squared_error\n",
        "from sklearn.model_selection import KFold\n",
        "import sklearn.metrics as metrics\n",
        "from sklearn.svm import SVC\n",
        "from sklearn import svm\n",
        "from sklearn import datasets\n",
        "from sklearn.pipeline import make_pipeline\n",
        "from sklearn.preprocessing import PolynomialFeatures\n",
        "from sklearn.kernel_ridge import KernelRidge\n",
        "from sklearn.linear_model import Ridge, RidgeCV, ElasticNet\n",
        "from sklearn.model_selection import cross_val_score\n",
        "from sklearn.metrics import mean_squared_error\n",
        "from sklearn.linear_model import LogisticRegression\n",
        "from sklearn.ensemble import RandomForestClassifier\n",
        "from sklearn.ensemble import AdaBoostClassifier\n",
        "from sklearn.impute import KNNImputer\n",
        "from sklearn.model_selection import train_test_split\n",
        "from sklearn.preprocessing import StandardScaler\n",
        "from sklearn.datasets import make_moons, make_circles, make_classification\n",
        "from sklearn.neural_network import MLPClassifier\n",
        "from sklearn.neighbors import KNeighborsClassifier\n",
        "from sklearn.svm import SVC\n",
        "from sklearn.gaussian_process import GaussianProcessClassifier\n",
        "from sklearn.gaussian_process.kernels import RBF\n",
        "from sklearn.tree import DecisionTreeClassifier\n",
        "from sklearn.ensemble import RandomForestClassifier, AdaBoostClassifier, GradientBoostingClassifier, HistGradientBoostingClassifier, ExtraTreesClassifier\n",
        "from sklearn.naive_bayes import GaussianNB\n",
        "from sklearn.discriminant_analysis import QuadraticDiscriminantAnalysis\n",
        "from sklearn.feature_selection import SelectKBest\n",
        "from sklearn.feature_selection import chi2\n",
        "from sklearn.cluster import KMeans\n",
        "from sklearn.decomposition import PCA\n",
        "from tensorflow.python.client import device_lib\n",
        "import tensorflow as tf\n",
        "from tensorflow.keras.preprocessing.image import ImageDataGenerator\n",
        "import os\n",
        "import matplotlib.pyplot as plt\n",
        "import numpy as np\n",
        "import pandas as pd\n",
        "from tensorflow.keras import layers\n",
        "import tensorflow_hub as hub\n",
        "import shutil\n",
        "import random\n",
        "from PIL import Image\n",
        "import pickle\n",
        "import shutil\n",
        "\n",
        "import logging\n",
        "logger = tf.get_logger()\n",
        "logger.setLevel(logging.ERROR)\n",
        "print(tf.__version__)"
      ]
    },
    {
      "cell_type": "markdown",
      "metadata": {
        "id": "UZZI6lNkVrVm"
      },
      "source": [
        "# Resizing the images"
      ]
    },
    {
      "cell_type": "code",
      "execution_count": 15,
      "metadata": {
        "id": "ssD23VbTZeVA"
      },
      "outputs": [],
      "source": [
        "# load every image in the food folder and resize them to 224x224, then save them in a new folder\n",
        "IMG_SHAPE = 224\n",
        "for filename in os.listdir('food'):\n",
        "    img = Image.open('food/' + filename)\n",
        "    img = img.resize((IMG_SHAPE, IMG_SHAPE))\n",
        "    img.save('food_'+str(IMG_SHAPE)+'/' + filename)\n"
      ]
    },
    {
      "cell_type": "markdown",
      "metadata": {},
      "source": [
        "# setting up the triplets for deep ranking"
      ]
    },
    {
      "cell_type": "code",
      "execution_count": 2,
      "metadata": {},
      "outputs": [
        {
          "name": "stdout",
          "output_type": "stream",
          "text": [
            "3000\n",
            "6000\n",
            "9000\n",
            "12000\n",
            "15000\n",
            "18000\n",
            "21000\n",
            "24000\n",
            "27000\n",
            "30000\n",
            "33000\n",
            "36000\n",
            "39000\n",
            "42000\n",
            "45000\n",
            "48000\n",
            "51000\n",
            "54000\n",
            "57000\n",
            "60000\n",
            "63000\n",
            "66000\n",
            "69000\n",
            "72000\n",
            "75000\n",
            "78000\n",
            "81000\n",
            "84000\n",
            "87000\n",
            "90000\n",
            "93000\n",
            "96000\n",
            "99000\n",
            "102000\n",
            "105000\n",
            "108000\n",
            "111000\n",
            "114000\n",
            "117000\n",
            "120000\n",
            "123000\n",
            "126000\n",
            "129000\n",
            "132000\n",
            "135000\n",
            "138000\n",
            "141000\n",
            "144000\n",
            "147000\n",
            "150000\n",
            "153000\n",
            "156000\n",
            "159000\n",
            "162000\n",
            "165000\n",
            "168000\n",
            "171000\n",
            "174000\n",
            "177000\n"
          ]
        }
      ],
      "source": [
        "line_id = 0\n",
        "with open('train_triplets.txt', 'r') as f:\n",
        "    # go through the lines\n",
        "    for line in f:\n",
        "        line = line.replace(\"\\n\", \"\")\n",
        "\n",
        "        shutil.copy(\"food_224/\" + line.split(' ')[0] + \".jpg\",\"triplets/class1/\" + str(line_id) + \".jpg\")\n",
        "        line_id += 1\n",
        "        shutil.copy(\"food_224/\" + line.split(' ')[1] + \".jpg\",\"triplets/class1/\" + str(line_id) + \".jpg\")\n",
        "        line_id += 1\n",
        "        shutil.copy(\"food_224/\" + line.split(' ')[2] + \".jpg\",\"triplets/class1/\" + str(line_id) + \".jpg\")\n",
        "        line_id += 1\n",
        "\n",
        "        if line_id % 1000 == 0:\n",
        "            print(line_id)\n",
        "            # break"
      ]
    }
  ],
  "metadata": {
    "accelerator": "GPU",
    "colab": {
      "collapsed_sections": [],
      "name": "l05c01_dogs_vs_cats_without_augmentation.ipynb",
      "toc_visible": true
    },
    "kernelspec": {
      "display_name": "Python 3",
      "name": "python3"
    },
    "language_info": {
      "codemirror_mode": {
        "name": "ipython",
        "version": 3
      },
      "file_extension": ".py",
      "mimetype": "text/x-python",
      "name": "python",
      "nbconvert_exporter": "python",
      "pygments_lexer": "ipython3",
      "version": "3.9.7"
    }
  },
  "nbformat": 4,
  "nbformat_minor": 0
}
