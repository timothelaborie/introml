{
 "cells": [
  {
   "cell_type": "code",
   "execution_count": 5,
   "metadata": {},
   "outputs": [],
   "source": [
    "import matplotlib.pyplot as plt\n",
    "import numpy as np\n",
    "import pandas as pd\n",
    "import logging\n",
    "import matplotlib.pyplot as plt\n",
    "import pandas as pd\n",
    "import tensorflow_hub as hub\n",
    "from PIL import Image\n",
    "import pickle\n",
    "import shutil\n",
    "import matplotlib.pyplot as plt\n",
    "import os\n",
    "import random\n",
    "from pathlib import Path\n"
   ]
  },
  {
   "cell_type": "code",
   "execution_count": 6,
   "metadata": {},
   "outputs": [],
   "source": [
    "triplets = np.loadtxt('./train_triplets.txt', dtype=str,delimiter = ' ')\n",
    "\n",
    "train_triplets = []\n",
    "train_triplets_shuffled = []\n",
    "train_labels = []\n",
    "val_triplets = []\n",
    "val_triplets_shuffled = []\n",
    "val_labels = []\n",
    "\n",
    "for triplet in triplets:\n",
    "    if(int(triplet[0]) < 2500 and int(triplet[1]) < 2500 and int(triplet[2]) < 2500):\n",
    "        train_triplets.append(triplet)\n",
    "        swap = random.uniform(0, 1) > 0.5\n",
    "        if swap:\n",
    "            train_triplets_shuffled.append([triplet[0], triplet[2], triplet[1]])\n",
    "            train_labels.append(1)\n",
    "        else:\n",
    "            train_triplets_shuffled.append(triplet)\n",
    "            train_labels.append(0)\n",
    "\n",
    "    if(int(triplet[0]) >= 2500 and int(triplet[1]) >= 2500 and int(triplet[2]) >= 2500):\n",
    "        val_triplets.append(triplet)\n",
    "        swap = random.uniform(0, 1) > 0.5\n",
    "        if swap:\n",
    "            val_triplets_shuffled.append([triplet[0], triplet[2], triplet[1]])\n",
    "            val_labels.append(1)\n",
    "        else:\n",
    "            val_triplets_shuffled.append(triplet)\n",
    "            val_labels.append(0)\n",
    "\n",
    "train_triplets = np.array(train_triplets)\n",
    "val_triplets = np.array(val_triplets)\n",
    "train_triplets_shuffled = np.array(train_triplets_shuffled)\n",
    "val_triplets_shuffled = np.array(val_triplets_shuffled)\n",
    "train_labels = np.array(train_labels)\n",
    "val_labels = np.array(val_labels)\n",
    "\n",
    "np.savetxt('./train_triplets_split.txt', train_triplets, fmt='%s')\n",
    "np.savetxt('./val_triplets_split.txt', val_triplets, fmt='%s')\n",
    "np.savetxt('./train_triplets_split_shuffled.txt', train_triplets_shuffled, fmt='%s')\n",
    "np.savetxt('./val_triplets_split_shuffled.txt', val_triplets_shuffled, fmt='%s')\n",
    "np.savetxt('./train_labels.txt', train_labels, fmt='%s')\n",
    "np.savetxt('./val_labels.txt', val_labels, fmt='%s')\n",
    "    "
   ]
  }
 ],
 "metadata": {
  "kernelspec": {
   "display_name": "Python 3.9.7 ('base')",
   "language": "python",
   "name": "python3"
  },
  "language_info": {
   "codemirror_mode": {
    "name": "ipython",
    "version": 3
   },
   "file_extension": ".py",
   "mimetype": "text/x-python",
   "name": "python",
   "nbconvert_exporter": "python",
   "pygments_lexer": "ipython3",
   "version": "3.9.7"
  },
  "orig_nbformat": 4,
  "vscode": {
   "interpreter": {
    "hash": "ad2bdc8ecc057115af97d19610ffacc2b4e99fae6737bb82f5d7fb13d2f2c186"
   }
  }
 },
 "nbformat": 4,
 "nbformat_minor": 2
}
