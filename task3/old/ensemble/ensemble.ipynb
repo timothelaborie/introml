{
 "cells": [
  {
   "cell_type": "markdown",
   "metadata": {
    "id": "fA93WUy1zzWf"
   },
   "source": [
    "## Import stuff"
   ]
  },
  {
   "cell_type": "code",
   "execution_count": 6,
   "metadata": {
    "id": "-ZMgCvSRFqxE"
   },
   "outputs": [],
   "source": [
    "import os\n",
    "import matplotlib.pyplot as plt\n",
    "import numpy as np\n",
    "import pandas as pd\n",
    "import shutil\n",
    "import random\n",
    "from PIL import Image\n",
    "import logging\n",
    "import time\n",
    "import sklearn.metrics as metrics\n"
   ]
  },
  {
   "cell_type": "markdown",
   "metadata": {
    "id": "AC3EQFi20buB"
   },
   "source": [
    "## Load training data from csv\n"
   ]
  },
  {
   "cell_type": "code",
   "execution_count": 7,
   "metadata": {},
   "outputs": [
    {
     "name": "stdout",
     "output_type": "stream",
     "text": [
      "X shape:  (7471, 12)\n",
      "Y shape:  (7471,)\n"
     ]
    },
    {
     "data": {
      "text/html": [
       "<div>\n",
       "<style scoped>\n",
       "    .dataframe tbody tr th:only-of-type {\n",
       "        vertical-align: middle;\n",
       "    }\n",
       "\n",
       "    .dataframe tbody tr th {\n",
       "        vertical-align: top;\n",
       "    }\n",
       "\n",
       "    .dataframe thead th {\n",
       "        text-align: right;\n",
       "    }\n",
       "</style>\n",
       "<table border=\"1\" class=\"dataframe\">\n",
       "  <thead>\n",
       "    <tr style=\"text-align: right;\">\n",
       "      <th></th>\n",
       "      <th>xl_1</th>\n",
       "      <th>xl_2</th>\n",
       "      <th>xl_3</th>\n",
       "      <th>resnet_1</th>\n",
       "      <th>resnet_2</th>\n",
       "      <th>resnet_3</th>\n",
       "      <th>clip_1</th>\n",
       "      <th>clip_2</th>\n",
       "      <th>clip_3</th>\n",
       "      <th>vit_1</th>\n",
       "      <th>vit_2</th>\n",
       "      <th>vit_3</th>\n",
       "    </tr>\n",
       "  </thead>\n",
       "  <tbody>\n",
       "    <tr>\n",
       "      <th>0</th>\n",
       "      <td>-0.322427</td>\n",
       "      <td>-0.350006</td>\n",
       "      <td>-0.408311</td>\n",
       "      <td>-0.474757</td>\n",
       "      <td>-0.470037</td>\n",
       "      <td>-0.568101</td>\n",
       "      <td>-0.445364</td>\n",
       "      <td>-0.510079</td>\n",
       "      <td>-0.553964</td>\n",
       "      <td>-0.397028</td>\n",
       "      <td>-0.283282</td>\n",
       "      <td>-0.429616</td>\n",
       "    </tr>\n",
       "    <tr>\n",
       "      <th>1</th>\n",
       "      <td>-0.142240</td>\n",
       "      <td>-0.115177</td>\n",
       "      <td>-0.127701</td>\n",
       "      <td>-0.141702</td>\n",
       "      <td>-0.067235</td>\n",
       "      <td>-0.134712</td>\n",
       "      <td>-0.160547</td>\n",
       "      <td>-0.120491</td>\n",
       "      <td>-0.093794</td>\n",
       "      <td>-0.105658</td>\n",
       "      <td>-0.023801</td>\n",
       "      <td>0.035956</td>\n",
       "    </tr>\n",
       "    <tr>\n",
       "      <th>2</th>\n",
       "      <td>0.010238</td>\n",
       "      <td>0.125666</td>\n",
       "      <td>0.059033</td>\n",
       "      <td>0.091578</td>\n",
       "      <td>0.070494</td>\n",
       "      <td>0.142473</td>\n",
       "      <td>-0.107461</td>\n",
       "      <td>-0.118825</td>\n",
       "      <td>-0.164650</td>\n",
       "      <td>0.004763</td>\n",
       "      <td>-0.126344</td>\n",
       "      <td>-0.035216</td>\n",
       "    </tr>\n",
       "    <tr>\n",
       "      <th>3</th>\n",
       "      <td>-0.569890</td>\n",
       "      <td>-0.685985</td>\n",
       "      <td>-0.639338</td>\n",
       "      <td>-0.648733</td>\n",
       "      <td>-0.668245</td>\n",
       "      <td>-0.601180</td>\n",
       "      <td>-1.094588</td>\n",
       "      <td>-0.829342</td>\n",
       "      <td>-0.856445</td>\n",
       "      <td>-1.149241</td>\n",
       "      <td>-1.038974</td>\n",
       "      <td>-1.183547</td>\n",
       "    </tr>\n",
       "    <tr>\n",
       "      <th>4</th>\n",
       "      <td>0.399750</td>\n",
       "      <td>0.567964</td>\n",
       "      <td>0.464068</td>\n",
       "      <td>0.367554</td>\n",
       "      <td>0.418747</td>\n",
       "      <td>0.442058</td>\n",
       "      <td>0.340783</td>\n",
       "      <td>0.567723</td>\n",
       "      <td>0.496654</td>\n",
       "      <td>-0.112918</td>\n",
       "      <td>-0.126657</td>\n",
       "      <td>-0.116630</td>\n",
       "    </tr>\n",
       "    <tr>\n",
       "      <th>...</th>\n",
       "      <td>...</td>\n",
       "      <td>...</td>\n",
       "      <td>...</td>\n",
       "      <td>...</td>\n",
       "      <td>...</td>\n",
       "      <td>...</td>\n",
       "      <td>...</td>\n",
       "      <td>...</td>\n",
       "      <td>...</td>\n",
       "      <td>...</td>\n",
       "      <td>...</td>\n",
       "      <td>...</td>\n",
       "    </tr>\n",
       "    <tr>\n",
       "      <th>7466</th>\n",
       "      <td>-0.530465</td>\n",
       "      <td>-0.427475</td>\n",
       "      <td>-0.370071</td>\n",
       "      <td>-0.262559</td>\n",
       "      <td>-0.203195</td>\n",
       "      <td>-0.280204</td>\n",
       "      <td>-0.985189</td>\n",
       "      <td>-0.743111</td>\n",
       "      <td>-0.688317</td>\n",
       "      <td>-0.645051</td>\n",
       "      <td>-0.743211</td>\n",
       "      <td>-0.647058</td>\n",
       "    </tr>\n",
       "    <tr>\n",
       "      <th>7467</th>\n",
       "      <td>-0.124510</td>\n",
       "      <td>-0.034409</td>\n",
       "      <td>-0.016012</td>\n",
       "      <td>0.229187</td>\n",
       "      <td>0.142706</td>\n",
       "      <td>0.187024</td>\n",
       "      <td>-0.053910</td>\n",
       "      <td>0.052951</td>\n",
       "      <td>-0.040656</td>\n",
       "      <td>0.128241</td>\n",
       "      <td>0.155499</td>\n",
       "      <td>0.056485</td>\n",
       "    </tr>\n",
       "    <tr>\n",
       "      <th>7468</th>\n",
       "      <td>-0.098082</td>\n",
       "      <td>-0.212675</td>\n",
       "      <td>-0.213816</td>\n",
       "      <td>-0.503593</td>\n",
       "      <td>-0.617256</td>\n",
       "      <td>-0.548742</td>\n",
       "      <td>0.071487</td>\n",
       "      <td>0.207409</td>\n",
       "      <td>0.178167</td>\n",
       "      <td>-0.135269</td>\n",
       "      <td>-0.286125</td>\n",
       "      <td>-0.302154</td>\n",
       "    </tr>\n",
       "    <tr>\n",
       "      <th>7469</th>\n",
       "      <td>0.393884</td>\n",
       "      <td>0.430400</td>\n",
       "      <td>0.369271</td>\n",
       "      <td>0.444265</td>\n",
       "      <td>0.546835</td>\n",
       "      <td>0.428938</td>\n",
       "      <td>0.521176</td>\n",
       "      <td>0.442475</td>\n",
       "      <td>0.541795</td>\n",
       "      <td>0.262059</td>\n",
       "      <td>0.299697</td>\n",
       "      <td>0.239632</td>\n",
       "    </tr>\n",
       "    <tr>\n",
       "      <th>7470</th>\n",
       "      <td>-0.059813</td>\n",
       "      <td>-0.120430</td>\n",
       "      <td>-0.213808</td>\n",
       "      <td>0.301479</td>\n",
       "      <td>0.269150</td>\n",
       "      <td>0.255386</td>\n",
       "      <td>0.123458</td>\n",
       "      <td>0.048776</td>\n",
       "      <td>0.090961</td>\n",
       "      <td>0.028901</td>\n",
       "      <td>0.079145</td>\n",
       "      <td>-0.052418</td>\n",
       "    </tr>\n",
       "  </tbody>\n",
       "</table>\n",
       "<p>7471 rows × 12 columns</p>\n",
       "</div>"
      ],
      "text/plain": [
       "          xl_1      xl_2      xl_3  resnet_1  resnet_2  resnet_3    clip_1  \\\n",
       "0    -0.322427 -0.350006 -0.408311 -0.474757 -0.470037 -0.568101 -0.445364   \n",
       "1    -0.142240 -0.115177 -0.127701 -0.141702 -0.067235 -0.134712 -0.160547   \n",
       "2     0.010238  0.125666  0.059033  0.091578  0.070494  0.142473 -0.107461   \n",
       "3    -0.569890 -0.685985 -0.639338 -0.648733 -0.668245 -0.601180 -1.094588   \n",
       "4     0.399750  0.567964  0.464068  0.367554  0.418747  0.442058  0.340783   \n",
       "...        ...       ...       ...       ...       ...       ...       ...   \n",
       "7466 -0.530465 -0.427475 -0.370071 -0.262559 -0.203195 -0.280204 -0.985189   \n",
       "7467 -0.124510 -0.034409 -0.016012  0.229187  0.142706  0.187024 -0.053910   \n",
       "7468 -0.098082 -0.212675 -0.213816 -0.503593 -0.617256 -0.548742  0.071487   \n",
       "7469  0.393884  0.430400  0.369271  0.444265  0.546835  0.428938  0.521176   \n",
       "7470 -0.059813 -0.120430 -0.213808  0.301479  0.269150  0.255386  0.123458   \n",
       "\n",
       "        clip_2    clip_3     vit_1     vit_2     vit_3  \n",
       "0    -0.510079 -0.553964 -0.397028 -0.283282 -0.429616  \n",
       "1    -0.120491 -0.093794 -0.105658 -0.023801  0.035956  \n",
       "2    -0.118825 -0.164650  0.004763 -0.126344 -0.035216  \n",
       "3    -0.829342 -0.856445 -1.149241 -1.038974 -1.183547  \n",
       "4     0.567723  0.496654 -0.112918 -0.126657 -0.116630  \n",
       "...        ...       ...       ...       ...       ...  \n",
       "7466 -0.743111 -0.688317 -0.645051 -0.743211 -0.647058  \n",
       "7467  0.052951 -0.040656  0.128241  0.155499  0.056485  \n",
       "7468  0.207409  0.178167 -0.135269 -0.286125 -0.302154  \n",
       "7469  0.442475  0.541795  0.262059  0.299697  0.239632  \n",
       "7470  0.048776  0.090961  0.028901  0.079145 -0.052418  \n",
       "\n",
       "[7471 rows x 12 columns]"
      ]
     },
     "execution_count": 7,
     "metadata": {},
     "output_type": "execute_result"
    }
   ],
   "source": [
    "val_data = pd.read_csv(\"val_distances.csv\",index_col=0)\n",
    "val_labels = pd.read_csv(\"val_labels.txt\", header=None)\n",
    "\n",
    "for extractor in [\"xl\",\"resnet\",\"clip\",\"vit\"]:\n",
    "    for i in range(1,4):\n",
    "        val_data[extractor+'_'+str(i)] = val_data[\"anchor_left_distance_\"+extractor+'_'+str(i)]-val_data[\"anchor_right_distance_\"+extractor+'_'+str(i)]\n",
    "        val_data.drop(\"anchor_left_distance_\"+extractor+'_'+str(i), axis=1, inplace=True)\n",
    "        val_data.drop(\"anchor_right_distance_\"+extractor+'_'+str(i), axis=1, inplace=True)\n",
    "\n",
    "\n",
    "X_val = np.array(val_data.iloc[:, :].values,  dtype=float)\n",
    "Y_val = np.array(val_labels.iloc[:, :].values,  dtype=float).reshape(-1)\n",
    "\n",
    "print(\"X shape: \", X_val.shape)\n",
    "print(\"Y shape: \", Y_val.shape)\n",
    "\n",
    "val_data"
   ]
  },
  {
   "cell_type": "markdown",
   "metadata": {},
   "source": [
    "# weighted ensemble\n",
    "the weights would be kinda hard to estimate in practice, it would take a few server submissions. I just made the worse 2 models less important"
   ]
  },
  {
   "cell_type": "code",
   "execution_count": 18,
   "metadata": {},
   "outputs": [
    {
     "data": {
      "text/plain": [
       "0.7600053540356043"
      ]
     },
     "execution_count": 18,
     "metadata": {},
     "output_type": "execute_result"
    }
   ],
   "source": [
    "pred = []\n",
    "for row in X_val:\n",
    "    # score_left = (row[0]+row[1]+row[2])/6 + (row[3]+row[4]+row[5])/3 + (row[6]+row[7]+row[8])/3 + (row[9]+row[10]+row[11])/6\n",
    "    score_left = (row[6]+row[7]+row[8])/3\n",
    "    pred.append(score_left>0)\n",
    "\n",
    "pred = np.array(pred)\n",
    "accuracy = metrics.accuracy_score(Y_val, pred)\n",
    "accuracy"
   ]
  },
  {
   "cell_type": "markdown",
   "metadata": {},
   "source": [
    "# Majority vote\n",
    "performs worse"
   ]
  },
  {
   "cell_type": "code",
   "execution_count": 17,
   "metadata": {},
   "outputs": [
    {
     "data": {
      "text/plain": [
       "0.7683041092223263"
      ]
     },
     "execution_count": 17,
     "metadata": {},
     "output_type": "execute_result"
    }
   ],
   "source": [
    "pred = []\n",
    "for row in X_val:\n",
    "    score_left = 0\n",
    "    for i in range(12):\n",
    "        score_left += row[i]>0\n",
    "\n",
    "    pred.append(0 if score_left>6 else 1)\n",
    "\n",
    "pred = np.array(pred)\n",
    "accuracy = metrics.accuracy_score(Y_val, pred<0.5)\n",
    "accuracy"
   ]
  },
  {
   "cell_type": "code",
   "execution_count": 10,
   "metadata": {},
   "outputs": [],
   "source": [
    "# val_data = pd.read_csv(\"val_distances.csv\",index_col=0)\n",
    "# val_data\n",
    "# val_data.drop(\"anchor_left_distance_swin\",inplace=True,axis=1)\n",
    "# val_data.drop(\"anchor_right_distance_swin\",inplace=True,axis=1)\n",
    "# val_data.to_csv(\"val_distances.csv\")"
   ]
  }
 ],
 "metadata": {
  "colab": {
   "collapsed_sections": [],
   "name": "l02c01_celsius_to_fahrenheit.ipynb",
   "toc_visible": true
  },
  "kernelspec": {
   "display_name": "Python 3.9.7 ('base')",
   "language": "python",
   "name": "python3"
  },
  "language_info": {
   "codemirror_mode": {
    "name": "ipython",
    "version": 3
   },
   "file_extension": ".py",
   "mimetype": "text/x-python",
   "name": "python",
   "nbconvert_exporter": "python",
   "pygments_lexer": "ipython3",
   "version": "3.9.7"
  },
  "vscode": {
   "interpreter": {
    "hash": "ad2bdc8ecc057115af97d19610ffacc2b4e99fae6737bb82f5d7fb13d2f2c186"
   }
  }
 },
 "nbformat": 4,
 "nbformat_minor": 0
}
