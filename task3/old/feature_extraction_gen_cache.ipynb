{
  "cells": [
    {
      "cell_type": "markdown",
      "metadata": {
        "id": "FE7KNzPPVrVV"
      },
      "source": [
        "# Obsolete file"
      ]
    },
    {
      "cell_type": "markdown",
      "metadata": {
        "id": "zF9uvbXNVrVY"
      },
      "source": [
        "# Importing packages"
      ]
    },
    {
      "cell_type": "code",
      "execution_count": 2,
      "metadata": {
        "id": "oSdjGwVWGshH"
      },
      "outputs": [
        {
          "name": "stdout",
          "output_type": "stream",
          "text": [
            "2.8.0\n"
          ]
        }
      ],
      "source": [
        "from sklearn.experimental import enable_hist_gradient_boosting\n",
        "from sklearn.ensemble import HistGradientBoostingRegressor\n",
        "\n",
        "import tensorflow as tf\n",
        "import os\n",
        "import matplotlib.pyplot as plt\n",
        "import numpy as np\n",
        "import pandas as pd\n",
        "from tensorflow.keras import layers\n",
        "import shutil\n",
        "import random\n",
        "from PIL import Image\n",
        "import numpy as np\n",
        "import logging\n",
        "from sklearn.metrics import mean_squared_error\n",
        "from sklearn.model_selection import KFold\n",
        "import sklearn.metrics as metrics\n",
        "from sklearn.svm import SVC\n",
        "from sklearn import svm\n",
        "from sklearn import datasets\n",
        "from sklearn.pipeline import make_pipeline\n",
        "from sklearn.preprocessing import PolynomialFeatures\n",
        "from sklearn.kernel_ridge import KernelRidge\n",
        "from sklearn.linear_model import Ridge, RidgeCV, ElasticNet\n",
        "from sklearn.model_selection import cross_val_score\n",
        "from sklearn.metrics import mean_squared_error\n",
        "from sklearn.linear_model import LogisticRegression\n",
        "from sklearn.ensemble import RandomForestClassifier\n",
        "from sklearn.ensemble import AdaBoostClassifier\n",
        "from sklearn.impute import KNNImputer\n",
        "from sklearn.model_selection import train_test_split\n",
        "from sklearn.preprocessing import StandardScaler\n",
        "from sklearn.datasets import make_moons, make_circles, make_classification\n",
        "from sklearn.neural_network import MLPClassifier\n",
        "from sklearn.neighbors import KNeighborsClassifier\n",
        "from sklearn.svm import SVC\n",
        "from sklearn.gaussian_process import GaussianProcessClassifier\n",
        "from sklearn.gaussian_process.kernels import RBF\n",
        "from sklearn.tree import DecisionTreeClassifier\n",
        "from sklearn.ensemble import RandomForestClassifier, AdaBoostClassifier, GradientBoostingClassifier, HistGradientBoostingClassifier, ExtraTreesClassifier\n",
        "from sklearn.naive_bayes import GaussianNB\n",
        "from sklearn.discriminant_analysis import QuadraticDiscriminantAnalysis\n",
        "from sklearn.feature_selection import SelectKBest\n",
        "from sklearn.feature_selection import chi2\n",
        "from sklearn.cluster import KMeans\n",
        "from sklearn.decomposition import PCA\n",
        "from tensorflow.python.client import device_lib\n",
        "import tensorflow as tf\n",
        "from keras.preprocessing.image import ImageDataGenerator\n",
        "import os\n",
        "import matplotlib.pyplot as plt\n",
        "import numpy as np\n",
        "import pandas as pd\n",
        "from tensorflow.keras import layers\n",
        "import tensorflow_hub as hub\n",
        "import shutil\n",
        "import random\n",
        "from PIL import Image\n",
        "import pickle\n",
        "import shutil\n",
        "import matplotlib\n",
        "\n",
        "import logging\n",
        "logger = tf.get_logger()\n",
        "logger.setLevel(logging.ERROR)\n",
        "print(tf.__version__)"
      ]
    },
    {
      "cell_type": "markdown",
      "metadata": {
        "id": "UZZI6lNkVrVm"
      },
      "source": [
        "# Resizing the images"
      ]
    },
    {
      "cell_type": "code",
      "execution_count": 15,
      "metadata": {
        "id": "ssD23VbTZeVA"
      },
      "outputs": [],
      "source": [
        "# load every image in the food folder and resize them to 224x224, then save them in a new folder\n",
        "IMG_SHAPE = 224\n",
        "for filename in os.listdir('food'):\n",
        "    img = Image.open('food/' + filename)\n",
        "    img = img.resize((IMG_SHAPE, IMG_SHAPE))\n",
        "    img.save('food_'+str(IMG_SHAPE)+'/' + filename)\n"
      ]
    },
    {
      "cell_type": "markdown",
      "metadata": {},
      "source": [
        "# setting up the triplets"
      ]
    },
    {
      "cell_type": "code",
      "execution_count": 3,
      "metadata": {},
      "outputs": [
        {
          "name": "stdout",
          "output_type": "stream",
          "text": [
            "1000\n",
            "2000\n",
            "3000\n",
            "4000\n",
            "5000\n",
            "6000\n",
            "7000\n",
            "8000\n",
            "9000\n",
            "10000\n",
            "11000\n",
            "12000\n",
            "13000\n",
            "14000\n",
            "15000\n",
            "16000\n",
            "17000\n",
            "18000\n",
            "19000\n",
            "20000\n",
            "21000\n",
            "22000\n",
            "23000\n",
            "24000\n",
            "25000\n",
            "26000\n",
            "27000\n",
            "28000\n",
            "29000\n",
            "30000\n",
            "31000\n",
            "32000\n",
            "33000\n",
            "34000\n",
            "35000\n",
            "36000\n",
            "37000\n",
            "38000\n",
            "39000\n",
            "40000\n",
            "41000\n",
            "42000\n",
            "43000\n",
            "44000\n",
            "45000\n",
            "46000\n",
            "47000\n",
            "48000\n",
            "49000\n",
            "50000\n",
            "51000\n",
            "52000\n",
            "53000\n",
            "54000\n",
            "55000\n",
            "56000\n",
            "57000\n",
            "58000\n",
            "59000\n"
          ]
        }
      ],
      "source": [
        "line_id = 0\n",
        "with open('train_triplets.txt', 'r') as f:\n",
        "    # go through the lines\n",
        "    for line in f:\n",
        "        line = line.replace(\"\\n\", \"\")\n",
        "\n",
        "        shutil.copy(\"food_224/\" + line.split(' ')[0] + \".jpg\",\"triplets/anchor/class1/\" + str(line_id) + \".jpg\")\n",
        "        # line_id += 1\n",
        "        shutil.copy(\"food_224/\" + line.split(' ')[1] + \".jpg\",\"triplets/positive/class1/\" + str(line_id) + \".jpg\")\n",
        "        # line_id += 1\n",
        "        shutil.copy(\"food_224/\" + line.split(' ')[2] + \".jpg\",\"triplets/negative/class1/\" + str(line_id) + \".jpg\")\n",
        "        line_id += 1\n",
        "\n",
        "        if line_id % 1000 == 0:\n",
        "            print(line_id)\n",
        "            # break"
      ]
    },
    {
      "cell_type": "markdown",
      "metadata": {},
      "source": [
        "### This section was an attempt at caching the augmented images to improve runtime. the code works, but the score is slightly worse when using this. (no longer needed)"
      ]
    },
    {
      "cell_type": "code",
      "execution_count": 3,
      "metadata": {},
      "outputs": [
        {
          "name": "stdout",
          "output_type": "stream",
          "text": [
            "Found 59520 images belonging to 1 classes.\n",
            "Found 59520 images belonging to 1 classes.\n",
            "Found 59520 images belonging to 1 classes.\n"
          ]
        }
      ],
      "source": [
        "batch_size = 1\n",
        "#,save_to_dir=\"./aug_triplets/anchor/\",save_format='jpg',save_prefix='aug_'\n",
        "\n",
        "# gen1 = ImageDataGenerator(rescale=1./255)\n",
        "# gen1 = gen1.flow_from_directory(batch_size=batch_size,directory=\"./triplets/anchor/\",shuffle=False,target_size=(224,224),class_mode=None)\n",
        "# gen2 = ImageDataGenerator(rescale=1./255)\n",
        "# gen2 = gen2.flow_from_directory(batch_size=batch_size,directory=\"./triplets/positive/\",shuffle=False,target_size=(224,224),class_mode=None)\n",
        "# gen3 = ImageDataGenerator(rescale=1./255)\n",
        "# gen3 = gen3.flow_from_directory(batch_size=batch_size,directory=\"./triplets/negative/\",shuffle=False,target_size=(224,224),class_mode=None)\n",
        "\n",
        "\n",
        "# gen1 = ImageDataGenerator(rescale=1./255,horizontal_flip=True)\n",
        "# gen1 = gen1.flow_from_directory(batch_size=batch_size,directory=\"./triplets/anchor/\",shuffle=False,target_size=(224,224),class_mode=None)\n",
        "# gen2 = ImageDataGenerator(rescale=1./255,horizontal_flip=True)\n",
        "# gen2 = gen2.flow_from_directory(batch_size=batch_size,directory=\"./triplets/positive/\",shuffle=False,target_size=(224,224),class_mode=None)\n",
        "# gen3 = ImageDataGenerator(rescale=1./255,horizontal_flip=True)\n",
        "# gen3 = gen3.flow_from_directory(batch_size=batch_size,directory=\"./triplets/negative/\",shuffle=False,target_size=(224,224),class_mode=None)\n",
        "\n",
        "gen1 = ImageDataGenerator(rescale=1./255,horizontal_flip=True,rotation_range=15,width_shift_range=0.1,height_shift_range=0.1,zoom_range=0.1,shear_range=0.1,fill_mode='nearest')\n",
        "gen1 = gen1.flow_from_directory(batch_size=batch_size,directory=\"./triplets/anchor/\",shuffle=False,target_size=(224,224),class_mode=None)\n",
        "gen2 = ImageDataGenerator(rescale=1./255,horizontal_flip=True,rotation_range=15,width_shift_range=0.1,height_shift_range=0.1,zoom_range=0.1,shear_range=0.1,fill_mode='nearest')\n",
        "gen2 = gen2.flow_from_directory(batch_size=batch_size,directory=\"./triplets/positive/\",shuffle=False,target_size=(224,224),class_mode=None)\n",
        "gen3 = ImageDataGenerator(rescale=1./255,horizontal_flip=True,rotation_range=15,width_shift_range=0.1,height_shift_range=0.1,zoom_range=0.1,shear_range=0.1,fill_mode='nearest')\n",
        "gen3 = gen3.flow_from_directory(batch_size=batch_size,directory=\"./triplets/negative/\",shuffle=False,target_size=(224,224),class_mode=None)\n",
        "\n",
        "\n",
        "class JoinedGen(tf.keras.utils.Sequence):\n",
        "    def __init__(self, input_gen1, input_gen2, target_gen):\n",
        "        self.gen1 = input_gen1\n",
        "        self.gen2 = input_gen2\n",
        "        self.gen3 = target_gen\n",
        "\n",
        "        assert len(input_gen1) == len(input_gen2) == len(target_gen)\n",
        "\n",
        "    def __len__(self):\n",
        "        return len(self.gen1)\n",
        "\n",
        "    def __getitem__(self, i):\n",
        "        x1 = self.gen1[i]\n",
        "        x2 = self.gen2[i]\n",
        "        x3 = self.gen3[i]\n",
        "\n",
        "        # x1 = tf.convert_to_tensor(x1)\n",
        "        # x2 = tf.convert_to_tensor(x2)\n",
        "        # x3 = tf.convert_to_tensor(x3)\n",
        "\n",
        "        # return (np.random.rand(224,224,3), np.random.rand(224,224,3), np.random.rand(224,224,3))\n",
        "        # return [x1, x2, x3], np.random.rand(1,224,224,3)\n",
        "        # return ([x1, x2, x3],x3)\n",
        "        return [x1, x2, x3]\n",
        "        # return (x1, x2, x3)\n",
        "        # return (x1.copy(), x2.copy(), x3.copy())\n",
        "        # return x1, x2, x3\n",
        "\n",
        "    def on_epoch_end(self):\n",
        "        self.gen1.on_epoch_end()\n",
        "        self.gen2.on_epoch_end()\n",
        "        self.gen3.on_epoch_end()\n",
        "\n",
        "my_gen = JoinedGen(gen1, gen2, gen3)\n"
      ]
    },
    {
      "cell_type": "code",
      "execution_count": null,
      "metadata": {},
      "outputs": [],
      "source": [
        "# # This function will plot images in the form of a grid with 1 row and 5 columns where images are placed in each column.\n",
        "def plotImages(images_arr):\n",
        "    fig, axes = plt.subplots(1, 3, figsize=(20,20))\n",
        "    axes = axes.flatten()\n",
        "    for img, ax in zip(images_arr, axes):\n",
        "        ax.imshow(img)\n",
        "    plt.tight_layout()\n",
        "    plt.show()\n",
        "\n",
        "# augmented_images = [my_gen[0][0][0] for i in range(3)]\n",
        "augmented_images = my_gen.__getitem__(0)\n",
        "augmented_images = np.array(augmented_images)\n",
        "print(augmented_images.shape)\n",
        "plotImages(augmented_images[:,0,:,:,:])"
      ]
    },
    {
      "cell_type": "code",
      "execution_count": 39,
      "metadata": {},
      "outputs": [
        {
          "name": "stdout",
          "output_type": "stream",
          "text": [
            "(3, 1, 224, 224, 3)\n",
            "(224, 224, 3)\n"
          ]
        }
      ],
      "source": [
        "#save images to disk\n",
        "# augmented_images = my_gen.__getitem__(0)\n",
        "# augmented_images = np.array(augmented_images)\n",
        "# print(augmented_images.shape)\n",
        "# print(augmented_images[0,0,:,:,:].shape)\n",
        "\n",
        "# img = augmented_images[0,0,:,:,:]\n",
        "\n",
        "\n",
        "# matplotlib.image.imsave('name.png', img)\n"
      ]
    },
    {
      "cell_type": "code",
      "execution_count": 8,
      "metadata": {},
      "outputs": [],
      "source": [
        "for i in range(0,59520*5):\n",
        "    j = i % 59520\n",
        "    augmented_images = np.array(my_gen.__getitem__(j))\n",
        "    matplotlib.image.imsave('aug_triplets/anchor/class1/' + str(i) + \".jpg\", augmented_images[0,0,:,:,:])\n",
        "    matplotlib.image.imsave('aug_triplets/positive/class1/' + str(i) + \".jpg\", augmented_images[1,0,:,:,:])\n",
        "    matplotlib.image.imsave('aug_triplets/negative/class1/' + str(i) + \".jpg\", augmented_images[2,0,:,:,:])\n",
        "\n",
        "    if i % 100 == 0:\n",
        "        print(i)\n",
        "        # break"
      ]
    }
  ],
  "metadata": {
    "accelerator": "GPU",
    "colab": {
      "collapsed_sections": [],
      "name": "l05c01_dogs_vs_cats_without_augmentation.ipynb",
      "toc_visible": true
    },
    "kernelspec": {
      "display_name": "Python 3",
      "name": "python3"
    },
    "language_info": {
      "codemirror_mode": {
        "name": "ipython",
        "version": 3
      },
      "file_extension": ".py",
      "mimetype": "text/x-python",
      "name": "python",
      "nbconvert_exporter": "python",
      "pygments_lexer": "ipython3",
      "version": "3.9.7"
    }
  },
  "nbformat": 4,
  "nbformat_minor": 0
}
