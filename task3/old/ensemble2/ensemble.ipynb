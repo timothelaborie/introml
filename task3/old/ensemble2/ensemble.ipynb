{
 "cells": [
  {
   "cell_type": "markdown",
   "metadata": {
    "id": "fA93WUy1zzWf"
   },
   "source": [
    "## Import stuff"
   ]
  },
  {
   "cell_type": "code",
   "execution_count": 22,
   "metadata": {
    "id": "-ZMgCvSRFqxE"
   },
   "outputs": [],
   "source": [
    "import os\n",
    "import matplotlib.pyplot as plt\n",
    "import numpy as np\n",
    "import pandas as pd\n",
    "import shutil\n",
    "import random\n",
    "from PIL import Image\n",
    "import logging\n",
    "import time\n",
    "import sklearn.metrics as metrics\n"
   ]
  },
  {
   "cell_type": "markdown",
   "metadata": {
    "id": "AC3EQFi20buB"
   },
   "source": [
    "## Load training data from csv\n"
   ]
  },
  {
   "cell_type": "code",
   "execution_count": 23,
   "metadata": {},
   "outputs": [
    {
     "name": "stdout",
     "output_type": "stream",
     "text": [
      "X shape:  (7471, 5)\n",
      "X shape:  (7471, 5)\n",
      "Y shape:  (7471,)\n"
     ]
    },
    {
     "data": {
      "text/html": [
       "<div>\n",
       "<style scoped>\n",
       "    .dataframe tbody tr th:only-of-type {\n",
       "        vertical-align: middle;\n",
       "    }\n",
       "\n",
       "    .dataframe tbody tr th {\n",
       "        vertical-align: top;\n",
       "    }\n",
       "\n",
       "    .dataframe thead th {\n",
       "        text-align: right;\n",
       "    }\n",
       "</style>\n",
       "<table border=\"1\" class=\"dataframe\">\n",
       "  <thead>\n",
       "    <tr style=\"text-align: right;\">\n",
       "      <th></th>\n",
       "      <th>xl</th>\n",
       "      <th>resnet</th>\n",
       "      <th>clip</th>\n",
       "      <th>vit</th>\n",
       "      <th>swin</th>\n",
       "    </tr>\n",
       "  </thead>\n",
       "  <tbody>\n",
       "    <tr>\n",
       "      <th>0</th>\n",
       "      <td>-0.379850</td>\n",
       "      <td>-0.557025</td>\n",
       "      <td>-0.497801</td>\n",
       "      <td>-0.276974</td>\n",
       "      <td>-0.556594</td>\n",
       "    </tr>\n",
       "    <tr>\n",
       "      <th>1</th>\n",
       "      <td>-0.138518</td>\n",
       "      <td>-0.102112</td>\n",
       "      <td>-0.203814</td>\n",
       "      <td>-0.125433</td>\n",
       "      <td>0.020896</td>\n",
       "    </tr>\n",
       "    <tr>\n",
       "      <th>2</th>\n",
       "      <td>0.105196</td>\n",
       "      <td>0.105294</td>\n",
       "      <td>-0.078201</td>\n",
       "      <td>-0.019630</td>\n",
       "      <td>0.043718</td>\n",
       "    </tr>\n",
       "    <tr>\n",
       "      <th>3</th>\n",
       "      <td>-0.734423</td>\n",
       "      <td>-0.804009</td>\n",
       "      <td>-1.093797</td>\n",
       "      <td>-1.136176</td>\n",
       "      <td>-0.732954</td>\n",
       "    </tr>\n",
       "    <tr>\n",
       "      <th>4</th>\n",
       "      <td>0.595210</td>\n",
       "      <td>0.409195</td>\n",
       "      <td>0.475904</td>\n",
       "      <td>-0.140896</td>\n",
       "      <td>0.330896</td>\n",
       "    </tr>\n",
       "    <tr>\n",
       "      <th>...</th>\n",
       "      <td>...</td>\n",
       "      <td>...</td>\n",
       "      <td>...</td>\n",
       "      <td>...</td>\n",
       "      <td>...</td>\n",
       "    </tr>\n",
       "    <tr>\n",
       "      <th>7466</th>\n",
       "      <td>-0.428260</td>\n",
       "      <td>-0.201487</td>\n",
       "      <td>-0.830325</td>\n",
       "      <td>-0.656267</td>\n",
       "      <td>-0.522852</td>\n",
       "    </tr>\n",
       "    <tr>\n",
       "      <th>7467</th>\n",
       "      <td>0.053856</td>\n",
       "      <td>0.292658</td>\n",
       "      <td>0.027265</td>\n",
       "      <td>0.154834</td>\n",
       "      <td>-0.199139</td>\n",
       "    </tr>\n",
       "    <tr>\n",
       "      <th>7468</th>\n",
       "      <td>-0.221421</td>\n",
       "      <td>-0.591940</td>\n",
       "      <td>0.112721</td>\n",
       "      <td>-0.294572</td>\n",
       "      <td>-0.326937</td>\n",
       "    </tr>\n",
       "    <tr>\n",
       "      <th>7469</th>\n",
       "      <td>0.468808</td>\n",
       "      <td>0.536336</td>\n",
       "      <td>0.491642</td>\n",
       "      <td>0.217314</td>\n",
       "      <td>0.357579</td>\n",
       "    </tr>\n",
       "    <tr>\n",
       "      <th>7470</th>\n",
       "      <td>-0.182800</td>\n",
       "      <td>0.288705</td>\n",
       "      <td>0.156477</td>\n",
       "      <td>0.067155</td>\n",
       "      <td>0.227370</td>\n",
       "    </tr>\n",
       "  </tbody>\n",
       "</table>\n",
       "<p>7471 rows × 5 columns</p>\n",
       "</div>"
      ],
      "text/plain": [
       "            xl    resnet      clip       vit      swin\n",
       "0    -0.379850 -0.557025 -0.497801 -0.276974 -0.556594\n",
       "1    -0.138518 -0.102112 -0.203814 -0.125433  0.020896\n",
       "2     0.105196  0.105294 -0.078201 -0.019630  0.043718\n",
       "3    -0.734423 -0.804009 -1.093797 -1.136176 -0.732954\n",
       "4     0.595210  0.409195  0.475904 -0.140896  0.330896\n",
       "...        ...       ...       ...       ...       ...\n",
       "7466 -0.428260 -0.201487 -0.830325 -0.656267 -0.522852\n",
       "7467  0.053856  0.292658  0.027265  0.154834 -0.199139\n",
       "7468 -0.221421 -0.591940  0.112721 -0.294572 -0.326937\n",
       "7469  0.468808  0.536336  0.491642  0.217314  0.357579\n",
       "7470 -0.182800  0.288705  0.156477  0.067155  0.227370\n",
       "\n",
       "[7471 rows x 5 columns]"
      ]
     },
     "execution_count": 23,
     "metadata": {},
     "output_type": "execute_result"
    }
   ],
   "source": [
    "val_data_1 = pd.read_csv(\"val_distances_dropout.csv\",index_col=0)\n",
    "val_data_2 = pd.read_csv(\"val_distances_batchnorm.csv\",index_col=0)\n",
    "val_labels = pd.read_csv(\"val_labels.txt\", header=None)\n",
    "\n",
    "for extractor in [\"xl\",\"resnet\",\"clip\",\"vit\",\"swin\"]:\n",
    "    val_data_1[extractor] = val_data_1[\"anchor_left_distance_\"+extractor]-val_data_1[\"anchor_right_distance_\"+extractor]\n",
    "    val_data_1.drop(\"anchor_left_distance_\"+extractor, axis=1, inplace=True)\n",
    "    val_data_1.drop(\"anchor_right_distance_\"+extractor, axis=1, inplace=True)\n",
    "\n",
    "\n",
    "for extractor in [\"xl\",\"resnet\",\"clip\",\"vit\",\"swin\"]:\n",
    "    val_data_2[extractor] = val_data_2[\"anchor_left_distance_\"+extractor]-val_data_2[\"anchor_right_distance_\"+extractor]\n",
    "    val_data_2.drop(\"anchor_left_distance_\"+extractor, axis=1, inplace=True)\n",
    "    val_data_2.drop(\"anchor_right_distance_\"+extractor, axis=1, inplace=True)\n",
    "\n",
    "\n",
    "X_val_1 = np.array(val_data_1.iloc[:, :].values,  dtype=float)\n",
    "X_val_2 = np.array(val_data_2.iloc[:, :].values,  dtype=float)\n",
    "Y_val = np.array(val_labels.iloc[:, :].values,  dtype=float).reshape(-1)\n",
    "\n",
    "print(\"X shape: \", X_val_1.shape)\n",
    "print(\"X shape: \", X_val_2.shape)\n",
    "print(\"Y shape: \", Y_val.shape)\n",
    "\n",
    "val_data_2"
   ]
  },
  {
   "cell_type": "markdown",
   "metadata": {},
   "source": [
    "# weighted ensemble\n",
    "the weights would be kinda hard to estimate in practice, it would take a few server submissions. I just made the worse 2 models less important"
   ]
  },
  {
   "cell_type": "code",
   "execution_count": 37,
   "metadata": {},
   "outputs": [
    {
     "data": {
      "text/plain": [
       "0.7832954089144692"
      ]
     },
     "execution_count": 37,
     "metadata": {},
     "output_type": "execute_result"
    }
   ],
   "source": [
    "pred = []\n",
    "for (row1,row2) in zip(X_val_1,X_val_2):\n",
    "    score_left = 1*(0.5*row1[0]+row1[1]+row1[2]+0.5*row1[3]) + 1*(0.5*row2[0]+row2[1]+row2[2]+0.5*row2[3])\n",
    "    pred.append(score_left>0)\n",
    "\n",
    "pred = np.array(pred)\n",
    "accuracy = metrics.accuracy_score(Y_val, pred)\n",
    "accuracy"
   ]
  },
  {
   "cell_type": "markdown",
   "metadata": {},
   "source": [
    "# Majority vote\n",
    "performs worse"
   ]
  },
  {
   "cell_type": "code",
   "execution_count": 25,
   "metadata": {},
   "outputs": [],
   "source": [
    "# pred = []\n",
    "# for row in X_val:\n",
    "#     score_left = 0\n",
    "#     score_left += row[0]>0\n",
    "#     score_left += row[1]>0\n",
    "#     score_left += row[2]>0\n",
    "#     score_left += row[3]>0\n",
    "#     score_left += row[4]>0\n",
    "#     pred.append(0 if score_left>2 else 1)\n",
    "\n",
    "# pred = np.array(pred)\n",
    "# accuracy = metrics.accuracy_score(Y_val, pred<0.5)\n",
    "# accuracy"
   ]
  },
  {
   "cell_type": "markdown",
   "metadata": {},
   "source": [
    "# Miss-classified triplets"
   ]
  },
  {
   "cell_type": "code",
   "execution_count": 26,
   "metadata": {},
   "outputs": [],
   "source": [
    "# This function will plot images in the form of a grid with 1 row and 5 columns where images are placed in each column.\n",
    "def plotImages(images_arr):\n",
    "    fig, axes = plt.subplots(1, 3, figsize=(20,20))\n",
    "    axes = axes.flatten()\n",
    "    for img, ax in zip(images_arr, axes):\n",
    "        ax.imshow(img)\n",
    "    plt.tight_layout()\n",
    "    plt.show()\n",
    "\n",
    "val_triplets = np.loadtxt('./val_triplets_split.txt', dtype=str,delimiter = ' ')"
   ]
  },
  {
   "cell_type": "code",
   "execution_count": 27,
   "metadata": {},
   "outputs": [],
   "source": [
    "id=85"
   ]
  },
  {
   "cell_type": "code",
   "execution_count": 28,
   "metadata": {},
   "outputs": [
    {
     "ename": "NameError",
     "evalue": "name 'X_val' is not defined",
     "output_type": "error",
     "traceback": [
      "\u001b[1;31m---------------------------------------------------------------------------\u001b[0m",
      "\u001b[1;31mNameError\u001b[0m                                 Traceback (most recent call last)",
      "\u001b[1;32m~\\AppData\\Local\\Temp/ipykernel_17732/2490633854.py\u001b[0m in \u001b[0;36m<module>\u001b[1;34m\u001b[0m\n\u001b[0;32m      6\u001b[0m         \u001b[0mleft\u001b[0m \u001b[1;33m=\u001b[0m \u001b[0mImage\u001b[0m\u001b[1;33m.\u001b[0m\u001b[0mopen\u001b[0m\u001b[1;33m(\u001b[0m\u001b[1;34m'food_224/'\u001b[0m \u001b[1;33m+\u001b[0m \u001b[0mval_triplets\u001b[0m\u001b[1;33m[\u001b[0m\u001b[0mid\u001b[0m\u001b[1;33m]\u001b[0m\u001b[1;33m[\u001b[0m\u001b[1;36m1\u001b[0m\u001b[1;33m]\u001b[0m \u001b[1;33m+\u001b[0m \u001b[1;34m'.jpg'\u001b[0m\u001b[1;33m)\u001b[0m\u001b[1;33m\u001b[0m\u001b[1;33m\u001b[0m\u001b[0m\n\u001b[0;32m      7\u001b[0m         \u001b[0mright\u001b[0m \u001b[1;33m=\u001b[0m \u001b[0mImage\u001b[0m\u001b[1;33m.\u001b[0m\u001b[0mopen\u001b[0m\u001b[1;33m(\u001b[0m\u001b[1;34m'food_224/'\u001b[0m \u001b[1;33m+\u001b[0m \u001b[0mval_triplets\u001b[0m\u001b[1;33m[\u001b[0m\u001b[0mid\u001b[0m\u001b[1;33m]\u001b[0m\u001b[1;33m[\u001b[0m\u001b[1;36m2\u001b[0m\u001b[1;33m]\u001b[0m \u001b[1;33m+\u001b[0m \u001b[1;34m'.jpg'\u001b[0m\u001b[1;33m)\u001b[0m\u001b[1;33m\u001b[0m\u001b[1;33m\u001b[0m\u001b[0m\n\u001b[1;32m----> 8\u001b[1;33m         \u001b[0mrow\u001b[0m \u001b[1;33m=\u001b[0m \u001b[0mX_val\u001b[0m\u001b[1;33m[\u001b[0m\u001b[0mid\u001b[0m\u001b[1;33m]\u001b[0m\u001b[1;33m\u001b[0m\u001b[1;33m\u001b[0m\u001b[0m\n\u001b[0m\u001b[0;32m      9\u001b[0m         \u001b[0mscore_left\u001b[0m \u001b[1;33m=\u001b[0m \u001b[1;36m0.5\u001b[0m\u001b[1;33m*\u001b[0m\u001b[0mrow\u001b[0m\u001b[1;33m[\u001b[0m\u001b[1;36m0\u001b[0m\u001b[1;33m]\u001b[0m\u001b[1;33m+\u001b[0m\u001b[0mrow\u001b[0m\u001b[1;33m[\u001b[0m\u001b[1;36m1\u001b[0m\u001b[1;33m]\u001b[0m\u001b[1;33m+\u001b[0m\u001b[0mrow\u001b[0m\u001b[1;33m[\u001b[0m\u001b[1;36m2\u001b[0m\u001b[1;33m]\u001b[0m\u001b[1;33m+\u001b[0m\u001b[1;36m0.5\u001b[0m\u001b[1;33m*\u001b[0m\u001b[0mrow\u001b[0m\u001b[1;33m[\u001b[0m\u001b[1;36m3\u001b[0m\u001b[1;33m]\u001b[0m\u001b[1;33m\u001b[0m\u001b[1;33m\u001b[0m\u001b[0m\n\u001b[0;32m     10\u001b[0m         \u001b[0mprint\u001b[0m\u001b[1;33m(\u001b[0m\u001b[1;34m\"id: \"\u001b[0m \u001b[1;33m+\u001b[0m \u001b[0mstr\u001b[0m\u001b[1;33m(\u001b[0m\u001b[0mid\u001b[0m\u001b[1;33m)\u001b[0m \u001b[1;33m+\u001b[0m \u001b[1;34m\" model predicted: \"\u001b[0m \u001b[1;33m+\u001b[0m \u001b[0mstr\u001b[0m\u001b[1;33m(\u001b[0m\u001b[0mscore_left\u001b[0m\u001b[1;33m)\u001b[0m \u001b[1;33m+\u001b[0m \u001b[1;34m\" label: \"\u001b[0m \u001b[1;33m+\u001b[0m \u001b[1;33m(\u001b[0m\u001b[1;34m\"left\"\u001b[0m \u001b[1;32mif\u001b[0m \u001b[0mY_val\u001b[0m\u001b[1;33m[\u001b[0m\u001b[0mid\u001b[0m\u001b[1;33m]\u001b[0m\u001b[1;33m==\u001b[0m\u001b[1;36m0\u001b[0m \u001b[1;32melse\u001b[0m \u001b[1;34m\"right\"\u001b[0m\u001b[1;33m)\u001b[0m\u001b[1;33m)\u001b[0m\u001b[1;33m\u001b[0m\u001b[1;33m\u001b[0m\u001b[0m\n",
      "\u001b[1;31mNameError\u001b[0m: name 'X_val' is not defined"
     ]
    }
   ],
   "source": [
    "while True:\n",
    "    #find next triplet that was missclassified, and plot it\n",
    "    id+=1\n",
    "    if pred[id] != Y_val[id]:\n",
    "        anchor = Image.open('food_224/' + val_triplets[id][0] + '.jpg')\n",
    "        left = Image.open('food_224/' + val_triplets[id][1] + '.jpg')\n",
    "        right = Image.open('food_224/' + val_triplets[id][2] + '.jpg')\n",
    "        row = X_val[id]\n",
    "        score_left = 0.5*row[0]+row[1]+row[2]+0.5*row[3]\n",
    "        print(\"id: \" + str(id) + \" model predicted: \" + str(score_left) + \" label: \" + (\"left\" if Y_val[id]==0 else \"right\"))\n",
    "        plotImages([anchor, left, right])\n",
    "        break\n",
    "        \n"
   ]
  }
 ],
 "metadata": {
  "colab": {
   "collapsed_sections": [],
   "name": "l02c01_celsius_to_fahrenheit.ipynb",
   "toc_visible": true
  },
  "kernelspec": {
   "display_name": "Python 3.9.7 ('base')",
   "language": "python",
   "name": "python3"
  },
  "language_info": {
   "codemirror_mode": {
    "name": "ipython",
    "version": 3
   },
   "file_extension": ".py",
   "mimetype": "text/x-python",
   "name": "python",
   "nbconvert_exporter": "python",
   "pygments_lexer": "ipython3",
   "version": "3.9.7"
  },
  "vscode": {
   "interpreter": {
    "hash": "ad2bdc8ecc057115af97d19610ffacc2b4e99fae6737bb82f5d7fb13d2f2c186"
   }
  }
 },
 "nbformat": 4,
 "nbformat_minor": 0
}
