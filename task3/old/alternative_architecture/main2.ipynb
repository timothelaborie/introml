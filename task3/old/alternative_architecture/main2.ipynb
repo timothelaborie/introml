{
 "cells": [
  {
   "cell_type": "code",
   "execution_count": 1,
   "metadata": {},
   "outputs": [
    {
     "name": "stdout",
     "output_type": "stream",
     "text": [
      "2.8.0\n"
     ]
    }
   ],
   "source": [
    "from  __future__ import absolute_import\n",
    "from __future__ import print_function\n",
    "from keras.layers import *\n",
    "from keras.models import Model, load_model\n",
    "from keras.preprocessing.image import load_img, img_to_array\n",
    "import tensorflow as tf\n",
    "from keras import backend as K\n",
    "import tensorflow_hub as hub\n",
    "import tensorflow as tf\n",
    "import matplotlib.pyplot as plt\n",
    "import numpy as np\n",
    "import pandas as pd\n",
    "import logging\n",
    "import tensorflow as tf\n",
    "import matplotlib.pyplot as plt\n",
    "import pandas as pd\n",
    "import tensorflow_hub as hub\n",
    "from PIL import Image\n",
    "import pickle\n",
    "import shutil\n",
    "import matplotlib.pyplot as plt\n",
    "import os\n",
    "import random\n",
    "import tensorflow as tf\n",
    "from pathlib import Path\n",
    "from keras import applications\n",
    "from keras import layers\n",
    "from keras import losses\n",
    "from keras import optimizers\n",
    "from keras import metrics\n",
    "from keras import Model\n",
    "from keras.applications import resnet\n",
    "from keras.callbacks import ModelCheckpoint\n",
    "from keras.callbacks import EarlyStopping\n",
    "import tensorflow_addons as tfa\n",
    "from keras.regularizers import l2\n",
    "from keras.activations import *\n",
    "# from DistanceLayer import DistanceLayer\n",
    "# from SiameseModel import SiameseModel\n",
    "import logging\n",
    "logger = tf.get_logger()\n",
    "logger.setLevel(logging.ERROR)\n",
    "\n",
    "print(tf.__version__)\n",
    "\n",
    "\n",
    "batch_size = 19\n",
    "batch_size_val = 89\n"
   ]
  },
  {
   "cell_type": "code",
   "execution_count": 2,
   "metadata": {},
   "outputs": [],
   "source": [
    "features = {}\n",
    "file = \"vit3\"\n",
    "# load the features dictionary from the file\n",
    "with open('features_' + file + '.pickle', 'rb') as handle:\n",
    "    features = pickle.load(handle)\n",
    "\n",
    "feature_dim = features[\"02461\"].shape[0]"
   ]
  },
  {
   "cell_type": "markdown",
   "metadata": {},
   "source": [
    "# Model"
   ]
  },
  {
   "cell_type": "markdown",
   "metadata": {},
   "source": [
    "a lot of the code comes from https://keras.io/examples/vision/siamese_network/\n",
    "and https://github.com/akarshzingade/image-similarity-deep-ranking/blob/master/deepRanking.py"
   ]
  },
  {
   "cell_type": "code",
   "execution_count": 3,
   "metadata": {},
   "outputs": [
    {
     "name": "stdout",
     "output_type": "stream",
     "text": [
      "[[0.4890119]]\n",
      "Model: \"model\"\n",
      "__________________________________________________________________________________________________\n",
      " Layer (type)                   Output Shape         Param #     Connected to                     \n",
      "==================================================================================================\n",
      " input_1 (InputLayer)           [(None, 101)]        0           []                               \n",
      "                                                                                                  \n",
      " input_2 (InputLayer)           [(None, 101)]        0           []                               \n",
      "                                                                                                  \n",
      " concatenate (Concatenate)      (None, 202)          0           ['input_1[0][0]',                \n",
      "                                                                  'input_2[0][0]']                \n",
      "                                                                                                  \n",
      " input_3 (InputLayer)           [(None, 101)]        0           []                               \n",
      "                                                                                                  \n",
      " concatenate_1 (Concatenate)    (None, 303)          0           ['concatenate[0][0]',            \n",
      "                                                                  'input_3[0][0]']                \n",
      "                                                                                                  \n",
      " dense (Dense)                  (None, 2048)         622592      ['concatenate_1[0][0]']          \n",
      "                                                                                                  \n",
      " batch_normalization (BatchNorm  (None, 2048)        8192        ['dense[0][0]']                  \n",
      " alization)                                                                                       \n",
      "                                                                                                  \n",
      " dense_1 (Dense)                (None, 2048)         4196352     ['batch_normalization[0][0]']    \n",
      "                                                                                                  \n",
      " batch_normalization_1 (BatchNo  (None, 2048)        8192        ['dense_1[0][0]']                \n",
      " rmalization)                                                                                     \n",
      "                                                                                                  \n",
      " dense_2 (Dense)                (None, 1)            2049        ['batch_normalization_1[0][0]']  \n",
      "                                                                                                  \n",
      "==================================================================================================\n",
      "Total params: 4,837,377\n",
      "Trainable params: 4,829,185\n",
      "Non-trainable params: 8,192\n",
      "__________________________________________________________________________________________________\n"
     ]
    }
   ],
   "source": [
    "anchor_input = Input(shape=(feature_dim,))\n",
    "positive_input = Input(shape=(feature_dim,))\n",
    "negative_input = Input(shape=(feature_dim,))\n",
    "\n",
    "input = Concatenate()([anchor_input, positive_input])\n",
    "input = Concatenate()([input, negative_input])\n",
    "\n",
    "x = Dense(2048, activation='swish', kernel_regularizer=l2(0.01), bias_regularizer=l2(0.001))(input)\n",
    "x = BatchNormalization()(x)\n",
    "x = Dense(2048, activation='swish', kernel_regularizer=l2(0.01), bias_regularizer=l2(0.001))(x)\n",
    "x = BatchNormalization()(x)\n",
    "x = Dense(1, activation='sigmoid')(x)\n",
    "\n",
    "model = Model(inputs=[anchor_input, positive_input, negative_input], outputs=x)\n",
    "\n",
    "model.compile(optimizer=tf.keras.optimizers.Adam(0.0001), loss='binary_crossentropy',metrics=['accuracy'])\n",
    "\n",
    "pred = model.predict((np.random.rand(1,feature_dim),np.random.rand(1,feature_dim),np.random.rand(1,feature_dim)))\n",
    "print(pred)\n",
    "\n",
    "model.summary()"
   ]
  },
  {
   "cell_type": "code",
   "execution_count": 4,
   "metadata": {},
   "outputs": [],
   "source": [
    "#convert the features dictionary to a tensorflow hash table\n",
    "keys = tf.constant([key for key in features.keys()])\n",
    "values = tf.constant([val for val in features.values()])\n",
    "\n",
    "table = tf.lookup.experimental.DenseHashTable(\n",
    "    value_dtype=tf.float32,\n",
    "    key_dtype=tf.string,\n",
    "    empty_key=\"empty_key\",\n",
    "    deleted_key=\"deleted_key\",\n",
    "    default_value=[-1]*feature_dim,\n",
    "    )\n",
    "\n",
    "table.insert(keys, values)"
   ]
  },
  {
   "cell_type": "code",
   "execution_count": 5,
   "metadata": {},
   "outputs": [
    {
     "name": "stdout",
     "output_type": "stream",
     "text": [
      "7315\n",
      "7471\n"
     ]
    }
   ],
   "source": [
    "train_triplets = np.loadtxt('./train_triplets_split_shuffled.txt', dtype=str,delimiter = ' ')\n",
    "val_triplets = np.loadtxt('./val_triplets_split_shuffled.txt', dtype=str,delimiter = ' ')\n",
    "train_labels = np.loadtxt('./train_labels.txt', dtype=float,delimiter = ' ')\n",
    "val_labels = np.loadtxt('./val_labels.txt', dtype=float,delimiter = ' ')\n",
    "# train_dataset = tf.data.Dataset.from_tensor_slices(train_triplets)\n",
    "train_dataset = tf.data.Dataset.from_tensor_slices((train_triplets,train_labels))\n",
    "# val_dataset = tf.data.Dataset.from_tensor_slices(val_triplets)\n",
    "val_dataset = tf.data.Dataset.from_tensor_slices((val_triplets,val_labels))\n",
    "count = np.array(train_triplets).shape[0]\n",
    "print(count)\n",
    "print(np.array(val_triplets).shape[0])\n",
    "\n",
    "\n",
    "@tf.function\n",
    "def load_image(inputs,labels):\n",
    "    filenames = inputs\n",
    "    anchor = table[filenames[0]]\n",
    "    positive = table[filenames[1]]\n",
    "    negative = table[filenames[2]]\n",
    "    output = ((anchor,positive,negative),labels)\n",
    "    \n",
    "    return output\n",
    "\n",
    "train_dataset = train_dataset.map(load_image).cache().shuffle(buffer_size=1000).batch(batch_size).prefetch(20)\n",
    "val_dataset = val_dataset.map(load_image).cache().batch(batch_size_val).prefetch(20)"
   ]
  },
  {
   "cell_type": "code",
   "execution_count": 6,
   "metadata": {},
   "outputs": [],
   "source": [
    "# d = next(iter(train_dataset))\n",
    "# d\n",
    "# model.predict(d)\n",
    "\n"
   ]
  },
  {
   "cell_type": "code",
   "execution_count": 10,
   "metadata": {},
   "outputs": [
    {
     "name": "stdout",
     "output_type": "stream",
     "text": [
      "Epoch 1/100\n",
      "385/385 [==============================] - 3s 9ms/step - loss: 0.7303 - accuracy: 0.6861 - val_loss: 0.7807 - val_accuracy: 0.6397\n",
      "Epoch 2/100\n",
      "385/385 [==============================] - 3s 8ms/step - loss: 0.7004 - accuracy: 0.6949 - val_loss: 0.7718 - val_accuracy: 0.6342\n",
      "Epoch 3/100\n",
      "385/385 [==============================] - 3s 8ms/step - loss: 0.6912 - accuracy: 0.6930 - val_loss: 0.7583 - val_accuracy: 0.6335\n",
      "Epoch 4/100\n",
      "385/385 [==============================] - 3s 8ms/step - loss: 0.6688 - accuracy: 0.7023 - val_loss: 0.7728 - val_accuracy: 0.6156\n",
      "Epoch 5/100\n",
      "385/385 [==============================] - 3s 8ms/step - loss: 0.6646 - accuracy: 0.7021 - val_loss: 0.7610 - val_accuracy: 0.6308\n"
     ]
    },
    {
     "data": {
      "text/plain": [
       "<keras.callbacks.History at 0x13e7ff89520>"
      ]
     },
     "execution_count": 10,
     "metadata": {},
     "output_type": "execute_result"
    }
   ],
   "source": [
    "train_steps_per_epoch = int(count/batch_size)\n",
    "# checkpoint_filepath = './checkpoints/checkpoint-{epoch}/'\n",
    "#save checkpoint after every epoch\n",
    "# callback = ModelCheckpoint(\n",
    "#     filepath=checkpoint_filepath,\n",
    "#     # save_weights_only=True,\n",
    "# )\n",
    "callback = EarlyStopping(monitor='val_accuracy', patience=4,restore_best_weights=True)\n",
    "\n",
    "\n",
    "model.fit(train_dataset, epochs=100,steps_per_epoch=train_steps_per_epoch,batch_size=batch_size,callbacks=[callback],validation_data=val_dataset)\n",
    "\n",
    "\n"
   ]
  },
  {
   "cell_type": "markdown",
   "metadata": {},
   "source": [
    "# this code was used to initialize the distances file"
   ]
  },
  {
   "cell_type": "code",
   "execution_count": 8,
   "metadata": {},
   "outputs": [],
   "source": [
    "# #predict distances and save them to a file\n",
    "# set_file = \"val\"\n",
    "# dataset = np.loadtxt('./'+set_file+'_triplets_split_shuffled.txt', dtype=str,delimiter = ' ')\n",
    "# print(dataset.shape)\n",
    "# dataset = tf.data.Dataset.from_tensor_slices(dataset)\n",
    "# size = batch_size_val if set_file == \"val\" else batch_size\n",
    "# dataset = dataset.map(load_image).batch(size)\n",
    "# data = []\n",
    "# for triplet in iter(dataset):\n",
    "#     anchor = triplet[0]\n",
    "#     positive = triplet[1]\n",
    "#     negative = triplet[2]\n",
    "#     distances = model.predict([anchor,positive,negative])\n",
    "#     for i in range(size):\n",
    "#         data.append([distances[0][i],distances[1][i]])\n",
    "\n",
    "\n",
    "\n",
    "# df = pd.DataFrame(data=data,columns=['anchor_left_distance_'+file,'anchor_right_distance_'+file])\n",
    "# df.to_csv(set_file+'_distances.csv')\n",
    "\n",
    "\n"
   ]
  },
  {
   "cell_type": "markdown",
   "metadata": {},
   "source": [
    "# append other distances"
   ]
  },
  {
   "cell_type": "code",
   "execution_count": 9,
   "metadata": {},
   "outputs": [],
   "source": [
    "# #predict distances and save them to a file\n",
    "# set_file = \"val\"\n",
    "# dataset = np.loadtxt('./'+set_file+'_triplets_split_shuffled.txt', dtype=str,delimiter = ' ')\n",
    "# print(dataset.shape)\n",
    "# dataset = tf.data.Dataset.from_tensor_slices(dataset)\n",
    "# size = batch_size_val if set_file == \"val\" else batch_size\n",
    "# dataset = dataset.map(load_image).batch(size)\n",
    "# left = []\n",
    "# right = []\n",
    "# for triplet in iter(dataset):\n",
    "#     anchor = triplet[0]\n",
    "#     positive = triplet[1]\n",
    "#     negative = triplet[2]\n",
    "#     distances = model.predict([anchor,positive,negative])\n",
    "#     for i in range(size):\n",
    "#         left.append(distances[0][i])\n",
    "#         right.append(distances[1][i])\n",
    "\n",
    "\n",
    "\n",
    "# df = pd.read_csv(set_file+\"_distances.csv\",index_col=0)\n",
    "# df['anchor_left_distance_'+file] = left\n",
    "# df['anchor_right_distance_'+file] = right\n",
    "# df.to_csv(set_file+'_distances.csv')\n",
    "\n"
   ]
  }
 ],
 "metadata": {
  "kernelspec": {
   "display_name": "Python 3.9.7 ('base')",
   "language": "python",
   "name": "python3"
  },
  "language_info": {
   "codemirror_mode": {
    "name": "ipython",
    "version": 3
   },
   "file_extension": ".py",
   "mimetype": "text/x-python",
   "name": "python",
   "nbconvert_exporter": "python",
   "pygments_lexer": "ipython3",
   "version": "3.9.7"
  },
  "orig_nbformat": 4,
  "vscode": {
   "interpreter": {
    "hash": "ad2bdc8ecc057115af97d19610ffacc2b4e99fae6737bb82f5d7fb13d2f2c186"
   }
  }
 },
 "nbformat": 4,
 "nbformat_minor": 2
}
