{
 "cells": [
  {
   "cell_type": "code",
   "execution_count": 1,
   "metadata": {},
   "outputs": [
    {
     "name": "stdout",
     "output_type": "stream",
     "text": [
      "2.8.0\n"
     ]
    }
   ],
   "source": [
    "# coding: utf-8\n",
    "\n",
    "from  __future__ import absolute_import\n",
    "from __future__ import print_function\n",
    "from ImageDataGeneratorCustom import ImageDataGeneratorCustom\n",
    "import numpy as np\n",
    "from keras.applications.vgg16 import VGG16\n",
    "from keras.layers import *\n",
    "from keras.models import Model, load_model\n",
    "from keras.preprocessing.image import load_img, img_to_array\n",
    "import tensorflow as tf\n",
    "from keras import backend as K\n",
    "from keras.preprocessing.image import ImageDataGenerator\n",
    "import tensorflow_hub as hub\n",
    "\n",
    "print(tf.__version__)\n"
   ]
  },
  {
   "cell_type": "code",
   "execution_count": 2,
   "metadata": {},
   "outputs": [
    {
     "name": "stdout",
     "output_type": "stream",
     "text": [
      "2.8.0\n"
     ]
    }
   ],
   "source": [
    "from sklearn.experimental import enable_hist_gradient_boosting\n",
    "from sklearn.ensemble import HistGradientBoostingRegressor\n",
    "\n",
    "import tensorflow as tf\n",
    "import os\n",
    "import matplotlib.pyplot as plt\n",
    "import numpy as np\n",
    "import pandas as pd\n",
    "from tensorflow.keras import layers\n",
    "import shutil\n",
    "import random\n",
    "from PIL import Image\n",
    "import numpy as np\n",
    "import logging\n",
    "from sklearn.metrics import mean_squared_error\n",
    "from sklearn.model_selection import KFold\n",
    "import sklearn.metrics as metrics\n",
    "from sklearn.svm import SVC\n",
    "from sklearn import svm\n",
    "from sklearn import datasets\n",
    "from sklearn.pipeline import make_pipeline\n",
    "from sklearn.preprocessing import PolynomialFeatures\n",
    "from sklearn.kernel_ridge import KernelRidge\n",
    "from sklearn.linear_model import Ridge, RidgeCV, ElasticNet\n",
    "from sklearn.model_selection import cross_val_score\n",
    "from sklearn.metrics import mean_squared_error\n",
    "from sklearn.linear_model import LogisticRegression\n",
    "from sklearn.ensemble import RandomForestClassifier\n",
    "from sklearn.ensemble import AdaBoostClassifier\n",
    "from sklearn.impute import KNNImputer\n",
    "from sklearn.model_selection import train_test_split\n",
    "from sklearn.preprocessing import StandardScaler\n",
    "from sklearn.datasets import make_moons, make_circles, make_classification\n",
    "from sklearn.neural_network import MLPClassifier\n",
    "from sklearn.neighbors import KNeighborsClassifier\n",
    "from sklearn.svm import SVC\n",
    "from sklearn.gaussian_process import GaussianProcessClassifier\n",
    "from sklearn.gaussian_process.kernels import RBF\n",
    "from sklearn.tree import DecisionTreeClassifier\n",
    "from sklearn.ensemble import RandomForestClassifier, AdaBoostClassifier, GradientBoostingClassifier, HistGradientBoostingClassifier, ExtraTreesClassifier\n",
    "from sklearn.naive_bayes import GaussianNB\n",
    "from sklearn.discriminant_analysis import QuadraticDiscriminantAnalysis\n",
    "from sklearn.feature_selection import SelectKBest\n",
    "from sklearn.feature_selection import chi2\n",
    "from sklearn.cluster import KMeans\n",
    "from sklearn.decomposition import PCA\n",
    "from tensorflow.python.client import device_lib\n",
    "import tensorflow as tf\n",
    "from tensorflow.keras.preprocessing.image import ImageDataGenerator\n",
    "import os\n",
    "import matplotlib.pyplot as plt\n",
    "import numpy as np\n",
    "import pandas as pd\n",
    "from tensorflow.keras import layers\n",
    "import tensorflow_hub as hub\n",
    "import shutil\n",
    "import random\n",
    "from PIL import Image\n",
    "import pickle\n",
    "import shutil\n",
    "\n",
    "import logging\n",
    "logger = tf.get_logger()\n",
    "logger.setLevel(logging.ERROR)\n",
    "print(tf.__version__)"
   ]
  },
  {
   "cell_type": "code",
   "execution_count": 3,
   "metadata": {},
   "outputs": [],
   "source": [
    "# def convnet_model_():\n",
    "#     vgg = tf.keras.applications.VGG16(include_top=False, weights='imagenet', input_shape=(224,224,3))\n",
    "#     vgg.trainable = False\n",
    "#     model = tf.keras.Sequential([\n",
    "#         #VGG16\n",
    "#         vgg,\n",
    "#         #GlobalAveragePooling2D\n",
    "#         tf.keras.layers.GlobalAveragePooling2D(),\n",
    "#         #Dense 4096 relu\n",
    "#         tf.keras.layers.Dense(4096, activation='relu'),\n",
    "#         # #Dropout 0.5\n",
    "#         # tf.keras.layers.Dropout(0.5),\n",
    "#         # #Dense 4096 relu\n",
    "#         # tf.keras.layers.Dense(4096, activation='relu'),\n",
    "#         #Dropout 0.5\n",
    "#         tf.keras.layers.Dropout(0.5),\n",
    "#         #L2 normalization\n",
    "#         tf.keras.layers.Lambda(lambda  x: K.l2_normalize(x,axis=1))\n",
    "#     ])\n",
    "\n",
    "#     return model\n",
    "\n",
    "def convnet_model_():\n",
    "    URL = \"https://tfhub.dev/google/tf2-preview/mobilenet_v2/feature_vector/2\"\n",
    "    feature_extractor = hub.KerasLayer(URL, input_shape=(224, 224,3))\n",
    "    feature_extractor.trainable = False\n",
    "    model = tf.keras.Sequential([\n",
    "        feature_extractor,\n",
    "        tf.keras.layers.Dense(4096, activation='relu'),\n",
    "        tf.keras.layers.Dropout(0.5),\n",
    "        #L2 normalization\n",
    "        tf.keras.layers.Lambda(lambda  x: K.l2_normalize(x,axis=1))\n",
    "    ])\n",
    "\n",
    "    return model\n",
    "\n",
    "def deep_rank_model():\n",
    " \n",
    "    convnet_model = convnet_model_()\n",
    "    first_input = Input(shape=(224,224,3))\n",
    "    first_conv = Conv2D(96, kernel_size=(8, 8),strides=(16,16), padding='same')(first_input)\n",
    "    first_max = MaxPool2D(pool_size=(3,3),strides = (4,4),padding='same')(first_conv)\n",
    "    first_max = Flatten()(first_max)\n",
    "    first_max = Lambda(lambda  x: K.l2_normalize(x,axis=1))(first_max)\n",
    "\n",
    "    second_input = Input(shape=(224,224,3))\n",
    "    second_conv = Conv2D(96, kernel_size=(8, 8),strides=(32,32), padding='same')(second_input)\n",
    "    second_max = MaxPool2D(pool_size=(7,7),strides = (2,2),padding='same')(second_conv)\n",
    "    second_max = Flatten()(second_max)\n",
    "    second_max = Lambda(lambda  x: K.l2_normalize(x,axis=1))(second_max)\n",
    "\n",
    "    merge_one = concatenate([first_max, second_max])\n",
    "\n",
    "    merge_two = concatenate([merge_one, convnet_model.output])\n",
    "    emb = Dense(2048)(merge_two)\n",
    "    l2_norm_final = Lambda(lambda  x: K.l2_normalize(x,axis=1))(emb)\n",
    "\n",
    "    final_model = Model(inputs=[first_input, second_input, convnet_model.input], outputs=l2_norm_final)\n",
    "\n",
    "    return final_model\n"
   ]
  },
  {
   "cell_type": "code",
   "execution_count": 4,
   "metadata": {},
   "outputs": [
    {
     "name": "stdout",
     "output_type": "stream",
     "text": [
      "Model: \"model\"\n",
      "__________________________________________________________________________________________________\n",
      " Layer (type)                   Output Shape         Param #     Connected to                     \n",
      "==================================================================================================\n",
      " input_1 (InputLayer)           [(None, 224, 224, 3  0           []                               \n",
      "                                )]                                                                \n",
      "                                                                                                  \n",
      " input_2 (InputLayer)           [(None, 224, 224, 3  0           []                               \n",
      "                                )]                                                                \n",
      "                                                                                                  \n",
      " conv2d (Conv2D)                (None, 14, 14, 96)   18528       ['input_1[0][0]']                \n",
      "                                                                                                  \n",
      " conv2d_1 (Conv2D)              (None, 7, 7, 96)     18528       ['input_2[0][0]']                \n",
      "                                                                                                  \n",
      " keras_layer_input (InputLayer)  [(None, 224, 224, 3  0          []                               \n",
      "                                )]                                                                \n",
      "                                                                                                  \n",
      " max_pooling2d (MaxPooling2D)   (None, 4, 4, 96)     0           ['conv2d[0][0]']                 \n",
      "                                                                                                  \n",
      " max_pooling2d_1 (MaxPooling2D)  (None, 4, 4, 96)    0           ['conv2d_1[0][0]']               \n",
      "                                                                                                  \n",
      " keras_layer (KerasLayer)       (None, 1280)         2257984     ['keras_layer_input[0][0]']      \n",
      "                                                                                                  \n",
      " flatten (Flatten)              (None, 1536)         0           ['max_pooling2d[0][0]']          \n",
      "                                                                                                  \n",
      " flatten_1 (Flatten)            (None, 1536)         0           ['max_pooling2d_1[0][0]']        \n",
      "                                                                                                  \n",
      " dense (Dense)                  (None, 4096)         5246976     ['keras_layer[0][0]']            \n",
      "                                                                                                  \n",
      " lambda_1 (Lambda)              (None, 1536)         0           ['flatten[0][0]']                \n",
      "                                                                                                  \n",
      " lambda_2 (Lambda)              (None, 1536)         0           ['flatten_1[0][0]']              \n",
      "                                                                                                  \n",
      " dropout (Dropout)              (None, 4096)         0           ['dense[0][0]']                  \n",
      "                                                                                                  \n",
      " concatenate (Concatenate)      (None, 3072)         0           ['lambda_1[0][0]',               \n",
      "                                                                  'lambda_2[0][0]']               \n",
      "                                                                                                  \n",
      " lambda (Lambda)                (None, 4096)         0           ['dropout[0][0]']                \n",
      "                                                                                                  \n",
      " concatenate_1 (Concatenate)    (None, 7168)         0           ['concatenate[0][0]',            \n",
      "                                                                  'lambda[0][0]']                 \n",
      "                                                                                                  \n",
      " dense_1 (Dense)                (None, 2048)         14682112    ['concatenate_1[0][0]']          \n",
      "                                                                                                  \n",
      " lambda_3 (Lambda)              (None, 2048)         0           ['dense_1[0][0]']                \n",
      "                                                                                                  \n",
      "==================================================================================================\n",
      "Total params: 22,224,128\n",
      "Trainable params: 19,966,144\n",
      "Non-trainable params: 2,257,984\n",
      "__________________________________________________________________________________________________\n"
     ]
    }
   ],
   "source": [
    "deep_rank_model = deep_rank_model()\n",
    "\n",
    "# for layer in deep_rank_model.layers:\n",
    "#     print (layer.name, layer.output_shape)\n",
    "\n",
    "model_path = \"./deep_ranking\"\n",
    "\n",
    "deep_rank_model.summary()"
   ]
  },
  {
   "cell_type": "code",
   "execution_count": 5,
   "metadata": {},
   "outputs": [],
   "source": [
    "batch_size = 8\n",
    "batch_size *= 3\n"
   ]
  },
  {
   "cell_type": "code",
   "execution_count": 6,
   "metadata": {},
   "outputs": [],
   "source": [
    "_EPSILON = K.epsilon()\n",
    "def _loss_tensor(y_true, y_pred):\n",
    "    y_pred = K.clip(y_pred, _EPSILON, 1.0-_EPSILON)\n",
    "    loss =  tf.convert_to_tensor(0,dtype=tf.float32)\n",
    "    g = tf.constant(1.0, shape=[1], dtype=tf.float32)\n",
    "    for i in range(0,batch_size,3):\n",
    "        try:\n",
    "            q_embedding = y_pred[i+0]\n",
    "            p_embedding =  y_pred[i+1]\n",
    "            n_embedding = y_pred[i+2]\n",
    "            D_q_p =  K.sqrt(K.sum((q_embedding - p_embedding)**2))\n",
    "            D_q_n = K.sqrt(K.sum((q_embedding - n_embedding)**2))\n",
    "            loss = (loss + g + D_q_p - D_q_n )            \n",
    "        except:\n",
    "            continue\n",
    "    loss = loss/(batch_size/3)\n",
    "    zero = tf.constant(0.0, shape=[1], dtype=tf.float32)\n",
    "    return tf.maximum(loss,zero)\n",
    "\n"
   ]
  },
  {
   "cell_type": "code",
   "execution_count": 7,
   "metadata": {},
   "outputs": [
    {
     "name": "stdout",
     "output_type": "stream",
     "text": [
      "(24, 2048)\n"
     ]
    },
    {
     "data": {
      "text/plain": [
       "array([0.9967773], dtype=float32)"
      ]
     },
     "execution_count": 7,
     "metadata": {},
     "output_type": "execute_result"
    }
   ],
   "source": [
    "pred = deep_rank_model.predict((np.random.rand(24,224,224,3),np.random.rand(24,224,224,3),np.random.rand(24,224,224,3)))\n",
    "print(pred.shape)\n",
    "_loss_tensor(None,pred).numpy()"
   ]
  },
  {
   "cell_type": "code",
   "execution_count": 8,
   "metadata": {},
   "outputs": [
    {
     "name": "stdout",
     "output_type": "stream",
     "text": [
      "Found 3000 images belonging to 1 classes.\n",
      "Found 3000 images belonging to 1 classes.\n",
      "Found 3000 images belonging to 1 classes.\n"
     ]
    }
   ],
   "source": [
    "\n",
    "gen1 = ImageDataGenerator(rescale=1./255)\n",
    "gen1 = gen1.flow_from_directory(batch_size=batch_size,directory=\"./triplets/\",shuffle=False,target_size=(224,224),class_mode=None)\n",
    "gen2 = ImageDataGenerator(rescale=1./255)\n",
    "gen2 = gen2.flow_from_directory(batch_size=batch_size,directory=\"./triplets/\",shuffle=False,target_size=(224,224),class_mode=None)\n",
    "gen3 = ImageDataGenerator(rescale=1./255)\n",
    "gen3 = gen3.flow_from_directory(batch_size=batch_size,directory=\"./triplets/\",shuffle=False,target_size=(224,224),class_mode=None)\n",
    "\n",
    "class JoinedGen(tf.keras.utils.Sequence):\n",
    "    def __init__(self, input_gen1, input_gen2, target_gen):\n",
    "        self.gen1 = input_gen1\n",
    "        self.gen2 = input_gen2\n",
    "        self.gen3 = target_gen\n",
    "\n",
    "        assert len(input_gen1) == len(input_gen2) == len(target_gen)\n",
    "\n",
    "    def __len__(self):\n",
    "        return len(self.gen1)\n",
    "\n",
    "    def __getitem__(self, i):\n",
    "        x1 = self.gen1[i]\n",
    "        x2 = self.gen2[i]\n",
    "        y = self.gen3[i]\n",
    "\n",
    "        return [x1, x2, y], y\n",
    "\n",
    "    def on_epoch_end(self):\n",
    "        self.gen1.on_epoch_end()\n",
    "        self.gen2.on_epoch_end()\n",
    "        self.gen3.on_epoch_end()\n",
    "\n",
    "my_gen = JoinedGen(gen1, gen2, gen3)\n"
   ]
  },
  {
   "cell_type": "code",
   "execution_count": 9,
   "metadata": {},
   "outputs": [
    {
     "name": "stderr",
     "output_type": "stream",
     "text": [
      "C:\\Users\\Timothe\\AppData\\Local\\Temp/ipykernel_25408/2938192524.py:9: UserWarning: `Model.fit_generator` is deprecated and will be removed in a future version. Please use `Model.fit`, which supports generators.\n",
      "  deep_rank_model.fit_generator(my_gen,\n"
     ]
    },
    {
     "name": "stdout",
     "output_type": "stream",
     "text": [
      "125/125 [==============================] - 82s 600ms/step - loss: 0.9990\n"
     ]
    },
    {
     "data": {
      "text/plain": [
       "<keras.callbacks.History at 0x1a3d5b01b80>"
      ]
     },
     "execution_count": 9,
     "metadata": {},
     "output_type": "execute_result"
    }
   ],
   "source": [
    "#deep_rank_model.load_weights('deepranking.h5')\n",
    "deep_rank_model.compile(loss=_loss_tensor, optimizer='adam')\n",
    "\n",
    "\n",
    "# train_steps_per_epoch = int((59520)/batch_size)\n",
    "train_steps_per_epoch = int((3000)/batch_size)\n",
    "# train_epochs = 25\n",
    "train_epochs = 1\n",
    "deep_rank_model.fit_generator(my_gen,\n",
    "                        steps_per_epoch=train_steps_per_epoch,\n",
    "                        epochs=train_epochs\n",
    "                        )\n",
    "\n",
    "\n"
   ]
  },
  {
   "cell_type": "code",
   "execution_count": 10,
   "metadata": {},
   "outputs": [],
   "source": [
    "# model_path = \"./deepranking.h5\"\n",
    "model_path = \"deepranking\"\n",
    "tf.saved_model.save(deep_rank_model, model_path)\n",
    "# deep_rank_model.save_weights(model_path)"
   ]
  },
  {
   "cell_type": "markdown",
   "metadata": {},
   "source": [
    "# test set predictions"
   ]
  },
  {
   "cell_type": "code",
   "execution_count": 11,
   "metadata": {},
   "outputs": [
    {
     "data": {
      "text/plain": [
       "<tensorflow.python.training.tracking.util.CheckpointLoadStatus at 0x1a3d35513d0>"
      ]
     },
     "execution_count": 11,
     "metadata": {},
     "output_type": "execute_result"
    }
   ],
   "source": [
    "deep_rank_model.load_weights('deepranking')"
   ]
  },
  {
   "cell_type": "code",
   "execution_count": null,
   "metadata": {},
   "outputs": [],
   "source": [
    "image1 = np.array(Image.open(\"food_224/00000.jpg\"))\n",
    "image1 = image1[None]\n",
    "for i in range(100):\n",
    "    pred = deep_rank_model.predict([image1, image1, image1])[0]\n",
    "    print(pred.shape)"
   ]
  },
  {
   "cell_type": "code",
   "execution_count": 20,
   "metadata": {},
   "outputs": [
    {
     "name": "stdout",
     "output_type": "stream",
     "text": [
      "100\n"
     ]
    }
   ],
   "source": [
    "# dictionary with all the image names and their features\n",
    "features = {}\n",
    "\n",
    "# convert every image into features\n",
    "line_id = 0\n",
    "for filename in os.listdir('food_224'):\n",
    "    line_id += 1\n",
    "    img = np.array(Image.open('food_224/' + filename))[None]\n",
    "    feature =  deep_rank_model.predict([img, img, img])[0]\n",
    "    features[filename.replace(\".jpg\",\"\")] = feature\n",
    "    if line_id % 100 == 0:\n",
    "        print(line_id)\n",
    "        break\n",
    "\n",
    "# save the features dictionary to a file using pickle\n",
    "with open('features.pickle', 'wb') as handle:\n",
    "    pickle.dump(features, handle, protocol=pickle.HIGHEST_PROTOCOL)"
   ]
  },
  {
   "cell_type": "code",
   "execution_count": 22,
   "metadata": {},
   "outputs": [
    {
     "name": "stdout",
     "output_type": "stream",
     "text": [
      "(2048,)\n"
     ]
    }
   ],
   "source": [
    "\n",
    "features = {}\n",
    "# load the features dictionary from the file\n",
    "with open('features.pickle', 'rb') as handle:\n",
    "    features = pickle.load(handle)\n",
    "print(features['00001'].shape)"
   ]
  },
  {
   "cell_type": "code",
   "execution_count": 16,
   "metadata": {},
   "outputs": [
    {
     "name": "stdout",
     "output_type": "stream",
     "text": [
      "100\n"
     ]
    }
   ],
   "source": [
    "\n",
    "pred = []\n",
    "line_id = 0\n",
    "with open('test_triplets.txt', 'r') as f:\n",
    "    # go through the lines\n",
    "    for line in f:\n",
    "        line = line.replace(\"\\n\", \"\")\n",
    "\n",
    "\n",
    "        embedding1 = features[line.split(' ')[0]]\n",
    "        embedding2 = features[line.split(' ')[1]]\n",
    "        embedding3 = features[line.split(' ')[2]]\n",
    "\n",
    "        \n",
    "        #compare distance between embeddings\n",
    "        distance1 = np.sqrt(np.sum((embedding1 - embedding2)**2))\n",
    "        distance2 = np.sqrt(np.sum((embedding1 - embedding3)**2))\n",
    "\n",
    "        pred.append(1 if distance1 < distance2 else 0)\n",
    "\n",
    "        line_id += 1\n",
    "        if line_id % 100 == 0:\n",
    "            print(line_id)\n",
    "            break\n",
    "\n",
    "np.savetxt(\"submission.txt\", pred, delimiter=\"\\n\")\n"
   ]
  }
 ],
 "metadata": {
  "interpreter": {
   "hash": "b3ba2566441a7c06988d0923437866b63cedc61552a5af99d1f4fb67d367b25f"
  },
  "kernelspec": {
   "display_name": "Python 3.9.7 ('base')",
   "language": "python",
   "name": "python3"
  },
  "language_info": {
   "codemirror_mode": {
    "name": "ipython",
    "version": 3
   },
   "file_extension": ".py",
   "mimetype": "text/x-python",
   "name": "python",
   "nbconvert_exporter": "python",
   "pygments_lexer": "ipython3",
   "version": "3.9.7"
  },
  "orig_nbformat": 4
 },
 "nbformat": 4,
 "nbformat_minor": 2
}
