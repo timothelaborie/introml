{
  "cells": [
    {
      "cell_type": "markdown",
      "metadata": {
        "id": "fA93WUy1zzWf"
      },
      "source": [
        "## Import stuff"
      ]
    },
    {
      "cell_type": "code",
      "execution_count": 1,
      "metadata": {
        "id": "-ZMgCvSRFqxE"
      },
      "outputs": [
        {
          "data": {
            "text/plain": [
              "[name: \"/device:CPU:0\"\n",
              " device_type: \"CPU\"\n",
              " memory_limit: 268435456\n",
              " locality {\n",
              " }\n",
              " incarnation: 5801622847028600280]"
            ]
          },
          "execution_count": 1,
          "metadata": {},
          "output_type": "execute_result"
        }
      ],
      "source": [
        "import tensorflow as tf\n",
        "import os\n",
        "import matplotlib.pyplot as plt\n",
        "import numpy as np\n",
        "import pandas as pd\n",
        "from tensorflow.keras import layers\n",
        "import shutil\n",
        "import random\n",
        "from PIL import Image\n",
        "import numpy as np\n",
        "import logging\n",
        "from sklearn.metrics import mean_squared_error\n",
        "logger = tf.get_logger()\n",
        "logger.setLevel(logging.ERROR)\n",
        "\n",
        "\n",
        "from tensorflow.python.client import device_lib\n",
        "device_lib.list_local_devices() \n"
      ]
    },
    {
      "cell_type": "markdown",
      "metadata": {
        "id": "AC3EQFi20buB"
      },
      "source": [
        "## Load training data from csv\n"
      ]
    },
    {
      "cell_type": "code",
      "execution_count": 2,
      "metadata": {},
      "outputs": [],
      "source": [
        "csv = pd.read_csv(\"train.csv\")\n",
        "\n",
        "Y = csv[\"y\"].tolist()\n",
        "# load columns x1 to x10 as an array of vectors\n",
        "X = np.array(csv[[\"x1\",\"x2\",\"x3\",\"x4\",\"x5\",\"x6\",\"x7\",\"x8\",\"x9\",\"x10\"]].values)\n",
        "\n",
        "X = np.array(X,  dtype=float)\n",
        "Y = np.array(Y,  dtype=float)\n",
        "\n",
        "X = tf.cast(X, tf.float32)\n",
        "Y = tf.cast(Y, tf.float32)\n",
        "\n",
        "#print(X.shape)\n",
        "# random.shuffle(image_ids)\n",
        "# random.shuffle(diagnostics)"
      ]
    },
    {
      "cell_type": "markdown",
      "metadata": {
        "id": "VM7_9Klvq7MO"
      },
      "source": [
        "## Create the model and compile it, with loss and optimizer functions"
      ]
    },
    {
      "cell_type": "code",
      "execution_count": 35,
      "metadata": {
        "id": "pRllo2HLfXiu"
      },
      "outputs": [],
      "source": [
        "model = tf.keras.Sequential([\n",
        "  tf.keras.layers.Dense(units=20, input_shape=[10]),\n",
        "  tf.keras.layers.Dense(units=1)\n",
        "])\n",
        "\n",
        "model.compile(loss='mean_squared_error', optimizer=tf.keras.optimizers.Adam(0.1), metrics=['mean_squared_error'])"
      ]
    },
    {
      "cell_type": "markdown",
      "metadata": {
        "id": "c-Jk4dG91dvD"
      },
      "source": [
        "## Train the model"
      ]
    },
    {
      "cell_type": "code",
      "execution_count": 36,
      "metadata": {},
      "outputs": [],
      "source": [
        "# BATCH_SIZE = 32\n",
        "# X = X.cache().repeat().shuffle(X.shape[0]).batch(BATCH_SIZE)\n",
        "# Y = Y.cache().batch(BATCH_SIZE)"
      ]
    },
    {
      "cell_type": "code",
      "execution_count": 37,
      "metadata": {
        "id": "lpRrl7WK10Pq"
      },
      "outputs": [
        {
          "name": "stdout",
          "output_type": "stream",
          "text": [
            "Epoch 1/100\n",
            "313/313 [==============================] - 0s 464us/step - loss: 26651.0996 - mean_squared_error: 26651.0996\n",
            "Epoch 2/100\n",
            "313/313 [==============================] - 0s 502us/step - loss: 116.9948 - mean_squared_error: 116.9948\n",
            "Epoch 3/100\n",
            "313/313 [==============================] - 0s 438us/step - loss: 1490.5323 - mean_squared_error: 1490.5323\n",
            "Epoch 4/100\n",
            "313/313 [==============================] - 0s 470us/step - loss: 0.0051 - mean_squared_error: 0.0051\n",
            "Epoch 5/100\n",
            "313/313 [==============================] - 0s 419us/step - loss: 1.8542e-06 - mean_squared_error: 1.8542e-06\n",
            "Epoch 6/100\n",
            "313/313 [==============================] - 0s 422us/step - loss: 1.2574e-04 - mean_squared_error: 1.2574e-04\n",
            "Epoch 7/100\n",
            "313/313 [==============================] - 0s 416us/step - loss: 536.3163 - mean_squared_error: 536.3163\n",
            "Epoch 8/100\n",
            "313/313 [==============================] - 0s 524us/step - loss: 14.8473 - mean_squared_error: 14.8473\n",
            "Epoch 9/100\n",
            "313/313 [==============================] - 0s 387us/step - loss: 1.2494e-06 - mean_squared_error: 1.2494e-06\n",
            "Epoch 10/100\n",
            "313/313 [==============================] - 0s 387us/step - loss: 2.7701e-07 - mean_squared_error: 2.7701e-07\n",
            "Epoch 11/100\n",
            "313/313 [==============================] - 0s 387us/step - loss: 2.2057e-06 - mean_squared_error: 2.2057e-06\n",
            "Epoch 12/100\n",
            "313/313 [==============================] - 0s 374us/step - loss: 408.4439 - mean_squared_error: 408.4439\n",
            "Epoch 13/100\n",
            "313/313 [==============================] - 0s 384us/step - loss: 4007959.0000 - mean_squared_error: 4007959.0000\n",
            "Epoch 14/100\n",
            "313/313 [==============================] - 0s 422us/step - loss: 0.1474 - mean_squared_error: 0.1474\n",
            "Epoch 15/100\n",
            "313/313 [==============================] - 0s 393us/step - loss: 0.0969 - mean_squared_error: 0.0969\n",
            "Epoch 16/100\n",
            "313/313 [==============================] - 0s 371us/step - loss: 0.0589 - mean_squared_error: 0.0589\n",
            "Epoch 17/100\n",
            "313/313 [==============================] - 0s 377us/step - loss: 0.0478 - mean_squared_error: 0.0478\n",
            "Epoch 18/100\n",
            "313/313 [==============================] - 0s 374us/step - loss: 0.0196 - mean_squared_error: 0.0196\n",
            "Epoch 19/100\n",
            "313/313 [==============================] - 0s 371us/step - loss: 0.0111 - mean_squared_error: 0.0111\n",
            "Epoch 20/100\n",
            "313/313 [==============================] - 0s 368us/step - loss: 0.0051 - mean_squared_error: 0.0051\n",
            "Epoch 21/100\n",
            "313/313 [==============================] - 0s 381us/step - loss: 0.0019 - mean_squared_error: 0.0019\n",
            "Epoch 22/100\n",
            "313/313 [==============================] - 0s 387us/step - loss: 7.4019e-04 - mean_squared_error: 7.4019e-04\n",
            "Epoch 23/100\n",
            "313/313 [==============================] - 0s 403us/step - loss: 5.9209e-04 - mean_squared_error: 5.9209e-04\n",
            "Epoch 24/100\n",
            "313/313 [==============================] - 0s 368us/step - loss: 0.0262 - mean_squared_error: 0.0262\n",
            "Epoch 25/100\n",
            "313/313 [==============================] - 0s 377us/step - loss: 2398.8655 - mean_squared_error: 2398.8655\n",
            "Epoch 26/100\n",
            "313/313 [==============================] - 0s 371us/step - loss: 37176.9727 - mean_squared_error: 37176.9727\n",
            "Epoch 27/100\n",
            "313/313 [==============================] - 0s 368us/step - loss: 2.6007 - mean_squared_error: 2.6007\n",
            "Epoch 28/100\n",
            "313/313 [==============================] - 0s 371us/step - loss: 0.2965 - mean_squared_error: 0.2965\n",
            "Epoch 29/100\n",
            "313/313 [==============================] - 0s 374us/step - loss: 0.0110 - mean_squared_error: 0.0110\n",
            "Epoch 30/100\n",
            "313/313 [==============================] - 0s 512us/step - loss: 0.0011 - mean_squared_error: 0.0011  \n",
            "Epoch 31/100\n",
            "313/313 [==============================] - ETA: 0s - loss: 29.1229 - mean_squared_error: 29.12 - 0s 409us/step - loss: 6759.5151 - mean_squared_error: 6759.5151\n",
            "Epoch 32/100\n",
            "313/313 [==============================] - 0s 371us/step - loss: 644.9172 - mean_squared_error: 644.9172\n",
            "Epoch 33/100\n",
            "313/313 [==============================] - 0s 374us/step - loss: 0.0186 - mean_squared_error: 0.0186\n",
            "Epoch 34/100\n",
            "313/313 [==============================] - 0s 371us/step - loss: 2.8425e-05 - mean_squared_error: 2.8425e-05\n",
            "Epoch 35/100\n",
            "313/313 [==============================] - 0s 371us/step - loss: 1.3059e-07 - mean_squared_error: 1.3059e-07\n",
            "Epoch 36/100\n",
            "313/313 [==============================] - 0s 371us/step - loss: 7.0504e-09 - mean_squared_error: 7.0504e-09\n",
            "Epoch 37/100\n",
            "313/313 [==============================] - 0s 374us/step - loss: 7.0889e-05 - mean_squared_error: 7.0889e-05\n",
            "Epoch 38/100\n",
            "313/313 [==============================] - 0s 371us/step - loss: 333.3957 - mean_squared_error: 333.3957\n",
            "Epoch 39/100\n",
            "313/313 [==============================] - 0s 393us/step - loss: 1139.6252 - mean_squared_error: 1139.6252\n",
            "Epoch 40/100\n",
            "313/313 [==============================] - 0s 377us/step - loss: 6.1399e-04 - mean_squared_error: 6.1399e-04\n",
            "Epoch 41/100\n",
            "313/313 [==============================] - 0s 403us/step - loss: 8.7274e-08 - mean_squared_error: 8.7274e-08\n",
            "Epoch 42/100\n",
            "313/313 [==============================] - 0s 425us/step - loss: 4.9572e-09 - mean_squared_error: 4.9572e-09\n",
            "Epoch 43/100\n",
            "313/313 [==============================] - 0s 374us/step - loss: 0.0030 - mean_squared_error: 0.0030\n",
            "Epoch 44/100\n",
            "313/313 [==============================] - 0s 384us/step - loss: 835451.2500 - mean_squared_error: 835451.2500\n",
            "Epoch 45/100\n",
            "313/313 [==============================] - 0s 384us/step - loss: 151.9335 - mean_squared_error: 151.9335\n",
            "Epoch 46/100\n",
            "313/313 [==============================] - 0s 377us/step - loss: 6.3066 - mean_squared_error: 6.3066\n",
            "Epoch 47/100\n",
            "313/313 [==============================] - 0s 441us/step - loss: 3.3370 - mean_squared_error: 3.3370\n",
            "Epoch 48/100\n",
            "313/313 [==============================] - 0s 377us/step - loss: 28.5569 - mean_squared_error: 28.5569\n",
            "Epoch 49/100\n",
            "313/313 [==============================] - 0s 368us/step - loss: 25486.5137 - mean_squared_error: 25486.5137\n",
            "Epoch 50/100\n",
            "313/313 [==============================] - 0s 416us/step - loss: 0.0457 - mean_squared_error: 0.0457\n",
            "Epoch 51/100\n",
            "313/313 [==============================] - 0s 371us/step - loss: 0.0036 - mean_squared_error: 0.0036\n",
            "Epoch 52/100\n",
            "313/313 [==============================] - 0s 371us/step - loss: 3.3960e-04 - mean_squared_error: 3.3960e-04\n",
            "Epoch 53/100\n",
            "313/313 [==============================] - 0s 381us/step - loss: 2.6112e-05 - mean_squared_error: 2.6112e-05\n",
            "Epoch 54/100\n",
            "313/313 [==============================] - 0s 371us/step - loss: 1.1431e-06 - mean_squared_error: 1.1431e-06\n",
            "Epoch 55/100\n",
            "313/313 [==============================] - 0s 387us/step - loss: 5.4261e-08 - mean_squared_error: 5.4261e-08\n",
            "Epoch 56/100\n",
            "313/313 [==============================] - 0s 368us/step - loss: 5.1617e-07 - mean_squared_error: 5.1617e-07\n",
            "Epoch 57/100\n",
            "313/313 [==============================] - 0s 374us/step - loss: 0.0327 - mean_squared_error: 0.0327\n",
            "Epoch 58/100\n",
            "313/313 [==============================] - 0s 384us/step - loss: 5744.1445 - mean_squared_error: 5744.1445\n",
            "Epoch 59/100\n",
            "313/313 [==============================] - 0s 371us/step - loss: 10.7614 - mean_squared_error: 10.7614\n",
            "Epoch 60/100\n",
            "313/313 [==============================] - 0s 371us/step - loss: 1.1307e-07 - mean_squared_error: 1.1307e-07\n",
            "Epoch 61/100\n",
            "313/313 [==============================] - 0s 377us/step - loss: 2.4730e-09 - mean_squared_error: 2.4730e-09\n",
            "Epoch 62/100\n",
            "313/313 [==============================] - 0s 374us/step - loss: 2.2677e-09 - mean_squared_error: 2.2677e-09\n",
            "Epoch 63/100\n",
            "313/313 [==============================] - 0s 371us/step - loss: 8.1756e-07 - mean_squared_error: 8.1756e-07\n",
            "Epoch 64/100\n",
            "313/313 [==============================] - 0s 448us/step - loss: 0.0160 - mean_squared_error: 0.0160  \n",
            "Epoch 65/100\n",
            "313/313 [==============================] - 0s 400us/step - loss: 354.7576 - mean_squared_error: 354.7576\n",
            "Epoch 66/100\n",
            "313/313 [==============================] - 0s 563us/step - loss: 75.3084 - mean_squared_error: 75.3084\n",
            "Epoch 67/100\n",
            "313/313 [==============================] - 0s 368us/step - loss: 0.5580 - mean_squared_error: 0.5580\n",
            "Epoch 68/100\n",
            "313/313 [==============================] - 0s 368us/step - loss: 47.9891 - mean_squared_error: 47.9891\n",
            "Epoch 69/100\n",
            "313/313 [==============================] - 0s 387us/step - loss: 1403510.0000 - mean_squared_error: 1403510.0000\n",
            "Epoch 70/100\n",
            "313/313 [==============================] - 0s 377us/step - loss: 203.8685 - mean_squared_error: 203.8685\n",
            "Epoch 71/100\n",
            "313/313 [==============================] - 0s 441us/step - loss: 0.2143 - mean_squared_error: 0.2143\n",
            "Epoch 72/100\n",
            "313/313 [==============================] - 0s 384us/step - loss: 0.0744 - mean_squared_error: 0.0744\n",
            "Epoch 73/100\n",
            "313/313 [==============================] - 0s 393us/step - loss: 0.0260 - mean_squared_error: 0.0260\n",
            "Epoch 74/100\n",
            "313/313 [==============================] - 0s 393us/step - loss: 0.0083 - mean_squared_error: 0.0083\n",
            "Epoch 75/100\n",
            "313/313 [==============================] - 0s 371us/step - loss: 0.0019 - mean_squared_error: 0.0019\n",
            "Epoch 76/100\n",
            "313/313 [==============================] - 0s 374us/step - loss: 2.6842e-04 - mean_squared_error: 2.6842e-04\n",
            "Epoch 77/100\n",
            "313/313 [==============================] - 0s 374us/step - loss: 0.0259 - mean_squared_error: 0.0259\n",
            "Epoch 78/100\n",
            "313/313 [==============================] - 0s 371us/step - loss: 1133.8822 - mean_squared_error: 1133.8822\n",
            "Epoch 79/100\n",
            "313/313 [==============================] - 0s 400us/step - loss: 15464.6699 - mean_squared_error: 15464.6699\n",
            "Epoch 80/100\n",
            "313/313 [==============================] - 0s 377us/step - loss: 0.1914 - mean_squared_error: 0.1914\n",
            "Epoch 81/100\n",
            "313/313 [==============================] - 0s 377us/step - loss: 0.0028 - mean_squared_error: 0.0028\n",
            "Epoch 82/100\n",
            "313/313 [==============================] - 0s 371us/step - loss: 9.3539e-05 - mean_squared_error: 9.3539e-05\n",
            "Epoch 83/100\n",
            "313/313 [==============================] - 0s 371us/step - loss: 6.0653e-05 - mean_squared_error: 6.0653e-05\n",
            "Epoch 84/100\n",
            "313/313 [==============================] - 0s 371us/step - loss: 0.0022 - mean_squared_error: 0.0022\n",
            "Epoch 85/100\n",
            "313/313 [==============================] - 0s 377us/step - loss: 666.9617 - mean_squared_error: 666.9617\n",
            "Epoch 86/100\n",
            "313/313 [==============================] - 0s 387us/step - loss: 1593.2335 - mean_squared_error: 1593.2335\n",
            "Epoch 87/100\n",
            "313/313 [==============================] - 0s 406us/step - loss: 2.0417 - mean_squared_error: 2.0417\n",
            "Epoch 88/100\n",
            "313/313 [==============================] - 0s 413us/step - loss: 1.6435e-04 - mean_squared_error: 1.6435e-04\n",
            "Epoch 89/100\n",
            "313/313 [==============================] - 0s 384us/step - loss: 1.2501e-05 - mean_squared_error: 1.2501e-05\n",
            "Epoch 90/100\n",
            "313/313 [==============================] - 0s 371us/step - loss: 0.3266 - mean_squared_error: 0.3266\n",
            "Epoch 91/100\n",
            "313/313 [==============================] - 0s 368us/step - loss: 1162.6014 - mean_squared_error: 1162.6014\n",
            "Epoch 92/100\n",
            "313/313 [==============================] - 0s 381us/step - loss: 8.9618 - mean_squared_error: 8.9618\n",
            "Epoch 93/100\n",
            "313/313 [==============================] - 0s 377us/step - loss: 3.4798e-04 - mean_squared_error: 3.4798e-04\n",
            "Epoch 94/100\n",
            "313/313 [==============================] - 0s 425us/step - loss: 1.0579e-05 - mean_squared_error: 1.0579e-05\n",
            "Epoch 95/100\n",
            "313/313 [==============================] - 0s 374us/step - loss: 1.2357 - mean_squared_error: 1.2357\n",
            "Epoch 96/100\n",
            "313/313 [==============================] - 0s 403us/step - loss: 827779.9375 - mean_squared_error: 827779.9375\n",
            "Epoch 97/100\n",
            "313/313 [==============================] - 0s 374us/step - loss: 36.5558 - mean_squared_error: 36.5558\n",
            "Epoch 98/100\n",
            "313/313 [==============================] - ETA: 0s - loss: 10.0396 - mean_squared_error: 10.03 - 0s 377us/step - loss: 9.3770 - mean_squared_error: 9.3770\n",
            "Epoch 99/100\n",
            "313/313 [==============================] - 0s 374us/step - loss: 3.0233 - mean_squared_error: 3.0233\n",
            "Epoch 100/100\n",
            "313/313 [==============================] - 0s 377us/step - loss: 0.5922 - mean_squared_error: 0.5922\n",
            "Finished training the model\n"
          ]
        }
      ],
      "source": [
        "history = model.fit(X, Y, epochs=100) # , verbose=False\n",
        "print(\"Finished training the model\")"
      ]
    },
    {
      "cell_type": "code",
      "execution_count": 38,
      "metadata": {},
      "outputs": [],
      "source": [
        "pred = model.predict(X)"
      ]
    },
    {
      "cell_type": "markdown",
      "metadata": {
        "id": "0-QsNCLD4MJZ"
      },
      "source": [
        "## Display training statistics"
      ]
    },
    {
      "cell_type": "code",
      "execution_count": 39,
      "metadata": {
        "id": "IeK6BzfbdO6_"
      },
      "outputs": [
        {
          "data": {
            "text/plain": [
              "[<matplotlib.lines.Line2D at 0x2260e45eeb0>]"
            ]
          },
          "execution_count": 39,
          "metadata": {},
          "output_type": "execute_result"
        },
        {
          "data": {
            "image/png": "[encoded data removed]",
            "text/plain": [
              "<Figure size 432x288 with 1 Axes>"
            ]
          },
          "metadata": {
            "needs_background": "light"
          },
          "output_type": "display_data"
        }
      ],
      "source": [
        "import matplotlib.pyplot as plt\n",
        "plt.xlabel('Epoch Number')\n",
        "plt.ylabel(\"Loss Magnitude\")\n",
        "plt.plot(history.history['loss'])"
      ]
    },
    {
      "cell_type": "markdown",
      "metadata": {
        "id": "LtQGDMob5LOD"
      },
      "source": [
        "## Use the model to predict values"
      ]
    },
    {
      "cell_type": "code",
      "execution_count": 40,
      "metadata": {
        "id": "oxNzL4lS2Gui"
      },
      "outputs": [
        {
          "name": "stdout",
          "output_type": "stream",
          "text": [
            "[[738.7428]]\n"
          ]
        }
      ],
      "source": [
        "print(model.predict([[1764.052345967664,400.1572083672233,978.7379841057392,2240.8931992014577,1867.5579901499675,-977.277879876411,950.0884175255894,-151.3572082976979,-103.21885179355785,410.59850193837235]]))"
      ]
    },
    {
      "cell_type": "markdown",
      "metadata": {},
      "source": [
        "## Calc accuracy"
      ]
    },
    {
      "cell_type": "code",
      "execution_count": 41,
      "metadata": {},
      "outputs": [
        {
          "name": "stdout",
          "output_type": "stream",
          "text": [
            "RMSE:  0.4648075891101706\n"
          ]
        }
      ],
      "source": [
        "RMSE = mean_squared_error(Y, pred)**0.5\n",
        "\n",
        "print(\"RMSE: \", RMSE)"
      ]
    },
    {
      "cell_type": "markdown",
      "metadata": {},
      "source": [
        "# Export results"
      ]
    },
    {
      "cell_type": "code",
      "execution_count": 43,
      "metadata": {},
      "outputs": [
        {
          "name": "stdout",
          "output_type": "stream",
          "text": [
            "(2000,)\n",
            "(2000,)\n"
          ]
        }
      ],
      "source": [
        "csv_test = pd.read_csv(\"test.csv\")\n",
        "\n",
        "id = np.array(csv_test[\"Id\"].tolist())\n",
        "X_test = np.array(csv_test[[\"x1\",\"x2\",\"x3\",\"x4\",\"x5\",\"x6\",\"x7\",\"x8\",\"x9\",\"x10\"]].values)\n",
        "\n",
        "Y = model.predict(X_test).reshape(-1)\n",
        "\n",
        "print(Y.shape)\n",
        "print(id.shape)\n",
        "\n",
        "# create new dataframe with columns Id and y\n",
        "df = pd.DataFrame({\"Id\": id, \"y\": Y})\n",
        "# write to csv\n",
        "df.to_csv(\"submission.csv\", index=False)"
      ]
    }
  ],
  "metadata": {
    "colab": {
      "collapsed_sections": [],
      "name": "l02c01_celsius_to_fahrenheit.ipynb",
      "toc_visible": true
    },
    "kernelspec": {
      "display_name": "Python 3",
      "name": "python3"
    },
    "language_info": {
      "codemirror_mode": {
        "name": "ipython",
        "version": 3
      },
      "file_extension": ".py",
      "mimetype": "text/x-python",
      "name": "python",
      "nbconvert_exporter": "python",
      "pygments_lexer": "ipython3",
      "version": "3.8.8"
    }
  },
  "nbformat": 4,
  "nbformat_minor": 0
}
