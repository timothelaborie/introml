{
  "cells": [
    {
      "cell_type": "markdown",
      "metadata": {
        "id": "fA93WUy1zzWf"
      },
      "source": [
        "## Import stuff"
      ]
    },
    {
      "cell_type": "code",
      "execution_count": 3,
      "metadata": {
        "id": "-ZMgCvSRFqxE"
      },
      "outputs": [
        {
          "name": "stdout",
          "output_type": "stream",
          "text": [
            "2.3.0\n",
            "tensorflow detects GPU: \n",
            "[name: \"/device:CPU:0\"\n",
            "device_type: \"CPU\"\n",
            "memory_limit: 268435456\n",
            "locality {\n",
            "}\n",
            "incarnation: 15719095128020892874\n",
            "]\n",
            "\n",
            "[PhysicalDevice(name='/physical_device:CPU:0', device_type='CPU')]\n",
            "torch detects GPU:  True\n"
          ]
        }
      ],
      "source": [
        "import tensorflow as tf\n",
        "import os\n",
        "import matplotlib.pyplot as plt\n",
        "import numpy as np\n",
        "import pandas as pd\n",
        "from tensorflow.keras import layers\n",
        "import shutil\n",
        "import random\n",
        "from PIL import Image\n",
        "import numpy as np\n",
        "import logging\n",
        "from sklearn.metrics import mean_squared_error\n",
        "from sklearn.model_selection import KFold\n",
        "import torch \n",
        "import torch.jit\n",
        "import torch.nn as nn \n",
        "import torchvision\n",
        "from torchvision import transforms, datasets\n",
        "logger = tf.get_logger()\n",
        "logger.setLevel(logging.ERROR)\n",
        "os.environ[\"CUDA_VISIBLE_DEVICES\"]=\"0,1\"\n",
        "\n",
        "print(tf.__version__)\n",
        "\n",
        "from tensorflow.python.client import device_lib\n",
        "print(\"tensorflow detects GPU: \")\n",
        "print(device_lib.list_local_devices() )\n",
        "print(tf.test.gpu_device_name())\n",
        "print(tf.config.list_physical_devices())\n",
        "\n",
        "print(\"torch detects GPU: \" , torch.cuda.is_available())\n"
      ]
    },
    {
      "cell_type": "markdown",
      "metadata": {
        "id": "AC3EQFi20buB"
      },
      "source": [
        "## Load training data from csv\n"
      ]
    },
    {
      "cell_type": "code",
      "execution_count": 4,
      "metadata": {},
      "outputs": [],
      "source": [
        "csv = pd.read_csv(\"train.csv\")\n",
        "\n",
        "Y = csv[\"y\"].tolist()\n",
        "# load columns x1 to x13 as an array of vectors\n",
        "X = np.array(csv[[\"x1\",\"x2\",\"x3\",\"x4\",\"x5\",\"x6\",\"x7\",\"x8\",\"x9\",\"x10\",\"x11\",\"x12\",\"x13\"]].values)\n",
        "\n",
        "X = np.array(X,  dtype=float)\n",
        "Y = np.array(Y,  dtype=float)\n",
        "\n",
        "# X = tf.cast(X, tf.float32)\n",
        "# Y = tf.cast(Y, tf.float32)\n",
        "\n"
      ]
    },
    {
      "cell_type": "markdown",
      "metadata": {
        "id": "VM7_9Klvq7MO"
      },
      "source": [
        "## Create the model and compile it, with loss and optimizer functions"
      ]
    },
    {
      "cell_type": "code",
      "execution_count": 7,
      "metadata": {
        "id": "pRllo2HLfXiu"
      },
      "outputs": [
        {
          "name": "stdout",
          "output_type": "stream",
          "text": [
            "Finished training for reg =  0.1\n",
            "Finished training for reg =  1\n",
            "Finished training for reg =  10\n",
            "Finished training for reg =  100\n",
            "Finished training for reg =  200\n",
            "[ 8.8654239  10.75496911  9.82050101  9.15744406 11.60638124]\n"
          ]
        }
      ],
      "source": [
        "reg_params = [0.1, 1, 10, 100, 200]\n",
        "res = np.zeros(5)\n",
        "\n",
        "for i in range(5):\n",
        "\n",
        "    reg = reg_params[i]\n",
        "    all_RMSE = np.zeros(10)\n",
        "\n",
        "    # Define the K-fold Cross Validator\n",
        "    kfold = KFold(n_splits=10, shuffle=False)\n",
        "\n",
        "    # K-fold Cross Validation model evaluation\n",
        "    fold_no = 0\n",
        "    for train, test in kfold.split(X, Y):\n",
        "\n",
        "        # print(train.shape)\n",
        "        # print(X.shape)\n",
        "        # print(X[train].shape)\n",
        "        # print(X[train])\n",
        "        # print(test.shape)\n",
        "        \n",
        "        #,kernel_initializer='zeros'\n",
        "        model = tf.keras.Sequential([\n",
        "            layers.Dense(1, input_shape=[13],kernel_regularizer=tf.keras.regularizers.L2(reg),bias_regularizer=tf.keras.regularizers.L2(reg)),\n",
        "        \n",
        "        ])\n",
        "\n",
        "        #tf.keras.optimizers.SGD(learning_rate=0.0001)\n",
        "        model.compile(optimizer='Adam', loss='mse') #, metrics=['mse']\n",
        "\n",
        "        history = model.fit(X[train], Y[train], epochs=500, verbose=False) # \n",
        "        \n",
        "\n",
        "        pred = model.predict(X[test])\n",
        "        # print(pred)\n",
        "\n",
        "        RMSE = mean_squared_error(Y[test], pred)**0.5\n",
        "\n",
        "        \n",
        "        all_RMSE[fold_no] = RMSE\n",
        "\n",
        "        fold_no+=1\n",
        "\n",
        "    print(\"Finished training for reg = \", reg)\n",
        "    res[i] = np.mean(all_RMSE)\n",
        "    # print(\"RMSE average with param \", reg,\": \", np.average(all_RMSE))\n",
        "\n",
        "print(res)\n"
      ]
    },
    {
      "cell_type": "markdown",
      "metadata": {},
      "source": [
        "# Export results"
      ]
    },
    {
      "cell_type": "code",
      "execution_count": null,
      "metadata": {},
      "outputs": [],
      "source": [
        "# write the RMSE to file \"submit.csv\"\n",
        "with open(\"submit.csv\", \"w\") as f:\n",
        "    for i in res:\n",
        "        f.write(str(i) + \"\\n\")\n",
        "\n"
      ]
    }
  ],
  "metadata": {
    "colab": {
      "collapsed_sections": [],
      "name": "l02c01_celsius_to_fahrenheit.ipynb",
      "toc_visible": true
    },
    "kernelspec": {
      "display_name": "Python 3",
      "name": "python3"
    },
    "language_info": {
      "codemirror_mode": {
        "name": "ipython",
        "version": 3
      },
      "file_extension": ".py",
      "mimetype": "text/x-python",
      "name": "python",
      "nbconvert_exporter": "python",
      "pygments_lexer": "ipython3",
      "version": "3.8.8"
    }
  },
  "nbformat": 4,
  "nbformat_minor": 0
}
