{
  "cells": [
    {
      "cell_type": "markdown",
      "metadata": {
        "id": "fA93WUy1zzWf"
      },
      "source": [
        "## Import stuff"
      ]
    },
    {
      "cell_type": "code",
      "execution_count": 13,
      "metadata": {
        "id": "-ZMgCvSRFqxE"
      },
      "outputs": [
        {
          "name": "stdout",
          "output_type": "stream",
          "text": [
            "2.3.0\n",
            "tensorflow detects GPU: \n",
            "[name: \"/device:CPU:0\"\n",
            "device_type: \"CPU\"\n",
            "memory_limit: 268435456\n",
            "locality {\n",
            "}\n",
            "incarnation: 10088875540084217716\n",
            "]\n",
            "\n",
            "[PhysicalDevice(name='/physical_device:CPU:0', device_type='CPU')]\n",
            "torch detects GPU:  True\n"
          ]
        }
      ],
      "source": [
        "import tensorflow as tf\n",
        "import os\n",
        "import matplotlib.pyplot as plt\n",
        "import numpy as np\n",
        "import pandas as pd\n",
        "from tensorflow.keras import layers\n",
        "import shutil\n",
        "import random\n",
        "from PIL import Image\n",
        "import numpy as np\n",
        "import logging\n",
        "from sklearn.metrics import mean_squared_error\n",
        "from sklearn.model_selection import KFold\n",
        "import torch \n",
        "import torch.jit\n",
        "import torch.nn as nn \n",
        "import torchvision\n",
        "from torchvision import transforms, datasets\n",
        "logger = tf.get_logger()\n",
        "logger.setLevel(logging.ERROR)\n",
        "os.environ[\"CUDA_VISIBLE_DEVICES\"]=\"0,1\"\n",
        "\n",
        "print(tf.__version__)\n",
        "\n",
        "from tensorflow.python.client import device_lib\n",
        "print(\"tensorflow detects GPU: \")\n",
        "print(device_lib.list_local_devices() )\n",
        "print(tf.test.gpu_device_name())\n",
        "print(tf.config.list_physical_devices())\n",
        "\n",
        "print(\"torch detects GPU: \" , torch.cuda.is_available())\n"
      ]
    },
    {
      "cell_type": "markdown",
      "metadata": {
        "id": "AC3EQFi20buB"
      },
      "source": [
        "## Load training data from csv\n"
      ]
    },
    {
      "cell_type": "code",
      "execution_count": 14,
      "metadata": {},
      "outputs": [],
      "source": [
        "csv = pd.read_csv(\"train.csv\")\n",
        "\n",
        "Y = csv[\"y\"].tolist()\n",
        "# load columns x1 to x13 as an array of vectors\n",
        "X = np.array(csv[[\"x1\",\"x2\",\"x3\",\"x4\",\"x5\",\"x6\",\"x7\",\"x8\",\"x9\",\"x10\",\"x11\",\"x12\",\"x13\"]].values)\n",
        "\n",
        "X = np.array(X,  dtype=float)\n",
        "Y = np.array(Y,  dtype=float)\n",
        "\n",
        "# X = tf.cast(X, tf.float32)\n",
        "# Y = tf.cast(Y, tf.float32)\n",
        "\n"
      ]
    },
    {
      "cell_type": "markdown",
      "metadata": {
        "id": "VM7_9Klvq7MO"
      },
      "source": [
        "## Ridge regression"
      ]
    },
    {
      "cell_type": "code",
      "execution_count": 18,
      "metadata": {
        "id": "pRllo2HLfXiu"
      },
      "outputs": [
        {
          "name": "stdout",
          "output_type": "stream",
          "text": [
            "Finished training for reg =  0.1  RMSE =  5.5036383031096365\n",
            "Finished training for reg =  1  RMSE =  5.4804002762225394\n",
            "Finished training for reg =  10  RMSE =  5.46988555277208\n",
            "Finished training for reg =  100  RMSE =  5.931931132833601\n",
            "Finished training for reg =  200  RMSE =  6.2433465001447725\n",
            "[5.5036383  5.48040028 5.46988555 5.93193113 6.2433465 ]\n"
          ]
        }
      ],
      "source": [
        "reg_params = [0.1, 1, 10, 100, 200]\n",
        "res = np.zeros(5)\n",
        "\n",
        "for i in range(5):\n",
        "\n",
        "    reg = reg_params[i]\n",
        "    all_RMSE = np.zeros(10)\n",
        "\n",
        "    kfold = KFold(n_splits=10, shuffle=False)\n",
        "\n",
        "\n",
        "    fold_no = 0\n",
        "    for train, test in kfold.split(X, Y):\n",
        "\n",
        "        A = X[train]\n",
        "        b = Y[train]\n",
        "\n",
        "        # print(A.shape)\n",
        "        # ridge regression in closed form\n",
        "        x = (np.linalg.inv(A.T @ A + reg * np.eye(13)) @ A.T @ b)\n",
        "        \n",
        "        # use x to predict everything in X[test]\n",
        "        pred = X[test] @ x\n",
        "        # print(pred)\n",
        "\n",
        "        RMSE = mean_squared_error(Y[test], pred)**0.5\n",
        "\n",
        "        \n",
        "        all_RMSE[fold_no] = RMSE\n",
        "\n",
        "        fold_no+=1\n",
        "\n",
        "    print(\"Finished training for reg = \", reg, \" RMSE = \", np.mean(all_RMSE))\n",
        "    res[i] = np.mean(all_RMSE)\n",
        "\n",
        "print(res)\n"
      ]
    },
    {
      "cell_type": "markdown",
      "metadata": {},
      "source": [
        "# Export results"
      ]
    },
    {
      "cell_type": "code",
      "execution_count": 19,
      "metadata": {},
      "outputs": [],
      "source": [
        "# write the RMSE to file \"submit.csv\"\n",
        "with open(\"submit.csv\", \"w\") as f:\n",
        "    for i in res:\n",
        "        f.write(str(i) + \"\\n\")\n",
        "\n"
      ]
    }
  ],
  "metadata": {
    "colab": {
      "collapsed_sections": [],
      "name": "l02c01_celsius_to_fahrenheit.ipynb",
      "toc_visible": true
    },
    "kernelspec": {
      "display_name": "Python 3",
      "name": "python3"
    },
    "language_info": {
      "codemirror_mode": {
        "name": "ipython",
        "version": 3
      },
      "file_extension": ".py",
      "mimetype": "text/x-python",
      "name": "python",
      "nbconvert_exporter": "python",
      "pygments_lexer": "ipython3",
      "version": "3.8.8"
    }
  },
  "nbformat": 4,
  "nbformat_minor": 0
}
