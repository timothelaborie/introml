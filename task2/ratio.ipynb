{
 "cells": [
  {
   "cell_type": "code",
   "execution_count": null,
   "metadata": {},
   "outputs": [],
   "source": [
    "import csv\n",
    "\n",
    "import os\n",
    "import matplotlib.pyplot as plt\n",
    "import numpy as np\n",
    "import pandas as pd\n",
    "\n",
    "import shutil\n",
    "import random\n",
    "from PIL import Image\n",
    "import numpy as np\n",
    "import logging\n",
    "from sklearn.metrics import mean_squared_error\n",
    "from sklearn.model_selection import KFold\n",
    "\n",
    "\n",
    "\n",
    "import torchvision\n",
    "\n",
    "import math\n",
    "\n",
    "logger.setLevel(logging.ERROR)\n",
    "os.environ[\"CUDA_VISIBLE_DEVICES\"]=\"0,1\"\n",
    "\n",
    "print(tf.__version__)\n",
    "\n",
    "from tensorflow.python.client import device_lib\n",
    "print(\"tensorflow doesn't detects GPU: \")\n",
    "print(device_lib.list_local_devices() )\n",
    "print(tf.test.gpu_device_name())\n",
    "print(tf.config.list_physical_devices())\n",
    "\n",
    "print(\"torch detects GPU: \" , torch.cuda.is_available())\n"
   ]
  },
  {
   "cell_type": "code",
   "execution_count": null,
   "metadata": {},
   "outputs": [],
   "source": [
    "patients = pd.read_csv(\"train_features.csv\")\n",
    "# patients = pd.read_csv(\"test_features.csv\")\n",
    "\n",
    "\n",
    "#get the mean for each column\n",
    "mean_values = patients.mean()\n",
    "\n",
    "\n",
    "# go through 12 rows at a time\n",
    "for i in range(0, len(patients), 12):\n",
    "    # get the 12 rows\n",
    "    patient = patients.iloc[i:i+12]\n",
    "    #for each column, use linear interpolation to replace the nan values\n",
    "    for col in patient.columns:\n",
    "        patient[col] = patient[col].interpolate(method='linear')\n",
    "        # mean = patient[col].mean()\n",
    "        # if math.isnan(mean):\n",
    "        #     patient[col] = mean_values[col]\n",
    "        mean = patient[col].mean()\n",
    "        patient[col] = patient[col].fillna(mean)\n",
    "\n",
    "\n",
    "\n",
    "    if i%1000 == 0:\n",
    "        print(i)\n",
    "        # break\n",
    "    # break\n",
    "\n",
    "\n",
    "\n",
    "#save the dataframe\n",
    "# patients.to_csv(\"train_features_fixed.csv\", index=False, float_format='%.3f',na_rep='nan')\n",
    "patients.to_csv(\"train_features_fixed_withnancols.csv\", index=False, float_format='%.3f',na_rep='nan')\n",
    "# patients.to_csv(\"test_features_fixed_withnancols.csv\", index=False, float_format='%.3f',na_rep='nan')\n",
    "\n",
    "\n"
   ]
  },
  {
   "cell_type": "code",
   "execution_count": null,
   "metadata": {},
   "outputs": [],
   "source": [
    "# patients = pd.read_csv(\"train_features_fixed.csv\")\n",
    "# patients = pd.read_csv(\"test_features_fixed.csv\")\n",
    "patients = pd.read_csv(\"train_features_fixed_withnancols.csv\")\n",
    "\n",
    "#normalize each column except the first 2\n",
    "patients2 = patients.iloc[:,2:]\n",
    "patients2 = patients2.apply(lambda x: (x - x.min()) / (x.max() - x.min()))\n",
    "\n",
    "#apply the changes to the original\n",
    "patients.iloc[:,2:] = patients2\n",
    "\n",
    "\n",
    "#save the dataframe\n",
    "patients.to_csv(\"train_features_normalized_withnancols.csv\", index=False, float_format='%.3f',na_rep='nan')"
   ]
  },
  {
   "cell_type": "code",
   "execution_count": 1,
   "metadata": {},
   "outputs": [
    {
     "ename": "AttributeError",
     "evalue": "'DataFrame' object has no attribute 'column'",
     "output_type": "error",
     "traceback": [
      "\u001b[1;31m---------------------------------------------------------------------------\u001b[0m",
      "\u001b[1;31mAttributeError\u001b[0m                            Traceback (most recent call last)",
      "\u001b[1;32mC:\\Users\\WANGNI~1\\AppData\\Local\\Temp/ipykernel_32120/2379080146.py\u001b[0m in \u001b[0;36m<module>\u001b[1;34m\u001b[0m\n\u001b[0;32m      2\u001b[0m \u001b[1;32mfor\u001b[0m \u001b[0mk\u001b[0m \u001b[1;32min\u001b[0m \u001b[0mrange\u001b[0m\u001b[1;33m(\u001b[0m\u001b[1;36m35\u001b[0m\u001b[1;33m)\u001b[0m\u001b[1;33m:\u001b[0m\u001b[1;33m\u001b[0m\u001b[1;33m\u001b[0m\u001b[0m\n\u001b[0;32m      3\u001b[0m  \u001b[0mdf\u001b[0m \u001b[1;33m=\u001b[0m \u001b[0mpd\u001b[0m\u001b[1;33m.\u001b[0m\u001b[0mread_csv\u001b[0m\u001b[1;33m(\u001b[0m\u001b[1;34m'train_features.csv'\u001b[0m\u001b[1;33m,\u001b[0m \u001b[0mdelimiter\u001b[0m\u001b[1;33m=\u001b[0m\u001b[1;34m','\u001b[0m\u001b[1;33m)\u001b[0m\u001b[1;33m\u001b[0m\u001b[1;33m\u001b[0m\u001b[0m\n\u001b[1;32m----> 4\u001b[1;33m  \u001b[0mcol_list\u001b[0m \u001b[1;33m=\u001b[0m \u001b[0mdf\u001b[0m\u001b[1;33m.\u001b[0m\u001b[0mcolumn\u001b[0m\u001b[1;33m.\u001b[0m\u001b[0mvalues\u001b[0m\u001b[1;33m.\u001b[0m\u001b[0mtolist\u001b[0m\u001b[1;33m(\u001b[0m\u001b[1;33m)\u001b[0m\u001b[1;33m\u001b[0m\u001b[1;33m\u001b[0m\u001b[0m\n\u001b[0m\u001b[0;32m      5\u001b[0m  \u001b[0mnew_column\u001b[0m \u001b[1;33m=\u001b[0m \u001b[0mdf\u001b[0m\u001b[1;33m[\u001b[0m\u001b[0mcol_list\u001b[0m\u001b[1;33m[\u001b[0m\u001b[1;33m-\u001b[0m\u001b[1;36m1\u001b[0m\u001b[1;33m]\u001b[0m\u001b[1;33m]\u001b[0m \u001b[1;33m+\u001b[0m \u001b[1;36m1\u001b[0m\u001b[1;33m\u001b[0m\u001b[1;33m\u001b[0m\u001b[0m\n\u001b[0;32m      6\u001b[0m  \u001b[0mdf\u001b[0m\u001b[1;33m[\u001b[0m\u001b[1;34m'ratio'\u001b[0m\u001b[1;33m]\u001b[0m \u001b[1;33m=\u001b[0m \u001b[0mnew_column\u001b[0m \u001b[1;31m#renaming still needed\u001b[0m\u001b[1;33m\u001b[0m\u001b[1;33m\u001b[0m\u001b[0m\n",
      "\u001b[1;32m~\\anaconda3\\lib\\site-packages\\pandas\\core\\generic.py\u001b[0m in \u001b[0;36m__getattr__\u001b[1;34m(self, name)\u001b[0m\n\u001b[0;32m   5485\u001b[0m         ):\n\u001b[0;32m   5486\u001b[0m             \u001b[1;32mreturn\u001b[0m \u001b[0mself\u001b[0m\u001b[1;33m[\u001b[0m\u001b[0mname\u001b[0m\u001b[1;33m]\u001b[0m\u001b[1;33m\u001b[0m\u001b[1;33m\u001b[0m\u001b[0m\n\u001b[1;32m-> 5487\u001b[1;33m         \u001b[1;32mreturn\u001b[0m \u001b[0mobject\u001b[0m\u001b[1;33m.\u001b[0m\u001b[0m__getattribute__\u001b[0m\u001b[1;33m(\u001b[0m\u001b[0mself\u001b[0m\u001b[1;33m,\u001b[0m \u001b[0mname\u001b[0m\u001b[1;33m)\u001b[0m\u001b[1;33m\u001b[0m\u001b[1;33m\u001b[0m\u001b[0m\n\u001b[0m\u001b[0;32m   5488\u001b[0m \u001b[1;33m\u001b[0m\u001b[0m\n\u001b[0;32m   5489\u001b[0m     \u001b[1;32mdef\u001b[0m \u001b[0m__setattr__\u001b[0m\u001b[1;33m(\u001b[0m\u001b[0mself\u001b[0m\u001b[1;33m,\u001b[0m \u001b[0mname\u001b[0m\u001b[1;33m:\u001b[0m \u001b[0mstr\u001b[0m\u001b[1;33m,\u001b[0m \u001b[0mvalue\u001b[0m\u001b[1;33m)\u001b[0m \u001b[1;33m->\u001b[0m \u001b[1;32mNone\u001b[0m\u001b[1;33m:\u001b[0m\u001b[1;33m\u001b[0m\u001b[1;33m\u001b[0m\u001b[0m\n",
      "\u001b[1;31mAttributeError\u001b[0m: 'DataFrame' object has no attribute 'column'"
     ]
    }
   ],
   "source": [
    "import pandas as pd\n",
    "for k in range(35):\n",
    " df = pd.read_csv('train_features.csv', delimiter=',')\n",
    " col_list = df.column.values.tolist() \n",
    " new_column = df[col_list[-1]] + 1\n",
    " df['ratio'] = new_column #renaming still needed"
   ]
  },
  {
   "cell_type": "code",
   "execution_count": null,
   "metadata": {},
   "outputs": [],
   "source": [
    "df = pd.read_csv('train_features.csv', delimiter=',')\n",
    "col_list = df.column.values.tolist() \n",
    "for k in range(35):\n",
    " col = col_list[k]\n",
    " df.col.tolist()\n",
    " ratio = col[0]//col[-1]\n",
    " for row in df:\n",
    "     row.append(ratio)"
   ]
  },
  {
   "cell_type": "code",
   "execution_count": null,
   "metadata": {},
   "outputs": [],
   "source": [
    "df.to_csv('train_features.csv', index=False, float_format='%.3f')\n",
    "# df.to_csv('train_features_with_ratios.zip', index=False, float_format='%.3f', compression='zip')"
   ]
  }
 ],
 "metadata": {
  "interpreter": {
   "hash": "2c67c51e164dd2e7e6d1f00b023e2bb0051348001cfe4d36e207bc15202060e6"
  },
  "kernelspec": {
   "display_name": "Python 3.9.7 ('base')",
   "language": "python",
   "name": "python3"
  },
  "language_info": {
   "codemirror_mode": {
    "name": "ipython",
    "version": 3
   },
   "file_extension": ".py",
   "mimetype": "text/x-python",
   "name": "python",
   "nbconvert_exporter": "python",
   "pygments_lexer": "ipython3",
   "version": "3.9.7"
  },
  "orig_nbformat": 4
 },
 "nbformat": 4,
 "nbformat_minor": 2
}
