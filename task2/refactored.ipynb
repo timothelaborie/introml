{
  "cells": [
    {
      "cell_type": "markdown",
      "metadata": {
        "id": "fA93WUy1zzWf"
      },
      "source": [
        "## Import stuff"
      ]
    },
    {
      "cell_type": "code",
      "execution_count": 1,
      "metadata": {
        "id": "-ZMgCvSRFqxE"
      },
      "outputs": [
        {
          "name": "stdout",
          "output_type": "stream",
          "text": [
            "2.3.0\n",
            "tensorflow doesn't detects GPU: \n",
            "[name: \"/device:CPU:0\"\n",
            "device_type: \"CPU\"\n",
            "memory_limit: 268435456\n",
            "locality {\n",
            "}\n",
            "incarnation: 2780746865416498767\n",
            "]\n",
            "\n",
            "[PhysicalDevice(name='/physical_device:CPU:0', device_type='CPU')]\n",
            "torch detects GPU:  True\n"
          ]
        }
      ],
      "source": [
        "import tensorflow as tf\n",
        "import os\n",
        "import matplotlib.pyplot as plt\n",
        "import numpy as np\n",
        "import pandas as pd\n",
        "from tensorflow.keras import layers\n",
        "import shutil\n",
        "import random\n",
        "from PIL import Image\n",
        "import numpy as np\n",
        "import logging\n",
        "from sklearn.metrics import mean_squared_error\n",
        "from sklearn.model_selection import KFold\n",
        "import torch \n",
        "import torch.jit\n",
        "import torch.nn as nn \n",
        "import torchvision\n",
        "from torchvision import transforms, datasets\n",
        "import sklearn.metrics as metrics\n",
        "from sklearn.svm import SVC\n",
        "from sklearn import svm\n",
        "from sklearn import datasets\n",
        "from sklearn.pipeline import make_pipeline\n",
        "from sklearn.preprocessing import PolynomialFeatures\n",
        "from sklearn.kernel_ridge import KernelRidge\n",
        "from sklearn.linear_model import Ridge\n",
        "from sklearn.model_selection import cross_val_score\n",
        "from sklearn.metrics import mean_squared_error\n",
        "from sklearn.linear_model import LogisticRegression\n",
        "from sklearn.ensemble import RandomForestClassifier\n",
        "from sklearn.ensemble import AdaBoostClassifier\n",
        "from sklearn.impute import KNNImputer\n",
        "from imblearn.over_sampling import RandomOverSampler\n",
        "from imblearn.under_sampling import ClusterCentroids\n",
        "logger = tf.get_logger()\n",
        "logger.setLevel(logging.ERROR)\n",
        "os.environ[\"CUDA_VISIBLE_DEVICES\"]=\"0,1\"\n",
        "\n",
        "print(tf.__version__)\n",
        "\n",
        "from tensorflow.python.client import device_lib\n",
        "print(\"tensorflow doesn't detects GPU: \")\n",
        "print(device_lib.list_local_devices() )\n",
        "print(tf.test.gpu_device_name())\n",
        "print(tf.config.list_physical_devices())\n",
        "\n",
        "print(\"torch detects GPU: \" , torch.cuda.is_available())\n",
        "\n",
        "oversampler = RandomOverSampler(random_state=0)\n",
        "undersampler = ClusterCentroids(random_state=0)\n",
        "\n",
        "\n",
        "def get_score(df_true, df_submission):\n",
        "    for i in range(df_true.shape[1]):\n",
        "        print(\"score for col \",i,\": \" , metrics.roc_auc_score(df_true[:,i], df_submission[:,i]))\n"
      ]
    },
    {
      "cell_type": "markdown",
      "metadata": {
        "id": "AC3EQFi20buB"
      },
      "source": [
        "## Load training data from csv\n"
      ]
    },
    {
      "cell_type": "code",
      "execution_count": 8,
      "metadata": {},
      "outputs": [
        {
          "name": "stdout",
          "output_type": "stream",
          "text": [
            "X shape:  (18995, 420)\n",
            "Y shape:  (18995, 15)\n"
          ]
        }
      ],
      "source": [
        "features_df_normalized = pd.read_csv(\"train_features_normalized.csv\")\n",
        "labels_df = pd.read_csv(\"train_labels.csv\")\n",
        "\n",
        "X = np.array(features_df_normalized.iloc[:, 2:].values,  dtype=float).reshape(227940//12,35*12)\n",
        "\n",
        "\n",
        "X_train = X[:int(X.shape[0]*0.8)]\n",
        "X_valid = X[int(X.shape[0]*0.8):]\n",
        "\n",
        "\n",
        "Y = np.array(labels_df.iloc[:, 1:].values,  dtype=float)\n",
        "Y_train = Y[:int(Y.shape[0]*0.8)]\n",
        "Y_valid = Y[int(Y.shape[0]*0.8):]\n",
        "\n",
        "\n",
        "print(\"X shape: \", X.shape)\n",
        "print(\"Y shape: \", Y.shape)\n"
      ]
    },
    {
      "cell_type": "markdown",
      "metadata": {
        "id": "VM7_9Klvq7MO"
      },
      "source": [
        "## The function that trains and rates models"
      ]
    },
    {
      "cell_type": "code",
      "execution_count": 18,
      "metadata": {},
      "outputs": [],
      "source": [
        "def find_best_model(col, X_train, Y_train, X_valid, Y_valid, X_test):\n",
        "    models = []\n",
        "    print(\"training nn for col \", col)\n",
        "    nn = tf.keras.Sequential([\n",
        "        layers.Dense(64, activation='relu'),\n",
        "        layers.Dense(64, activation='relu'),\n",
        "        layers.Dense(1, activation='sigmoid')\n",
        "    ])\n",
        "    nn.compile(optimizer='adam', loss='binary_crossentropy')\n",
        "    nn.fit(X_train, Y_train[:,col], epochs=10, verbose=False)\n",
        "    models.append(nn)\n",
        "\n",
        "    if(col<11):\n",
        "        print(\"training lr for col \", col)\n",
        "        lr = LogisticRegression(max_iter=1000)\n",
        "        lr.fit(X_train, Y_train[:,col])\n",
        "        models.append(lr)\n",
        "    \n",
        "    print(\"done training for col \", col)\n",
        "\n",
        "    best_score = 0\n",
        "    best_model = None\n",
        "    for model in models:\n",
        "        pred = model.predict(X_valid)\n",
        "        if(col>10):\n",
        "            score = 0.5 + 0.5 * np.maximum(0, metrics.r2_score(Y_valid[:,col], pred))\n",
        "        else:\n",
        "            score = metrics.roc_auc_score(Y_valid[:,col], pred)\n",
        "        print(\"score for\",type(model),\": \" , score)\n",
        "        if score > best_score:\n",
        "            best_score = score\n",
        "            best_model = model\n",
        "\n",
        "    print(\"best model: \", type(best_model))\n",
        "    predictions = best_model.predict(X_test)\n",
        "\n",
        "    return predictions"
      ]
    },
    {
      "cell_type": "markdown",
      "metadata": {},
      "source": [
        "## Writing results"
      ]
    },
    {
      "cell_type": "code",
      "execution_count": null,
      "metadata": {},
      "outputs": [],
      "source": [
        "\n",
        "X_test = pd.read_csv(\"test_features_normalized.csv\")\n",
        "X_test = np.array(X_test.iloc[:, 2:].values,  dtype=float).reshape(151968//12,35*12)\n",
        "\n",
        "for i in range(0,15):\n",
        "    pred = find_best_model(i, X_train, Y_train, X_valid, Y_valid, X_test)\n",
        "\n",
        "# print(pred)\n",
        "\n",
        "\n",
        "# pred1 = []\n",
        "# for i in range(0, 15):\n",
        "#     Y_pred_lr = pred1.append(models[i].predict_proba(test_X_normalized)[:,1])\n",
        "\n",
        "\n",
        "# pred1 = np.array(pred1).transpose()\n",
        "# # pred1 = model1.predict(test_X_normalized)\n",
        "# pred2 = model2.predict(test_X_normalized)\n",
        "# # pred2 = model2.predict(test_X_small)\n",
        "# # pred2 = (pred2+1)/2\n",
        "# # np.clip(pred2, 0, 1, out=pred2)\n",
        "# pred3 = model3.predict(test_X_normalized)\n",
        "\n",
        "# print(pred2[pred2==0].shape)\n",
        "# print(pred2[pred2>0.5].shape)\n"
      ]
    },
    {
      "cell_type": "code",
      "execution_count": null,
      "metadata": {},
      "outputs": [
        {
          "name": "stdout",
          "output_type": "stream",
          "text": [
            "(12664, 16)\n",
            "(12664, 16)\n",
            "(12664, 10)\n",
            "(12664,)\n",
            "(12664, 4)\n"
          ]
        }
      ],
      "source": [
        "# sample = pd.read_csv(\"sample.csv\")\n",
        "# print(sample.shape)\n",
        "# submit =  pd.DataFrame(np.zeros((12664,16)), columns=[sample.columns])\n",
        "# print(submit.shape)\n",
        "# print(pred1.shape)\n",
        "# print(pred2.shape)\n",
        "# print(pred3.shape)\n",
        "# # print(submit)\n",
        "\n",
        "\n",
        "# submit.iloc[:,0] = sample.iloc[:,0]\n",
        "# submit.iloc[:,1:11] = pred1\n",
        "# submit.iloc[:,11] = pred2\n",
        "# submit.iloc[:,12:] = pred3\n",
        "\n",
        "# submit.to_csv('submit.zip', index=False, float_format='%.3f', compression='zip')\n",
        "# submit.to_csv('submit.csv', index=False, float_format='%.3f')"
      ]
    }
  ],
  "metadata": {
    "colab": {
      "collapsed_sections": [],
      "name": "l02c01_celsius_to_fahrenheit.ipynb",
      "toc_visible": true
    },
    "kernelspec": {
      "display_name": "Python 3",
      "name": "python3"
    },
    "language_info": {
      "codemirror_mode": {
        "name": "ipython",
        "version": 3
      },
      "file_extension": ".py",
      "mimetype": "text/x-python",
      "name": "python",
      "nbconvert_exporter": "python",
      "pygments_lexer": "ipython3",
      "version": "3.8.8"
    }
  },
  "nbformat": 4,
  "nbformat_minor": 0
}
