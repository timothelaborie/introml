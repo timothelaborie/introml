{
  "cells": [
    {
      "cell_type": "markdown",
      "metadata": {
        "id": "fA93WUy1zzWf"
      },
      "source": [
        "## Import stuff"
      ]
    },
    {
      "cell_type": "code",
      "execution_count": 1,
      "metadata": {
        "id": "-ZMgCvSRFqxE"
      },
      "outputs": [
        {
          "name": "stdout",
          "output_type": "stream",
          "text": [
            "2.3.0\n",
            "tensorflow doesn't detects GPU: \n",
            "[name: \"/device:CPU:0\"\n",
            "device_type: \"CPU\"\n",
            "memory_limit: 268435456\n",
            "locality {\n",
            "}\n",
            "incarnation: 15139062358519593555\n",
            "]\n",
            "\n",
            "[PhysicalDevice(name='/physical_device:CPU:0', device_type='CPU')]\n",
            "torch detects GPU:  True\n"
          ]
        }
      ],
      "source": [
        "import tensorflow as tf\n",
        "import os\n",
        "import matplotlib.pyplot as plt\n",
        "import numpy as np\n",
        "import pandas as pd\n",
        "from tensorflow.keras import layers\n",
        "import shutil\n",
        "import random\n",
        "from PIL import Image\n",
        "import numpy as np\n",
        "import logging\n",
        "from sklearn.metrics import mean_squared_error\n",
        "from sklearn.model_selection import KFold\n",
        "import torch \n",
        "import torch.jit\n",
        "import torch.nn as nn \n",
        "import torchvision\n",
        "from torchvision import transforms, datasets\n",
        "import sklearn.metrics as metrics\n",
        "from sklearn.svm import SVC\n",
        "from sklearn import svm\n",
        "from sklearn import datasets\n",
        "from sklearn.pipeline import make_pipeline\n",
        "from sklearn.preprocessing import PolynomialFeatures\n",
        "from sklearn.kernel_ridge import KernelRidge\n",
        "from sklearn.linear_model import Ridge\n",
        "from sklearn.model_selection import cross_val_score\n",
        "from sklearn.metrics import mean_squared_error\n",
        "from sklearn.linear_model import LogisticRegression\n",
        "from sklearn.ensemble import RandomForestClassifier\n",
        "from sklearn.ensemble import AdaBoostClassifier\n",
        "from sklearn.impute import KNNImputer\n",
        "from imblearn.over_sampling import RandomOverSampler\n",
        "from imblearn.under_sampling import ClusterCentroids\n",
        "from sklearn.model_selection import train_test_split\n",
        "from sklearn.preprocessing import StandardScaler\n",
        "from sklearn.datasets import make_moons, make_circles, make_classification\n",
        "from sklearn.neural_network import MLPClassifier\n",
        "from sklearn.neighbors import KNeighborsClassifier\n",
        "from sklearn.svm import SVC\n",
        "from sklearn.gaussian_process import GaussianProcessClassifier\n",
        "from sklearn.gaussian_process.kernels import RBF\n",
        "from sklearn.tree import DecisionTreeClassifier\n",
        "from sklearn.ensemble import RandomForestClassifier, AdaBoostClassifier\n",
        "from sklearn.naive_bayes import GaussianNB\n",
        "from sklearn.discriminant_analysis import QuadraticDiscriminantAnalysis\n",
        "logger = tf.get_logger()\n",
        "logger.setLevel(logging.ERROR)\n",
        "os.environ[\"CUDA_VISIBLE_DEVICES\"]=\"0,1\"\n",
        "\n",
        "print(tf.__version__)\n",
        "\n",
        "from tensorflow.python.client import device_lib\n",
        "print(\"tensorflow doesn't detects GPU: \")\n",
        "print(device_lib.list_local_devices() )\n",
        "print(tf.test.gpu_device_name())\n",
        "print(tf.config.list_physical_devices())\n",
        "\n",
        "print(\"torch detects GPU: \" , torch.cuda.is_available())\n",
        "\n",
        "oversampler = RandomOverSampler(random_state=0)\n",
        "undersampler = ClusterCentroids(random_state=0)\n",
        "\n",
        "\n",
        "def get_score(df_true, df_submission):\n",
        "    for i in range(df_true.shape[1]):\n",
        "        print(\"score for col \",i,\": \" , metrics.roc_auc_score(df_true[:,i], df_submission[:,i]))\n"
      ]
    },
    {
      "cell_type": "markdown",
      "metadata": {
        "id": "AC3EQFi20buB"
      },
      "source": [
        "## Load training data from csv\n"
      ]
    },
    {
      "cell_type": "code",
      "execution_count": 2,
      "metadata": {},
      "outputs": [
        {
          "name": "stdout",
          "output_type": "stream",
          "text": [
            "X shape:  (18995, 420)\n",
            "Y shape:  (18995, 15)\n"
          ]
        }
      ],
      "source": [
        "features_df_normalized = pd.read_csv(\"train_features_normalized.csv\")\n",
        "labels_df = pd.read_csv(\"train_labels.csv\")\n",
        "\n",
        "X = np.array(features_df_normalized.iloc[:, 2:].values,  dtype=float).reshape(227940//12,35*12)\n",
        "\n",
        "\n",
        "X_train = X[:int(X.shape[0]*0.8)]\n",
        "X_valid = X[int(X.shape[0]*0.8):]\n",
        "\n",
        "\n",
        "Y = np.array(labels_df.iloc[:, 1:].values,  dtype=float)\n",
        "Y_train = Y[:int(Y.shape[0]*0.8)]\n",
        "Y_valid = Y[int(Y.shape[0]*0.8):]\n",
        "\n",
        "\n",
        "print(\"X shape: \", X.shape)\n",
        "print(\"Y shape: \", Y.shape)\n"
      ]
    },
    {
      "cell_type": "markdown",
      "metadata": {
        "id": "VM7_9Klvq7MO"
      },
      "source": [
        "## The function that trains and rates models"
      ]
    },
    {
      "cell_type": "code",
      "execution_count": 3,
      "metadata": {},
      "outputs": [],
      "source": [
        "def find_best_model(col, X_train, Y_train, X_valid, Y_valid, X_test):\n",
        "    models = []\n",
        "\n",
        "    #task 1 and 2\n",
        "    if(col<11):        \n",
        "        print(\"training sigmoid nn for col \", col)\n",
        "        nn2 = tf.keras.Sequential([\n",
        "            layers.Dense(64, activation='relu'),\n",
        "            layers.Dense(64, activation='relu'),\n",
        "            layers.Dense(1, activation='sigmoid')\n",
        "        ])\n",
        "        nn2.compile(optimizer='adam', loss='binary_crossentropy')\n",
        "        nn2.fit(X_train, Y_train[:,col], epochs=15, verbose=False)\n",
        "        models.append(nn2)\n",
        "\n",
        "        print(\"training decision tree for col \", col)\n",
        "        model = DecisionTreeClassifier(max_depth=5)\n",
        "        model.fit(X_train, Y_train[:,col])\n",
        "        models.append(model)\n",
        "                        \n",
        "        print(\"training Naive Bayes for col \", col)\n",
        "        model = GaussianNB()\n",
        "        model.fit(X_train, Y_train[:,col])\n",
        "        models.append(model)\n",
        "                        \n",
        "        print(\"training QDA for col \", col)\n",
        "        model = QuadraticDiscriminantAnalysis()\n",
        "        model.fit(X_train, Y_train[:,col])\n",
        "        models.append(model)\n",
        "\n",
        "        print(\"training lr for col \", col)\n",
        "        lr = LogisticRegression(max_iter=1000)\n",
        "        lr.fit(X_train, Y_train[:,col])\n",
        "        models.append(lr)\n",
        "\n",
        "        print(\"training rfc for col \", col)\n",
        "        rfc = RandomForestClassifier(n_estimators=100, max_depth=5, random_state=10)\n",
        "        rfc.fit(X_train, Y_train[:,col])\n",
        "        models.append(rfc)\n",
        "\n",
        "        print(\"training adaboost for col \", col)\n",
        "        adaboost = AdaBoostClassifier(n_estimators=100, random_state=10)\n",
        "        adaboost.fit(X_train, Y_train[:,col])\n",
        "        models.append(adaboost)\n",
        "\n",
        "        print(\"training ridge for col \", col)\n",
        "        ridge = Ridge(alpha=1.0)\n",
        "        ridge.fit(X_train, Y_train[:,col])\n",
        "        models.append(ridge)\n",
        "\n",
        "        print(\"training kernel ridge for col \", col)\n",
        "        kernel_ridge = KernelRidge(alpha=1.0, degree=2)\n",
        "        kernel_ridge.fit(X_train, Y_train[:,col])\n",
        "        models.append(kernel_ridge)\n",
        "\n",
        "        print(\"training linear kernel SVM for col \", col)\n",
        "        svm_clf = SVC(kernel='linear', C=1.0, degree=2)\n",
        "        svm_clf.fit(X_train, Y_train[:,col])\n",
        "        models.append(svm_clf)\n",
        "\n",
        "        print(\"training rbf kernel SVM for col \", col)\n",
        "        rbf = svm.SVC(kernel=\"rbf\")\n",
        "        rbf.fit(X_train, Y_train[:,col])\n",
        "        models.append(rbf)\n",
        "\n",
        "        # these need too much ram\n",
        "        # print(\"training poly kernel SVM for col \", col)\n",
        "        # degree = 2\n",
        "        # l2_coef = 0.01\n",
        "        # model2 = make_pipeline(PolynomialFeatures(degree),Ridge(alpha=l2_coef, fit_intercept=False, solver=\"svd\"))\n",
        "        # model2.fit(X_train, Y_train[:,col])\n",
        "\n",
        "        # print(\"training Gaussian Process for col \", col)\n",
        "        # gp = GaussianProcessClassifier()#1.0 * RBF(1.0)\n",
        "        # gp.fit(X_train, Y_train[:,col])\n",
        "        # models.append(gp)\n",
        "\n",
        "    \n",
        "    #task 3\n",
        "    if(col>=11):\n",
        "        print(\"training 100+25 relu for col \", col)\n",
        "        nn = tf.keras.Sequential([\n",
        "        tf.keras.layers.Dense(units=100, input_shape=[420], activation='relu'),\n",
        "        tf.keras.layers.Dense(units=25, activation='relu'),\n",
        "        tf.keras.layers.Dense(units=1)\n",
        "        ])\n",
        "        nn.compile(loss='mean_squared_error', optimizer=tf.keras.optimizers.Adam(0.1), metrics=['mean_squared_error'])\n",
        "        nn.fit(X_train, Y_train[:,col], epochs=30, verbose=False)\n",
        "        models.append(nn)\n",
        "\n",
        "        print(\"training 64+64 relu for col \", col)\n",
        "        nn = tf.keras.Sequential([\n",
        "        tf.keras.layers.Dense(units=64, input_shape=[420], activation='relu'),\n",
        "        tf.keras.layers.Dense(units=64, activation='relu'),\n",
        "        tf.keras.layers.Dense(units=1)\n",
        "        ])\n",
        "        nn.compile(loss='mean_squared_error', optimizer=tf.keras.optimizers.Adam(0.1), metrics=['mean_squared_error'])\n",
        "        nn.fit(X_train, Y_train[:,col], epochs=30, verbose=False)\n",
        "        models.append(nn)\n",
        "\n",
        "    \n",
        "    print(\"done training all models for col \", col)\n",
        "\n",
        "    best_score = 0\n",
        "    best_model = None\n",
        "    for model in models:\n",
        "        pred = model.predict(X_valid)\n",
        "        if(col>=11):\n",
        "            score = 0.5 + 0.5 * np.maximum(0, metrics.r2_score(Y_valid[:,col], pred))\n",
        "        else:\n",
        "            score = metrics.roc_auc_score(Y_valid[:,col], pred)\n",
        "        print(\"score for\",type(model),\": \" , score)\n",
        "        if score > best_score:\n",
        "            best_score = score\n",
        "            best_model = model\n",
        "\n",
        "    print(\"best model: \", type(best_model))\n",
        "    predictions = best_model.predict(X_test)\n",
        "    print(\"predictions shape: \", predictions.shape)\n",
        "\n",
        "    return predictions"
      ]
    },
    {
      "cell_type": "markdown",
      "metadata": {},
      "source": [
        "## Writing results"
      ]
    },
    {
      "cell_type": "code",
      "execution_count": 4,
      "metadata": {},
      "outputs": [
        {
          "name": "stdout",
          "output_type": "stream",
          "text": [
            "training sigmoid nn for col  0\n",
            "training decision tree for col  0\n",
            "training Naive Bayes for col  0\n",
            "training QDA for col  0\n"
          ]
        },
        {
          "name": "stderr",
          "output_type": "stream",
          "text": [
            "C:\\ProgramData\\Anaconda3\\lib\\site-packages\\sklearn\\discriminant_analysis.py:808: UserWarning: Variables are collinear\n",
            "  warnings.warn(\"Variables are collinear\")\n"
          ]
        },
        {
          "name": "stdout",
          "output_type": "stream",
          "text": [
            "training lr for col  0\n",
            "training rfc for col  0\n",
            "training adaboost for col  0\n",
            "training ridge for col  0\n",
            "training kernel ridge for col  0\n",
            "training linear kernel SVM for col  0\n",
            "training rbf kernel SVM for col  0\n",
            "done training all models for col  0\n",
            "score for <class 'tensorflow.python.keras.engine.sequential.Sequential'> :  0.8312737484973678\n",
            "score for <class 'sklearn.tree._classes.DecisionTreeClassifier'> :  0.834213207964296\n",
            "score for <class 'sklearn.naive_bayes.GaussianNB'> :  0.7542078883008858\n",
            "score for <class 'sklearn.discriminant_analysis.QuadraticDiscriminantAnalysis'> :  0.781118303787324\n",
            "score for <class 'sklearn.linear_model._logistic.LogisticRegression'> :  0.6338777928232905\n",
            "score for <class 'sklearn.ensemble._forest.RandomForestClassifier'> :  0.8517154187335056\n",
            "score for <class 'sklearn.ensemble._weight_boosting.AdaBoostClassifier'> :  0.8299478051206941\n",
            "score for <class 'sklearn.linear_model._ridge.Ridge'> :  0.7608548768187031\n",
            "score for <class 'sklearn.kernel_ridge.KernelRidge'> :  0.7570813701242175\n",
            "score for <class 'sklearn.svm._classes.SVC'> :  0.5939526826302626\n"
          ]
        }
      ],
      "source": [
        "\n",
        "X_test = pd.read_csv(\"test_features_normalized.csv\")\n",
        "X_test = np.array(X_test.iloc[:, 2:].values,  dtype=float).reshape(151968//12,35*12)\n",
        "\n",
        "data = []\n",
        "\n",
        "for i in range(0,15):\n",
        "    pred = find_best_model(i, X[:int(X.shape[0]*0.8)], Y[:int(Y.shape[0]*0.8)], X[int(X.shape[0]*0.8):], Y[int(Y.shape[0]*0.8):], X_test)\n",
        "    # pred = find_best_model(i, X[int(X.shape[0]*0.2):], Y[int(Y.shape[0]*0.2):], X[:int(X.shape[0]*0.2)], Y[:int(Y.shape[0]*0.2)], X_test)\n",
        "    data.append(pred)\n",
        "\n",
        "\n",
        "\n",
        "\n",
        "\n",
        "\n",
        "# pred1 = []\n",
        "# for i in range(0, 15):\n",
        "#     Y_pred_lr = pred1.append(models[i].predict_proba(test_X_normalized)[:,1])\n",
        "\n",
        "\n",
        "# pred1 = np.array(pred1).transpose()\n",
        "# # pred1 = model1.predict(test_X_normalized)\n",
        "# pred2 = model2.predict(test_X_normalized)\n",
        "# # pred2 = model2.predict(test_X_small)\n",
        "# # pred2 = (pred2+1)/2\n",
        "# # np.clip(pred2, 0, 1, out=pred2)\n",
        "# pred3 = model3.predict(test_X_normalized)\n",
        "\n",
        "# print(pred2[pred2==0].shape)\n",
        "# print(pred2[pred2>0.5].shape)\n"
      ]
    },
    {
      "cell_type": "code",
      "execution_count": null,
      "metadata": {},
      "outputs": [
        {
          "name": "stdout",
          "output_type": "stream",
          "text": [
            "15\n"
          ]
        }
      ],
      "source": [
        "\n",
        "\n",
        "np_array = np.array(data).transpose()\n",
        "np_array = np_array[0]\n",
        "\n",
        "col_names = ['LABEL_BaseExcess', 'LABEL_Fibrinogen', 'LABEL_AST', 'LABEL_Alkalinephos', 'LABEL_Bilirubin_total', 'LABEL_Lactate', 'LABEL_TroponinI', 'LABEL_SaO2', 'LABEL_Bilirubin_direct', 'LABEL_EtCO2', 'LABEL_Sepsis', 'LABEL_RRate', 'LABEL_ABPm', 'LABEL_SpO2', 'LABEL_Heartrate']\n",
        "print(len(col_names))\n",
        "new_df = pd.DataFrame(np_array, columns=col_names)\n",
        "\n",
        "output_csv = pd.read_csv(\"sample.csv\")\n",
        "output_csv.update(new_df)\n",
        "output_csv.to_csv('submit.zip', index=False, float_format='%.3f', compression='zip')\n",
        "output_csv.to_csv('submit.csv', index=False, float_format='%.3f')\n",
        "\n",
        "\n",
        "\n",
        "# sample = pd.read_csv(\"sample.csv\")\n",
        "# print(sample.shape)\n",
        "# submit =  pd.DataFrame(np.zeros((12664,16)), columns=[sample.columns])\n",
        "# print(submit.shape)\n",
        "# print(pred1.shape)\n",
        "# print(pred2.shape)\n",
        "# print(pred3.shape)\n",
        "# # print(submit)\n",
        "\n",
        "\n",
        "# submit.iloc[:,0] = sample.iloc[:,0]\n",
        "# submit.iloc[:,1:11] = pred1\n",
        "# submit.iloc[:,11] = pred2\n",
        "# submit.iloc[:,12:] = pred3\n",
        "\n",
        "# submit.to_csv('submit.zip', index=False, float_format='%.3f', compression='zip')\n",
        "# submit.to_csv('submit.csv', index=False, float_format='%.3f')"
      ]
    }
  ],
  "metadata": {
    "colab": {
      "collapsed_sections": [],
      "name": "l02c01_celsius_to_fahrenheit.ipynb",
      "toc_visible": true
    },
    "kernelspec": {
      "display_name": "Python 3",
      "name": "python3"
    },
    "language_info": {
      "codemirror_mode": {
        "name": "ipython",
        "version": 3
      },
      "file_extension": ".py",
      "mimetype": "text/x-python",
      "name": "python",
      "nbconvert_exporter": "python",
      "pygments_lexer": "ipython3",
      "version": "3.8.8"
    }
  },
  "nbformat": 4,
  "nbformat_minor": 0
}
