{
 "cells": [
  {
   "cell_type": "markdown",
   "metadata": {
    "id": "fA93WUy1zzWf"
   },
   "source": [
    "## Import stuff"
   ]
  },
  {
   "cell_type": "code",
   "execution_count": 1,
   "metadata": {},
   "outputs": [
    {
     "name": "stderr",
     "output_type": "stream",
     "text": [
      "c:\\ProgramData\\Anaconda3\\lib\\site-packages\\numpy\\_distributor_init.py:30: UserWarning: loaded more than 1 DLL from .libs:\n",
      "c:\\ProgramData\\Anaconda3\\lib\\site-packages\\numpy\\.libs\\libopenblas.FB5AE2TYXYH2IJRDKGDGQ3XBKLKTF43H.gfortran-win_amd64.dll\n",
      "c:\\ProgramData\\Anaconda3\\lib\\site-packages\\numpy\\.libs\\libopenblas64__v0.3.21-gcc_10_3_0.dll\n",
      "  warnings.warn(\"loaded more than 1 DLL from .libs:\"\n"
     ]
    }
   ],
   "source": [
    "import lightgbm as lgb"
   ]
  },
  {
   "cell_type": "code",
   "execution_count": 2,
   "metadata": {
    "id": "-ZMgCvSRFqxE"
   },
   "outputs": [
    {
     "name": "stderr",
     "output_type": "stream",
     "text": [
      "c:\\ProgramData\\Anaconda3\\lib\\site-packages\\flaml\\searcher\\blendsearch.py:14: DeprecationWarning: The module `ray.tune.suggest` has been moved to `ray.tune.search` and the old location will be deprecated soon. Please adjust your imports to point to the new location. Example: Do a global search and replace `ray.tune.suggest` with `ray.tune.search`.\n",
      "  from ray.tune.suggest import Searcher\n",
      "c:\\ProgramData\\Anaconda3\\lib\\site-packages\\flaml\\searcher\\blendsearch.py:15: DeprecationWarning: The module `ray.tune.suggest.optuna` has been moved to `ray.tune.search.optuna` and the old location will be deprecated soon. Please adjust your imports to point to the new location. Example: Do a global search and replace `ray.tune.suggest.optuna` with `ray.tune.search.optuna`.\n",
      "  from ray.tune.suggest.optuna import OptunaSearch as GlobalSearch\n",
      "c:\\ProgramData\\Anaconda3\\lib\\site-packages\\flaml\\tune\\sample.py:39: DeprecationWarning: The module `ray.tune.sample` has been moved to `ray.tune.search.sample` and the old location will be deprecated soon. Please adjust your imports to point to the new location. Example: Do a global search and replace `ray.tune.sample` with `ray.tune.search.sample`.\n",
      "  from ray.tune.sample import _BackwardsCompatibleNumpyRng\n",
      "c:\\ProgramData\\Anaconda3\\lib\\site-packages\\flaml\\tune\\space.py:6: DeprecationWarning: The module `ray.tune.suggest.variant_generator` has been moved to `ray.tune.search.variant_generator` and the old location will be deprecated soon. Please adjust your imports to point to the new location. Example: Do a global search and replace `ray.tune.suggest.variant_generator` with `ray.tune.search.variant_generator`.\n",
      "  from ray.tune.suggest.variant_generator import generate_variants\n"
     ]
    }
   ],
   "source": [
    "# import tensorflow as tf\n",
    "# from keras.losses import categorical_crossentropy, mean_squared_error\n",
    "# from tensorflow.keras import layers\n",
    "# logger = tf.get_logger()\n",
    "# logger.setLevel(logging.ERROR)\n",
    "# print(tf.__version__)\n",
    "\n",
    "import os\n",
    "import matplotlib.pyplot as plt\n",
    "import numpy as np\n",
    "import pandas as pd\n",
    "import shutil\n",
    "import random\n",
    "from PIL import Image\n",
    "import logging\n",
    "import time\n",
    "\n",
    "from sklearn.metrics import mean_squared_error\n",
    "from sklearn.model_selection import KFold\n",
    "import sklearn.metrics as metrics\n",
    "from sklearn.svm import SVC\n",
    "from sklearn import svm\n",
    "from sklearn import datasets\n",
    "from sklearn.pipeline import make_pipeline\n",
    "from sklearn.preprocessing import PolynomialFeatures\n",
    "from sklearn.kernel_ridge import KernelRidge\n",
    "from sklearn.linear_model import Ridge, RidgeCV, ElasticNet\n",
    "from sklearn.model_selection import cross_val_score,StratifiedKFold\n",
    "from sklearn.metrics import mean_squared_error\n",
    "from sklearn.linear_model import LogisticRegression\n",
    "from sklearn.ensemble import RandomForestClassifier\n",
    "from sklearn.ensemble import AdaBoostClassifier\n",
    "from sklearn.impute import KNNImputer\n",
    "from sklearn.model_selection import train_test_split\n",
    "from sklearn.preprocessing import StandardScaler\n",
    "from sklearn.datasets import make_moons, make_circles, make_classification\n",
    "from sklearn.neural_network import MLPClassifier\n",
    "from sklearn.neighbors import KNeighborsClassifier\n",
    "from sklearn.svm import SVC\n",
    "from sklearn.gaussian_process import GaussianProcessClassifier\n",
    "from sklearn.gaussian_process.kernels import RBF\n",
    "from sklearn.tree import DecisionTreeClassifier\n",
    "from sklearn.ensemble import RandomForestClassifier, AdaBoostClassifier, GradientBoostingClassifier, HistGradientBoostingClassifier, ExtraTreesClassifier\n",
    "from sklearn.naive_bayes import GaussianNB\n",
    "from sklearn.discriminant_analysis import QuadraticDiscriminantAnalysis\n",
    "from sklearn.feature_selection import SelectKBest\n",
    "from sklearn.feature_selection import chi2\n",
    "from sklearn.cluster import KMeans\n",
    "from sklearn.decomposition import PCA\n",
    "from sklearn.ensemble import HistGradientBoostingRegressor, ExtraTreesRegressor, RandomForestRegressor, AdaBoostRegressor, GradientBoostingRegressor\n",
    "from sklearn.mixture import BayesianGaussianMixture, GaussianMixture\n",
    "from sklearn.kernel_approximation import Nystroem\n",
    "from sklearn.preprocessing import MinMaxScaler\n",
    "from sklearn.gaussian_process.kernels import *\n",
    "\n",
    "from tqdm import tqdm\n",
    "import xgboost as xgb\n",
    "import lightgbm as lgb\n",
    "from catboost import CatBoostClassifier, CatBoostRegressor\n",
    "from lightgbm import LGBMClassifier, LGBMRegressor\n",
    "from xgboost import XGBClassifier, XGBRFClassifier, XGBRegressor, XGBRFRegressor\n",
    "\n",
    "from flaml import AutoML\n",
    "\n",
    "from tabpfn import TabPFNClassifier\n",
    "\n",
    "\n",
    "\n",
    "\n",
    "def get_score(df_true, df_submission):\n",
    "    for i in range(df_true.shape[1]):\n",
    "        print(\"score for col \",i,\": \" , metrics.roc_auc_score(df_true[:,i], df_submission[:,i]))\n",
    "\n",
    "def get_type(model):\n",
    "    return str(type(model)).split(\".\")[-1].split(\"'\")[0]\n",
    "\n",
    "ny = Nystroem(random_state=1, n_components=1000,kernel='poly',degree=2)\n",
    "scaler = MinMaxScaler()\n"
   ]
  },
  {
   "cell_type": "markdown",
   "metadata": {
    "id": "AC3EQFi20buB"
   },
   "source": [
    "## Load training data from csv\n"
   ]
  },
  {
   "cell_type": "code",
   "execution_count": 3,
   "metadata": {},
   "outputs": [
    {
     "name": "stdout",
     "output_type": "stream",
     "text": [
      "X shape:  (18995, 514)\n",
      "Y shape:  (18995, 15)\n"
     ]
    }
   ],
   "source": [
    "df = pd.read_csv(\"train_features_improved.csv\")\n",
    "labels_df = pd.read_csv(\"train_labels.csv\")\n",
    "\n",
    "df = df.sort_values(by=[\"pid\"])\n",
    "labels_df = labels_df.sort_values(by=[\"pid\"])\n",
    "\n",
    "X = np.array(df.iloc[:, 0:].values,  dtype=float)\n",
    "Y = np.array(labels_df.iloc[:, 1:].values,  dtype=float)\n",
    "\n",
    "print(\"X shape: \", X.shape)\n",
    "print(\"Y shape: \", Y.shape)\n",
    "\n"
   ]
  },
  {
   "cell_type": "markdown",
   "metadata": {
    "id": "VM7_9Klvq7MO"
   },
   "source": [
    "## The function that trains and rates models"
   ]
  },
  {
   "cell_type": "code",
   "execution_count": 4,
   "metadata": {},
   "outputs": [],
   "source": [
    "def inverse_sigmoid(x):\n",
    "    return np.log(x/(1-x))\n",
    "\n",
    "def sigmoid(x):\n",
    "    return 1/(1+np.exp(-x))\n",
    "\n",
    "\n",
    "class EnsembleClassifier:\n",
    "    def __init__(self):\n",
    "        self.models = [\n",
    "                XGBClassifier(),\n",
    "                LGBMClassifier(),\n",
    "                CatBoostClassifier(logging_level='Silent'),\n",
    "                ExtraTreesClassifier(),\n",
    "                RandomForestClassifier(),\n",
    "                AdaBoostClassifier(),\n",
    "                # GaussianProcessClassifier(kernel=RationalQuadratic()),\n",
    "            ]\n",
    "\n",
    "    def fit(self, X, y):\n",
    "        for model in self.models:\n",
    "            model.fit(X, y)\n",
    "\n",
    "    def predict_proba(self, X):\n",
    "        predictions = np.column_stack([\n",
    "            inverse_sigmoid(model.predict_proba(X)[:,1]) for model in self.models\n",
    "        ])\n",
    "        mean = np.mean(predictions, axis=1)\n",
    "        pred = sigmoid(mean)\n",
    "        return np.array([1-pred,pred]).T\n",
    "\n",
    "\n",
    "\n",
    "\n",
    "def find_best_model(col, X, Y, X_test):\n",
    "    classifiers = [\n",
    "        # BayesianGaussianMixture(n_components=3, random_state=0),\n",
    "        # Ridge(),\n",
    "        # LogisticRegression(),\n",
    "        # HistGradientBoostingClassifier(),\n",
    "        # ExtraTreesClassifier(),\n",
    "        # RandomForestClassifier(),\n",
    "        # XGBRFClassifier(),\n",
    "        # XGBClassifier(),\n",
    "        # LGBMClassifier(),\n",
    "        # CatBoostClassifier(logging_level='Silent'),\n",
    "        # AutoML(task=\"classification\",time_budget=240,ensemble=False,auto_augment=False,verbose=False,estimator_list=['catboost']),\n",
    "        # TabPFNClassifier(device=\"cuda\"),\n",
    "        EnsembleClassifier(),\n",
    "    ]\n",
    "\n",
    "    regressors = [\n",
    "        # Ridge(),\n",
    "        # HistGradientBoostingRegressor(),\n",
    "        # ExtraTreesRegressor(),\n",
    "        # RandomForestRegressor(),\n",
    "        # XGBRFRegressor(),\n",
    "        # XGBRegressor(),\n",
    "        LGBMRegressor(),\n",
    "        # CatBoostRegressor(logging_level='Silent'),\n",
    "        # AutoML(task=\"regression\",time_budget=240,ensemble=False,auto_augment=False,verbose=False,estimator_list=['catboost']),\n",
    "        # TabPFNRegressor(device=\"cuda\"),\n",
    "    ]\n",
    "\n",
    "    models = []\n",
    "\n",
    "    #task 1 and 2\n",
    "    if(col<11):    \n",
    "        models = classifiers\n",
    "\n",
    "    #task 3\n",
    "    if(col>=11):\n",
    "        models = regressors\n",
    "\n",
    "    best_cv_score = 0\n",
    "    best_model = None\n",
    "\n",
    "    for model in models:\n",
    "        start_time = time.time()\n",
    "        model_type = get_type(model)\n",
    "        print(\"training model \", model_type,\"for col \", col)\n",
    "\n",
    "        cv_score = 0\n",
    "\n",
    "        skf = StratifiedKFold(n_splits=3,random_state=42,shuffle=True)\n",
    "        split = skf.split(X, Y[:,col]) if col < 11 else skf.split(X, Y[:,0])\n",
    "        for train, test in split:\n",
    "            X_train, X_valid, Y_train, Y_valid = X[train], X[test], Y[train,col], Y[test,col]\n",
    "\n",
    "            # scaler = StandardScaler()\n",
    "            # X_train = scaler.fit_transform(X_train)\n",
    "            # X_valid = scaler.transform(X_valid)\n",
    "            # pca = PCA(n_components=500)\n",
    "            # X_train = pca.fit_transform(X_train)\n",
    "            # X_valid = pca.transform(X_valid)\n",
    "\n",
    "            pred = []\n",
    "            if model_type.count(\"Ridge\") > 0:\n",
    "                X_train = scaler.fit_transform(X_train)\n",
    "                X_train = ny.fit_transform(X_train)\n",
    "                model.fit(X_train, Y_train)\n",
    "                X_valid = scaler.transform(X_valid)\n",
    "                X_valid = ny.transform(X_valid)\n",
    "                pred = model.predict(X_valid)\n",
    "            else:\n",
    "                model.fit(X_train, Y_train)\n",
    "                if model_type.count(\"Regressor\") > 0:\n",
    "                    pred = model.predict(X_valid)\n",
    "                else:\n",
    "                    pred = model.predict_proba(X_valid)[:,1]\n",
    "                    print(pred.shape)\n",
    "\n",
    "            if(col>=11):\n",
    "                score = 0.5 + 0.5 * np.maximum(0, metrics.r2_score(Y_valid, pred))\n",
    "            else:\n",
    "                score = metrics.roc_auc_score(Y_valid, pred)\n",
    "            cv_score += score\n",
    "            print(\"fold score: \", score)\n",
    "            \n",
    "        cv_score /= 3\n",
    "\n",
    "        print(\"score for\",model_type,\": \" , cv_score,\", time taken: \",int(time.time() - start_time),\"s\")\n",
    "        if cv_score > best_cv_score:\n",
    "            best_cv_score = cv_score\n",
    "            best_model = model\n",
    "\n",
    "    print(\"best model: \", get_type(best_model),\"score: \",best_cv_score,\"\\n\")\n",
    "\n",
    "    # predictions = best_model.predict(X_test)\n",
    "    predictions = np.zeros(5)\n",
    "    return predictions,best_cv_score"
   ]
  },
  {
   "cell_type": "markdown",
   "metadata": {},
   "source": [
    "## Writing results"
   ]
  },
  {
   "cell_type": "code",
   "execution_count": 5,
   "metadata": {},
   "outputs": [
    {
     "name": "stdout",
     "output_type": "stream",
     "text": [
      "training model  EnsembleClassifier for col  10\n"
     ]
    },
    {
     "name": "stderr",
     "output_type": "stream",
     "text": [
      "C:\\Users\\Timothe\\AppData\\Local\\Temp/ipykernel_28136/4094339909.py:2: RuntimeWarning: divide by zero encountered in log\n",
      "  return np.log(x/(1-x))\n",
      "C:\\Users\\Timothe\\AppData\\Local\\Temp/ipykernel_28136/4094339909.py:2: RuntimeWarning: divide by zero encountered in log\n",
      "  return np.log(x/(1-x))\n"
     ]
    },
    {
     "name": "stdout",
     "output_type": "stream",
     "text": [
      "(6332,)\n",
      "fold score:  0.7244371400998824\n"
     ]
    },
    {
     "name": "stderr",
     "output_type": "stream",
     "text": [
      "C:\\Users\\Timothe\\AppData\\Local\\Temp/ipykernel_28136/4094339909.py:2: RuntimeWarning: divide by zero encountered in log\n",
      "  return np.log(x/(1-x))\n",
      "C:\\Users\\Timothe\\AppData\\Local\\Temp/ipykernel_28136/4094339909.py:2: RuntimeWarning: divide by zero encountered in log\n",
      "  return np.log(x/(1-x))\n"
     ]
    },
    {
     "name": "stdout",
     "output_type": "stream",
     "text": [
      "(6332,)\n",
      "fold score:  0.7276717124795835\n"
     ]
    },
    {
     "name": "stderr",
     "output_type": "stream",
     "text": [
      "C:\\Users\\Timothe\\AppData\\Local\\Temp/ipykernel_28136/4094339909.py:2: RuntimeWarning: divide by zero encountered in log\n",
      "  return np.log(x/(1-x))\n",
      "C:\\Users\\Timothe\\AppData\\Local\\Temp/ipykernel_28136/4094339909.py:2: RuntimeWarning: divide by zero encountered in log\n",
      "  return np.log(x/(1-x))\n"
     ]
    },
    {
     "name": "stdout",
     "output_type": "stream",
     "text": [
      "(6331,)\n",
      "fold score:  0.7361360121215599\n",
      "score for EnsembleClassifier :  0.7294149549003418 , time taken:  286 s\n",
      "best model:  EnsembleClassifier score:  0.7294149549003418 \n",
      "\n"
     ]
    }
   ],
   "source": [
    "X_test = pd.read_csv(\"test_features_improved.csv\")\n",
    "X_test = np.array(X_test.iloc[:, 0:].values,  dtype=float)\n",
    "\n",
    "data = []\n",
    "scores = []\n",
    "\n",
    "# for i in range(0,15):\n",
    "# for i in range(0,1):\n",
    "for i in range(10,11):\n",
    "# for i in range(11,15):\n",
    "# for i in range(13,14):\n",
    "    pred,best_score = find_best_model(i, X, Y, X_test)\n",
    "    # pred,best_score = find_best_model(i, X[:2000,:], Y[:2000,:], X_test)\n",
    "\n",
    "    pred = pred.reshape(pred.shape[0],1)\n",
    "    data.append(pred)\n",
    "    scores.append(best_score)\n",
    "\n",
    "\n",
    "\n"
   ]
  },
  {
   "cell_type": "code",
   "execution_count": 6,
   "metadata": {},
   "outputs": [
    {
     "name": "stdout",
     "output_type": "stream",
     "text": [
      "0.7294149549003418\n"
     ]
    },
    {
     "ename": "IndexError",
     "evalue": "list index out of range",
     "output_type": "error",
     "traceback": [
      "\u001b[1;31m---------------------------------------------------------------------------\u001b[0m",
      "\u001b[1;31mIndexError\u001b[0m                                Traceback (most recent call last)",
      "\u001b[1;32m~\\AppData\\Local\\Temp/ipykernel_28136/4143563500.py\u001b[0m in \u001b[0;36m<module>\u001b[1;34m\u001b[0m\n\u001b[0;32m      1\u001b[0m \u001b[0mprint\u001b[0m\u001b[1;33m(\u001b[0m\u001b[0mnp\u001b[0m\u001b[1;33m.\u001b[0m\u001b[0mmean\u001b[0m\u001b[1;33m(\u001b[0m\u001b[0mscores\u001b[0m\u001b[1;33m[\u001b[0m\u001b[1;33m:\u001b[0m\u001b[1;36m10\u001b[0m\u001b[1;33m]\u001b[0m\u001b[1;33m)\u001b[0m\u001b[1;33m)\u001b[0m\u001b[1;33m\u001b[0m\u001b[1;33m\u001b[0m\u001b[0m\n\u001b[1;32m----> 2\u001b[1;33m \u001b[0mprint\u001b[0m\u001b[1;33m(\u001b[0m\u001b[0mnp\u001b[0m\u001b[1;33m.\u001b[0m\u001b[0mmean\u001b[0m\u001b[1;33m(\u001b[0m\u001b[0mscores\u001b[0m\u001b[1;33m[\u001b[0m\u001b[1;36m10\u001b[0m\u001b[1;33m]\u001b[0m\u001b[1;33m)\u001b[0m\u001b[1;33m)\u001b[0m\u001b[1;33m\u001b[0m\u001b[1;33m\u001b[0m\u001b[0m\n\u001b[0m\u001b[0;32m      3\u001b[0m \u001b[0mprint\u001b[0m\u001b[1;33m(\u001b[0m\u001b[0mnp\u001b[0m\u001b[1;33m.\u001b[0m\u001b[0mmean\u001b[0m\u001b[1;33m(\u001b[0m\u001b[0mscores\u001b[0m\u001b[1;33m[\u001b[0m\u001b[1;36m11\u001b[0m\u001b[1;33m:\u001b[0m\u001b[1;33m]\u001b[0m\u001b[1;33m)\u001b[0m\u001b[1;33m)\u001b[0m\u001b[1;33m\u001b[0m\u001b[1;33m\u001b[0m\u001b[0m\n\u001b[0;32m      4\u001b[0m \u001b[1;33m\u001b[0m\u001b[0m\n\u001b[0;32m      5\u001b[0m \u001b[0mprint\u001b[0m\u001b[1;33m(\u001b[0m\u001b[0mnp\u001b[0m\u001b[1;33m.\u001b[0m\u001b[0mmean\u001b[0m\u001b[1;33m(\u001b[0m\u001b[1;33m[\u001b[0m\u001b[0mnp\u001b[0m\u001b[1;33m.\u001b[0m\u001b[0mmean\u001b[0m\u001b[1;33m(\u001b[0m\u001b[0mscores\u001b[0m\u001b[1;33m[\u001b[0m\u001b[1;33m:\u001b[0m\u001b[1;36m10\u001b[0m\u001b[1;33m]\u001b[0m\u001b[1;33m)\u001b[0m\u001b[1;33m,\u001b[0m\u001b[0mnp\u001b[0m\u001b[1;33m.\u001b[0m\u001b[0mmean\u001b[0m\u001b[1;33m(\u001b[0m\u001b[0mscores\u001b[0m\u001b[1;33m[\u001b[0m\u001b[1;36m10\u001b[0m\u001b[1;33m]\u001b[0m\u001b[1;33m)\u001b[0m\u001b[1;33m,\u001b[0m\u001b[0mnp\u001b[0m\u001b[1;33m.\u001b[0m\u001b[0mmean\u001b[0m\u001b[1;33m(\u001b[0m\u001b[0mscores\u001b[0m\u001b[1;33m[\u001b[0m\u001b[1;36m11\u001b[0m\u001b[1;33m:\u001b[0m\u001b[1;33m]\u001b[0m\u001b[1;33m)\u001b[0m\u001b[1;33m]\u001b[0m\u001b[1;33m)\u001b[0m\u001b[1;33m)\u001b[0m\u001b[1;33m\u001b[0m\u001b[1;33m\u001b[0m\u001b[0m\n",
      "\u001b[1;31mIndexError\u001b[0m: list index out of range"
     ]
    }
   ],
   "source": [
    "print(np.mean(scores[:10]))\n",
    "print(np.mean(scores[10]))\n",
    "print(np.mean(scores[11:]))\n",
    "\n",
    "print(np.mean([np.mean(scores[:10]),np.mean(scores[10]),np.mean(scores[11:])]))\n"
   ]
  },
  {
   "cell_type": "code",
   "execution_count": null,
   "metadata": {},
   "outputs": [
    {
     "name": "stdout",
     "output_type": "stream",
     "text": [
      "15\n"
     ]
    }
   ],
   "source": [
    "np_array = np.array(data).transpose()[0]\n",
    "\n",
    "col_names = ['LABEL_BaseExcess', 'LABEL_Fibrinogen', 'LABEL_AST', 'LABEL_Alkalinephos', 'LABEL_Bilirubin_total', 'LABEL_Lactate', 'LABEL_TroponinI', 'LABEL_SaO2', 'LABEL_Bilirubin_direct', 'LABEL_EtCO2', 'LABEL_Sepsis', 'LABEL_RRate', 'LABEL_ABPm', 'LABEL_SpO2', 'LABEL_Heartrate']\n",
    "print(len(col_names))\n",
    "new_df = pd.DataFrame(np_array, columns=col_names)\n",
    "\n",
    "output_csv = pd.read_csv(\"sample.csv\")\n",
    "output_csv.update(new_df)\n",
    "output_csv.to_csv('submit.zip', index=False, float_format='%.3f', compression='zip')\n",
    "output_csv.to_csv('submit.csv', index=False, float_format='%.3f')\n"
   ]
  }
 ],
 "metadata": {
  "colab": {
   "collapsed_sections": [],
   "name": "l02c01_celsius_to_fahrenheit.ipynb",
   "toc_visible": true
  },
  "kernelspec": {
   "display_name": "Python 3.9.7 ('base')",
   "language": "python",
   "name": "python3"
  },
  "language_info": {
   "codemirror_mode": {
    "name": "ipython",
    "version": 3
   },
   "file_extension": ".py",
   "mimetype": "text/x-python",
   "name": "python",
   "nbconvert_exporter": "python",
   "pygments_lexer": "ipython3",
   "version": "3.9.7"
  },
  "vscode": {
   "interpreter": {
    "hash": "ad2bdc8ecc057115af97d19610ffacc2b4e99fae6737bb82f5d7fb13d2f2c186"
   }
  }
 },
 "nbformat": 4,
 "nbformat_minor": 0
}
