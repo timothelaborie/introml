{
  "cells": [
    {
      "cell_type": "markdown",
      "metadata": {
        "id": "fA93WUy1zzWf"
      },
      "source": [
        "## Import stuff"
      ]
    },
    {
      "cell_type": "code",
      "execution_count": 2,
      "metadata": {
        "id": "-ZMgCvSRFqxE"
      },
      "outputs": [
        {
          "name": "stdout",
          "output_type": "stream",
          "text": [
            "2.3.0\n",
            "tensorflow doesn't detects GPU: \n",
            "[name: \"/device:CPU:0\"\n",
            "device_type: \"CPU\"\n",
            "memory_limit: 268435456\n",
            "locality {\n",
            "}\n",
            "incarnation: 1366717752328370373\n",
            "]\n",
            "\n",
            "[PhysicalDevice(name='/physical_device:CPU:0', device_type='CPU')]\n",
            "torch detects GPU:  True\n"
          ]
        }
      ],
      "source": [
        "import tensorflow as tf\n",
        "import os\n",
        "import matplotlib.pyplot as plt\n",
        "import numpy as np\n",
        "import pandas as pd\n",
        "from tensorflow.keras import layers\n",
        "import shutil\n",
        "import random\n",
        "from PIL import Image\n",
        "import numpy as np\n",
        "import logging\n",
        "from sklearn.metrics import mean_squared_error\n",
        "from sklearn.model_selection import KFold\n",
        "import torch \n",
        "import torch.jit\n",
        "import torch.nn as nn \n",
        "import torchvision\n",
        "from torchvision import transforms, datasets\n",
        "import sklearn.metrics as metrics\n",
        "from sklearn.svm import SVC\n",
        "from sklearn import svm\n",
        "from sklearn import datasets\n",
        "from sklearn.pipeline import make_pipeline\n",
        "from sklearn.preprocessing import PolynomialFeatures\n",
        "from sklearn.kernel_ridge import KernelRidge\n",
        "from sklearn.linear_model import Ridge\n",
        "from sklearn.model_selection import cross_val_score\n",
        "from sklearn.metrics import mean_squared_error\n",
        "from imblearn.over_sampling import RandomOverSampler\n",
        "from imblearn.under_sampling import ClusterCentroids\n",
        "logger = tf.get_logger()\n",
        "logger.setLevel(logging.ERROR)\n",
        "os.environ[\"CUDA_VISIBLE_DEVICES\"]=\"0,1\"\n",
        "\n",
        "print(tf.__version__)\n",
        "\n",
        "from tensorflow.python.client import device_lib\n",
        "print(\"tensorflow doesn't detects GPU: \")\n",
        "print(device_lib.list_local_devices() )\n",
        "print(tf.test.gpu_device_name())\n",
        "print(tf.config.list_physical_devices())\n",
        "\n",
        "print(\"torch detects GPU: \" , torch.cuda.is_available())\n",
        "\n",
        "oversampler = RandomOverSampler(random_state=0)\n",
        "undersampler = ClusterCentroids(random_state=0)\n",
        "\n",
        "\n",
        "def get_score(df_true, df_submission):\n",
        "    for i in range(df_true.shape[1]):\n",
        "        print(\"score for col \",i,\": \" , metrics.roc_auc_score(df_true[:,i], df_submission[:,i]))\n"
      ]
    },
    {
      "cell_type": "markdown",
      "metadata": {
        "id": "AC3EQFi20buB"
      },
      "source": [
        "## Load training data from csv\n"
      ]
    },
    {
      "cell_type": "code",
      "execution_count": 3,
      "metadata": {},
      "outputs": [
        {
          "name": "stdout",
          "output_type": "stream",
          "text": [
            "X_orig shape:  (18995, 420)\n",
            "X_normalized shape:  (18995, 420)\n",
            "X_small shape:  (18995, 35)\n",
            "Y1 shape:  (18995, 10)\n",
            "Y2 shape:  (18995,)\n",
            "Y3 shape:  (18995, 4)\n"
          ]
        }
      ],
      "source": [
        "features_df_orig = pd.read_csv(\"train_features_fixed.csv\")\n",
        "features_df_normalized = pd.read_csv(\"train_features_normalized.csv\")\n",
        "labels_df = pd.read_csv(\"train_labels.csv\")\n",
        "\n",
        "\n",
        "# We can use a different version of the training data for each task\n",
        "X_orig = np.array(features_df_orig.iloc[:, 2:].values,  dtype=float).reshape(227940//12,35*12)\n",
        "X_normalized = np.array(features_df_normalized.iloc[:, 2:].values,  dtype=float).reshape(227940//12,35*12)\n",
        "X_small = np.array(features_df_normalized.iloc[:, 2:].values,  dtype=float)[::12]\n",
        "\n",
        "\n",
        "\n",
        "#use train to validation ratio of 0.8\n",
        "X_orig_train = X_orig[:int(X_orig.shape[0]*0.8)]\n",
        "X_orig_valid = X_orig[int(X_orig.shape[0]*0.8):]\n",
        "X_normalized_train = X_normalized[:int(X_normalized.shape[0]*0.8)]\n",
        "X_normalized_valid = X_normalized[int(X_normalized.shape[0]*0.8):]\n",
        "X_small_train = X_small[:int(X_small.shape[0]*0.8)]\n",
        "X_small_valid = X_small[int(X_small.shape[0]*0.8):]\n",
        "\n",
        "Y1 = np.array(labels_df.iloc[:, 1:11].values,  dtype=float)\n",
        "Y1_train = Y1[:int(Y1.shape[0]*0.8)]\n",
        "Y1_valid = Y1[int(Y1.shape[0]*0.8):]\n",
        "\n",
        "Y2 = np.array(labels_df.iloc[:, 11].values,  dtype=float)\n",
        "Y2_train = Y2[:int(Y2.shape[0]*0.8)]\n",
        "Y2_valid = Y2[int(Y2.shape[0]*0.8):]\n",
        "\n",
        "Y3 = np.array(labels_df.iloc[:, 12:].values,  dtype=float)\n",
        "Y3_train = Y3[:int(Y3.shape[0]*0.8)]\n",
        "Y3_valid = Y3[int(Y3.shape[0]*0.8):]\n",
        "\n",
        "print(\"X_orig shape: \", X_orig.shape)\n",
        "print(\"X_normalized shape: \", X_normalized.shape)\n",
        "print(\"X_small shape: \", X_small.shape)\n",
        "print(\"Y1 shape: \", Y1.shape)\n",
        "print(\"Y2 shape: \", Y2.shape)\n",
        "print(\"Y3 shape: \", Y3.shape)\n"
      ]
    },
    {
      "cell_type": "markdown",
      "metadata": {
        "id": "VM7_9Klvq7MO"
      },
      "source": [
        "## TASK 1: ORDERING OF MEDICAL TEST"
      ]
    },
    {
      "cell_type": "code",
      "execution_count": null,
      "metadata": {},
      "outputs": [],
      "source": [
        "# X_normalized_undersampling, Y1_undersampling = undersampler.fit_resample(X_small_train, Y1_train)\n",
        "\n",
        "# print(Y1_undersampling[Y1_undersampling==1].shape)\n",
        "# print(Y1_undersampling[Y1_undersampling==0].shape)"
      ]
    },
    {
      "cell_type": "code",
      "execution_count": 5,
      "metadata": {
        "id": "pRllo2HLfXiu"
      },
      "outputs": [
        {
          "name": "stdout",
          "output_type": "stream",
          "text": [
            "Epoch 1/10\n",
            "475/475 [==============================] - 0s 675us/step - loss: 0.1484 - mean_squared_error: 0.1484\n",
            "Epoch 2/10\n",
            "475/475 [==============================] - 0s 681us/step - loss: 0.1430 - mean_squared_error: 0.1430\n",
            "Epoch 3/10\n",
            "475/475 [==============================] - 0s 622us/step - loss: 0.1449 - mean_squared_error: 0.1449\n",
            "Epoch 4/10\n",
            "475/475 [==============================] - 0s 661us/step - loss: 0.1443 - mean_squared_error: 0.1443\n",
            "Epoch 5/10\n",
            "475/475 [==============================] - 0s 636us/step - loss: 0.1431 - mean_squared_error: 0.1431\n",
            "Epoch 6/10\n",
            "475/475 [==============================] - 0s 632us/step - loss: 0.1436 - mean_squared_error: 0.1436\n",
            "Epoch 7/10\n",
            "475/475 [==============================] - 0s 649us/step - loss: 0.1451 - mean_squared_error: 0.1451\n",
            "Epoch 8/10\n",
            "475/475 [==============================] - 0s 615us/step - loss: 0.1436 - mean_squared_error: 0.1436\n",
            "Epoch 9/10\n",
            "475/475 [==============================] - 0s 626us/step - loss: 0.1436 - mean_squared_error: 0.1436\n",
            "Epoch 10/10\n",
            "475/475 [==============================] - 0s 636us/step - loss: 0.1447 - mean_squared_error: 0.1447\n",
            "Finished training the model\n"
          ]
        }
      ],
      "source": [
        "inputs_dim = X_normalized.shape[1]\n",
        "outputs_dim = Y1.shape[1]\n",
        "\n",
        "model1 = tf.keras.Sequential([\n",
        "  tf.keras.layers.Dense(units=100, input_shape=[inputs_dim], activation='sigmoid'),\n",
        "  tf.keras.layers.Dense(units=25, activation='sigmoid'),\n",
        "  tf.keras.layers.Dense(units=outputs_dim)\n",
        "])\n",
        "\n",
        "model1.compile(loss='mean_squared_error', optimizer=tf.keras.optimizers.Adam(0.1), metrics=['mean_squared_error'])\n",
        "\n",
        "history = model1.fit(X_normalized_train, Y1_train, epochs=10) # , verbose=False\n",
        "print(\"Finished training the model\")"
      ]
    },
    {
      "cell_type": "markdown",
      "metadata": {},
      "source": [
        "## TASK 1: EVALUATION"
      ]
    },
    {
      "cell_type": "code",
      "execution_count": 6,
      "metadata": {},
      "outputs": [
        {
          "name": "stdout",
          "output_type": "stream",
          "text": [
            "0.026957536\n",
            "score for col  0 :  0.5069146988517818\n",
            "score for col  1 :  0.4890370438253503\n",
            "score for col  2 :  0.5069922578500399\n",
            "score for col  3 :  0.5\n",
            "score for col  4 :  0.5\n",
            "score for col  5 :  0.5\n",
            "score for col  6 :  0.5040007788161993\n",
            "score for col  7 :  0.49672649953023784\n",
            "score for col  8 :  0.5103490053144917\n",
            "score for col  9 :  0.5\n"
          ]
        }
      ],
      "source": [
        "pred1 = model1.predict(X_normalized_valid)\n",
        "print(np.var(pred1))\n",
        "for i in range(Y1_valid.shape[1]):\n",
        "    print(\"score for col \",i,\": \" , metrics.roc_auc_score(Y1_valid[:,i], pred1[:,i]))\n",
        "\n"
      ]
    },
    {
      "cell_type": "markdown",
      "metadata": {},
      "source": [
        "## TASK 2: SEPSIS PREDICTION"
      ]
    },
    {
      "cell_type": "code",
      "execution_count": 7,
      "metadata": {},
      "outputs": [
        {
          "name": "stdout",
          "output_type": "stream",
          "text": [
            "(886,)\n",
            "(886,)\n"
          ]
        }
      ],
      "source": [
        "X_small_undersampling, Y2_undersampling = undersampler.fit_resample(X_small_train, Y2_train)\n",
        "\n",
        "print(Y2_undersampling[Y2_undersampling==1].shape)\n",
        "print(Y2_undersampling[Y2_undersampling==0].shape)"
      ]
    },
    {
      "cell_type": "code",
      "execution_count": 15,
      "metadata": {},
      "outputs": [
        {
          "data": {
            "text/plain": [
              "Pipeline(steps=[('polynomialfeatures', PolynomialFeatures(degree=3)),\n",
              "                ('ridge',\n",
              "                 Ridge(alpha=0.01, fit_intercept=False, solver='svd'))])"
            ]
          },
          "execution_count": 15,
          "metadata": {},
          "output_type": "execute_result"
        }
      ],
      "source": [
        "#gaussian kernel (pretty bad)\n",
        "# kernel = \"rbf\"\n",
        "# reg = np.power(10., -1.5)\n",
        "# bandwidth = np.power(10., -0.6)\n",
        "# gamma = np.power(10., -bandwidth)\n",
        "# coef0 = 0\n",
        "# tol = 1e-1\n",
        "\n",
        "# model2 = svm.SVC(kernel=kernel, C=np.power(10., -reg), gamma=gamma, coef0=coef0, tol=tol, random_state=10)\n",
        "            \n",
        "# model2.fit(X_small_undersampling[:10000], Y2_undersampling[:10000])\n",
        "\n",
        "\n",
        "#polynomial kernel\n",
        "degree = 3\n",
        "l2_coef = 0.01\n",
        "\n",
        "model2 = make_pipeline(\n",
        "    PolynomialFeatures(degree),\n",
        "    Ridge(alpha=l2_coef, fit_intercept=False, solver=\"svd\"))\n",
        "    \n",
        "model2.fit(X_small_undersampling[:1000], Y2_undersampling[:1000])\n",
        "\n"
      ]
    },
    {
      "cell_type": "markdown",
      "metadata": {},
      "source": [
        "## TASK 2: EVALUATION"
      ]
    },
    {
      "cell_type": "code",
      "execution_count": 16,
      "metadata": {},
      "outputs": [
        {
          "name": "stdout",
          "output_type": "stream",
          "text": [
            "0.06696288840906799\n",
            "(3799,)\n",
            "(3799,)\n",
            "(202,)\n",
            "(3597,)\n",
            "score :  0.5886960255658594\n"
          ]
        }
      ],
      "source": [
        "pred2 = model2.predict(X_small_valid)\n",
        "print(np.var(pred2))\n",
        "print(pred2.shape)\n",
        "print(Y2_valid.shape)\n",
        "print(Y2_valid[Y2_valid==1].shape)\n",
        "print(Y2_valid[Y2_valid==0].shape)\n",
        "\n",
        "print(\"score : \" , metrics.roc_auc_score(Y2_valid, pred2.reshape(-1,1)))"
      ]
    },
    {
      "cell_type": "markdown",
      "metadata": {},
      "source": [
        "## TASK 3: KEYS VITALS SIGNS PREDICTION"
      ]
    },
    {
      "cell_type": "code",
      "execution_count": 11,
      "metadata": {},
      "outputs": [
        {
          "name": "stdout",
          "output_type": "stream",
          "text": [
            "Epoch 1/20\n",
            "475/475 [==============================] - 0s 621us/step - loss: 114.8926 - mean_squared_error: 114.8926\n",
            "Epoch 2/20\n",
            "475/475 [==============================] - 0s 731us/step - loss: 56.8139 - mean_squared_error: 56.8139\n",
            "Epoch 3/20\n",
            "475/475 [==============================] - 0s 664us/step - loss: 50.0968 - mean_squared_error: 50.0968\n",
            "Epoch 4/20\n",
            "475/475 [==============================] - 0s 609us/step - loss: 48.8615 - mean_squared_error: 48.8615\n",
            "Epoch 5/20\n",
            "475/475 [==============================] - 0s 647us/step - loss: 49.7978 - mean_squared_error: 49.79780s - loss: 52.5729 - mean_squared_error: 5\n",
            "Epoch 6/20\n",
            "475/475 [==============================] - 0s 649us/step - loss: 55.3849 - mean_squared_error: 55.3849\n",
            "Epoch 7/20\n",
            "475/475 [==============================] - 0s 619us/step - loss: 48.2290 - mean_squared_error: 48.2290\n",
            "Epoch 8/20\n",
            "475/475 [==============================] - 0s 604us/step - loss: 48.8632 - mean_squared_error: 48.8632\n",
            "Epoch 9/20\n",
            "475/475 [==============================] - 0s 642us/step - loss: 48.4503 - mean_squared_error: 48.4503\n",
            "Epoch 10/20\n",
            "475/475 [==============================] - 0s 603us/step - loss: 49.2488 - mean_squared_error: 49.2488\n",
            "Epoch 11/20\n",
            "475/475 [==============================] - 0s 609us/step - loss: 46.6648 - mean_squared_error: 46.6648\n",
            "Epoch 12/20\n",
            "475/475 [==============================] - 0s 630us/step - loss: 46.7496 - mean_squared_error: 46.7496\n",
            "Epoch 13/20\n",
            "475/475 [==============================] - 0s 634us/step - loss: 47.5609 - mean_squared_error: 47.5609\n",
            "Epoch 14/20\n",
            "475/475 [==============================] - 0s 605us/step - loss: 45.9850 - mean_squared_error: 45.9850\n",
            "Epoch 15/20\n",
            "475/475 [==============================] - ETA: 0s - loss: 46.0234 - mean_squared_error: 46.02 - 0s 626us/step - loss: 45.6908 - mean_squared_error: 45.6908\n",
            "Epoch 16/20\n",
            "475/475 [==============================] - 0s 641us/step - loss: 43.6070 - mean_squared_error: 43.6070\n",
            "Epoch 17/20\n",
            "475/475 [==============================] - 0s 601us/step - loss: 45.3699 - mean_squared_error: 45.3699\n",
            "Epoch 18/20\n",
            "475/475 [==============================] - 0s 660us/step - loss: 46.3953 - mean_squared_error: 46.3953\n",
            "Epoch 19/20\n",
            "475/475 [==============================] - 0s 672us/step - loss: 44.7118 - mean_squared_error: 44.7118\n",
            "Epoch 20/20\n",
            "475/475 [==============================] - 0s 611us/step - loss: 45.0595 - mean_squared_error: 45.0595\n",
            "Finished training the model\n"
          ]
        }
      ],
      "source": [
        "inputs_dim = X_orig.shape[1]\n",
        "outputs_dim = Y3.shape[1]\n",
        "\n",
        "model3 = tf.keras.Sequential([\n",
        "  tf.keras.layers.Dense(units=100, input_shape=[inputs_dim], activation='relu'),\n",
        "  tf.keras.layers.Dense(units=25, activation='relu'),\n",
        "  tf.keras.layers.Dense(units=outputs_dim)\n",
        "])\n",
        "\n",
        "model3.compile(loss='mean_squared_error', optimizer=tf.keras.optimizers.Adam(0.1), metrics=['mean_squared_error'])\n",
        "\n",
        "history = model3.fit(X_normalized_train, Y3_train, epochs=20) # , verbose=False\n",
        "print(\"Finished training the model\")"
      ]
    },
    {
      "cell_type": "markdown",
      "metadata": {},
      "source": [
        "## TASK 3: EVALUATION"
      ]
    },
    {
      "cell_type": "code",
      "execution_count": 12,
      "metadata": {},
      "outputs": [
        {
          "name": "stdout",
          "output_type": "stream",
          "text": [
            "score for col  0 :  0.985809041303258\n",
            "score for col  1 :  0.9591870842407233\n",
            "score for col  2 :  0.8747249899278796\n",
            "score for col  3 :  0.9691530467926881\n"
          ]
        }
      ],
      "source": [
        "pred3 = model3.predict(X_normalized_valid)\n",
        "for i in range(Y3_valid.shape[1]):\n",
        "    print(\"score for col \",i,\": \" , 0.5 + 0.5 * np.maximum(0, metrics.r2_score(Y3_valid[i], pred3[i])))\n",
        "\n"
      ]
    },
    {
      "cell_type": "markdown",
      "metadata": {},
      "source": [
        "## Writing results"
      ]
    },
    {
      "cell_type": "code",
      "execution_count": 37,
      "metadata": {},
      "outputs": [
        {
          "name": "stdout",
          "output_type": "stream",
          "text": [
            "(151968, 37)\n",
            "(151968, 37)\n",
            "(12664, 420)\n",
            "(12664, 35)\n"
          ]
        }
      ],
      "source": [
        "print(pd.read_csv(\"test_features.csv\").shape)\n",
        "print(pd.read_csv(\"test_features_normalized.csv\").shape)\n",
        "test_features_df_normalized = pd.read_csv(\"test_features_normalized.csv\")\n",
        "\n",
        "test_X_normalized = np.array(test_features_df_normalized.iloc[:, 2:].values,  dtype=float).reshape(151968//12,35*12)\n",
        "test_X_small = np.array(test_features_df_normalized.iloc[:, 2:].values,  dtype=float)[::12]\n",
        "\n",
        "print(test_X_normalized.shape)\n",
        "print(test_X_small.shape)\n",
        "\n",
        "\n",
        "pred1 = model1.predict(test_X_normalized)\n",
        "pred2 = model2.predict(test_X_small)\n",
        "pred3 = model3.predict(test_X_normalized)\n",
        "\n",
        "\n"
      ]
    },
    {
      "cell_type": "code",
      "execution_count": 38,
      "metadata": {},
      "outputs": [
        {
          "name": "stdout",
          "output_type": "stream",
          "text": [
            "(12664, 16)\n",
            "(12664, 16)\n",
            "(12664, 10)\n",
            "(12664,)\n",
            "(12664, 4)\n"
          ]
        }
      ],
      "source": [
        "sample = pd.read_csv(\"sample.csv\")\n",
        "print(sample.shape)\n",
        "submit =  pd.DataFrame(np.zeros((12664,16)), columns=[sample.columns])\n",
        "print(submit.shape)\n",
        "print(pred1.shape)\n",
        "print(pred2.shape)\n",
        "print(pred3.shape)\n",
        "# print(submit)\n",
        "\n",
        "\n",
        "submit.iloc[:,0] = sample.iloc[:,0]\n",
        "submit.iloc[:,1:11] = pred1\n",
        "submit.iloc[:,11] = pred2\n",
        "submit.iloc[:,12:] = pred3\n",
        "\n",
        "submit.to_csv('submit.zip', index=False, float_format='%.3f', compression='zip')\n",
        "submit.to_csv('submit.csv', index=False, float_format='%.3f')"
      ]
    }
  ],
  "metadata": {
    "colab": {
      "collapsed_sections": [],
      "name": "l02c01_celsius_to_fahrenheit.ipynb",
      "toc_visible": true
    },
    "kernelspec": {
      "display_name": "Python 3",
      "name": "python3"
    },
    "language_info": {
      "codemirror_mode": {
        "name": "ipython",
        "version": 3
      },
      "file_extension": ".py",
      "mimetype": "text/x-python",
      "name": "python",
      "nbconvert_exporter": "python",
      "pygments_lexer": "ipython3",
      "version": "3.8.8"
    }
  },
  "nbformat": 4,
  "nbformat_minor": 0
}
