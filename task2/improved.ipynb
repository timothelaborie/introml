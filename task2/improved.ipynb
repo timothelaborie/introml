{
 "cells": [
  {
   "cell_type": "markdown",
   "metadata": {
    "id": "fA93WUy1zzWf"
   },
   "source": [
    "## Import stuff"
   ]
  },
  {
   "cell_type": "code",
   "execution_count": 9,
   "metadata": {
    "id": "-ZMgCvSRFqxE"
   },
   "outputs": [
    {
     "name": "stdout",
     "output_type": "stream",
     "text": [
      "2.8.0\n"
     ]
    }
   ],
   "source": [
    "import tensorflow as tf\n",
    "from keras.losses import categorical_crossentropy, mean_squared_error\n",
    "import os\n",
    "import matplotlib.pyplot as plt\n",
    "import numpy as np\n",
    "import pandas as pd\n",
    "from tensorflow.keras import layers\n",
    "import shutil\n",
    "import random\n",
    "from PIL import Image\n",
    "import numpy as np\n",
    "import logging\n",
    "from sklearn.metrics import mean_squared_error\n",
    "from sklearn.model_selection import KFold\n",
    "import sklearn.metrics as metrics\n",
    "from sklearn.svm import SVC\n",
    "from sklearn import svm\n",
    "from sklearn import datasets\n",
    "from sklearn.pipeline import make_pipeline\n",
    "from sklearn.preprocessing import PolynomialFeatures\n",
    "from sklearn.kernel_ridge import KernelRidge\n",
    "from sklearn.linear_model import Ridge, RidgeCV, ElasticNet\n",
    "from sklearn.model_selection import cross_val_score\n",
    "from sklearn.metrics import mean_squared_error\n",
    "from sklearn.linear_model import LogisticRegression\n",
    "from sklearn.ensemble import RandomForestClassifier\n",
    "from sklearn.ensemble import AdaBoostClassifier\n",
    "from sklearn.impute import KNNImputer\n",
    "from sklearn.model_selection import train_test_split\n",
    "from sklearn.preprocessing import StandardScaler\n",
    "from sklearn.datasets import make_moons, make_circles, make_classification\n",
    "from sklearn.neural_network import MLPClassifier\n",
    "from sklearn.neighbors import KNeighborsClassifier\n",
    "from sklearn.svm import SVC\n",
    "from sklearn.gaussian_process import GaussianProcessClassifier\n",
    "from sklearn.gaussian_process.kernels import RBF\n",
    "from sklearn.tree import DecisionTreeClassifier\n",
    "from sklearn.ensemble import RandomForestClassifier, AdaBoostClassifier, GradientBoostingClassifier, HistGradientBoostingClassifier, ExtraTreesClassifier\n",
    "from sklearn.naive_bayes import GaussianNB\n",
    "from sklearn.discriminant_analysis import QuadraticDiscriminantAnalysis\n",
    "from sklearn.feature_selection import SelectKBest\n",
    "from sklearn.feature_selection import chi2\n",
    "from sklearn.cluster import KMeans\n",
    "from sklearn.decomposition import PCA\n",
    "from sklearn.ensemble import HistGradientBoostingRegressor\n",
    "from sklearn.mixture import BayesianGaussianMixture, GaussianMixture\n",
    "from catboost import CatBoostClassifier\n",
    "logger = tf.get_logger()\n",
    "logger.setLevel(logging.ERROR)\n",
    "\n",
    "print(tf.__version__)\n",
    "\n",
    "def get_score(df_true, df_submission):\n",
    "    for i in range(df_true.shape[1]):\n",
    "        print(\"score for col \",i,\": \" , metrics.roc_auc_score(df_true[:,i], df_submission[:,i]))\n"
   ]
  },
  {
   "cell_type": "markdown",
   "metadata": {
    "id": "AC3EQFi20buB"
   },
   "source": [
    "## Load training data from csv\n"
   ]
  },
  {
   "cell_type": "code",
   "execution_count": 10,
   "metadata": {},
   "outputs": [
    {
     "name": "stdout",
     "output_type": "stream",
     "text": [
      "X shape:  (18995, 546)\n",
      "Y shape:  (18995, 15)\n"
     ]
    }
   ],
   "source": [
    "df = pd.read_csv(\"train_features_improved.csv\")\n",
    "labels_df = pd.read_csv(\"train_labels.csv\")\n",
    "\n",
    "X = np.array(df.iloc[:, 1:].values,  dtype=float)\n",
    "Y = np.array(labels_df.iloc[:, 1:].values,  dtype=float)\n",
    "\n",
    "#normalize\n",
    "# Y[:,13] = (Y[:,13]-27)/73\n",
    "\n",
    "X_train, X_valid, Y_train, Y_valid = train_test_split(X, Y, train_size=0.8, test_size=0.2, random_state=0)\n",
    "\n",
    "print(\"X shape: \", X.shape)\n",
    "print(\"Y shape: \", Y.shape)\n",
    "\n"
   ]
  },
  {
   "cell_type": "markdown",
   "metadata": {
    "id": "VM7_9Klvq7MO"
   },
   "source": [
    "## The function that trains and rates models"
   ]
  },
  {
   "cell_type": "code",
   "execution_count": 11,
   "metadata": {},
   "outputs": [],
   "source": [
    "def find_best_model(col, X_train, Y_train, X_valid, Y_valid, X_test, X, Y):\n",
    "    models = []\n",
    "\n",
    "    Y_train = Y_train[:,col]\n",
    "    Y_valid = Y_valid[:,col]\n",
    "    # print(X_train.shape)\n",
    "    # X_train = PolynomialFeatures(degree=2).fit_transform(X_train)\n",
    "    # print(X_train.shape)\n",
    "    # X_valid = PolynomialFeatures(degree=2).fit_transform(X_valid)\n",
    "    # X_train = SelectKBest(chi2, k=35).fit_transform(X_train+0.01, Y_train)\n",
    "    # X_valid = SelectKBest(chi2, k=35).fit_transform(X_valid+0.01, Y_valid)\n",
    "    # X_train, Y_train = oversampler.fit_resample(X_train, Y_train)\n",
    "    # X_train, Y_train = undersampler.fit_resample(X_train, Y_train)\n",
    "\n",
    "    #task 1 and 2\n",
    "    if(col<11):    \n",
    "        print(\"training HistGradientBoostingClassifier for col \", col)\n",
    "        model = HistGradientBoostingClassifier()\n",
    "        model.fit(X_train, Y_train)\n",
    "        models.append(model)\n",
    "        \n",
    "        print(\"training ExtraTrees for col \", col)\n",
    "        model = ExtraTreesClassifier(n_estimators=100, random_state=0)\n",
    "        model.fit(X_train, Y_train)\n",
    "        models.append(model)\n",
    "\n",
    "        print(\"training rfc for col \", col)\n",
    "        rfc = RandomForestClassifier(n_estimators=100, max_depth=5, random_state=10)\n",
    "        rfc.fit(X_train, Y_train)\n",
    "        models.append(rfc)\n",
    "\n",
    "        print(\"training catboost for col \", col)\n",
    "        model = CatBoostClassifier(iterations=100, learning_rate=0.1, depth=6, eval_metric='AUC', logging_level='Silent')\n",
    "        model.fit(X_train, Y_train)\n",
    "        models.append(model)\n",
    "\n",
    "        # print(\"training swish neural net for col \", col)\n",
    "        # callback = tf.keras.callbacks.EarlyStopping(monitor='val_loss', mode='min', patience=3)\n",
    "        # model = tf.keras.Sequential([\n",
    "        #     layers.Dense(512, activation=tf.keras.activations.swish),\n",
    "        #     # layers.BatchNormalization(),\n",
    "        #     layers.Dense(512, activation=tf.keras.activations.swish),\n",
    "        #     # layers.BatchNormalization(),\n",
    "        #     layers.Dense(1, activation='sigmoid')\n",
    "        # ])\n",
    "        # model.compile(loss='binary_crossentropy', optimizer=tf.keras.optimizers.Adam(0.001))\n",
    "        # history = model.fit(X_train, Y_train, epochs=100, verbose=True,callbacks=[callback], validation_data=(X_valid, Y_valid))\n",
    "        # print(len(history.history['loss']))\n",
    "        # models.append(model)\n",
    "        \n",
    "        # print(\"training ridge\",1,\" for col \", col)\n",
    "        # ridge = Ridge()\n",
    "        # ridge.fit(X_train, Y_train)\n",
    "        # models.append(ridge)\n",
    "\n",
    "        # print(\"training decision tree for col \", col)\n",
    "        # model = DecisionTreeClassifier(max_depth=5)\n",
    "        # model.fit(X_train, Y_train)\n",
    "        # models.append(model)\n",
    "\n",
    "        # print(\"training adaboost for col \", col)\n",
    "        # adaboost = AdaBoostClassifier(n_estimators=100, random_state=10)\n",
    "        # adaboost.fit(X_train, Y_train)\n",
    "        # models.append(adaboost)\n",
    "\n",
    "        # print(\"training GradientBoostingClassifier for col \", col)\n",
    "        # model = GradientBoostingClassifier(n_estimators=100, learning_rate=0.1, max_depth=1, random_state=0)\n",
    "        # model.fit(X_train, Y_train)\n",
    "        # models.append(model)\n",
    "\n",
    "\n",
    "    # task 2\n",
    "    # if(col==10):\n",
    "    #     print(\"training improved neural net for col \", col)\n",
    "    #     callback = tf.keras.callbacks.EarlyStopping(monitor='loss', patience=3)\n",
    "    #     model = tf.keras.Sequential([\n",
    "    #         layers.Dense(512, activation=tf.keras.activations.relu),\n",
    "    #         layers.Dense(512, activation=tf.keras.activations.relu),\n",
    "    #         layers.Dense(1, activation='sigmoid')\n",
    "    #     ])\n",
    "    #     model.compile(loss='binary_crossentropy', optimizer=tf.keras.optimizers.Adam(0.001))\n",
    "    #     history = model.fit(X_train, Y_train, epochs=100, verbose=False,callbacks=[callback])\n",
    "    #     print(len(history.history['loss']))\n",
    "    #     models.append(model)\n",
    "\n",
    "    #     print(\"training ridge 1 for col \", col)\n",
    "    #     ridge = Ridge(alpha=1.0)\n",
    "    #     ridge.fit(X_train, Y_train)\n",
    "    #     models.append(ridge)\n",
    "    \n",
    "    #task 3\n",
    "    if(col>=11):\n",
    "        # print(\"training improved neural net for col \", col)\n",
    "        # callback = tf.keras.callbacks.EarlyStopping(monitor='val_loss', mode='min', patience=3, restore_best_weights=True)\n",
    "        # model = tf.keras.Sequential([\n",
    "        #     layers.Dense(512, activation=tf.keras.activations.relu),\n",
    "        #     layers.Dense(512, activation=tf.keras.activations.relu),\n",
    "        #     layers.Dense(1, activation='linear')\n",
    "        # ])\n",
    "        # model.compile(loss=\"mean_squared_error\", optimizer=tf.keras.optimizers.Adam(0.001))\n",
    "        # history = model.fit(X_train, Y_train, epochs=100, verbose=False,callbacks=[callback], validation_data=(X_valid, Y_valid))\n",
    "        # print(len(history.history['loss']))\n",
    "        # models.append(model)\n",
    "\n",
    "        # print(\"training ridge for col \", col)\n",
    "        # ridge = Ridge(alpha=1.0)\n",
    "        # ridge.fit(X_train, Y_train)\n",
    "        # models.append(ridge)\n",
    "\n",
    "        print(\"training HistGradientBoostingRegressor for col \", col)\n",
    "        model = HistGradientBoostingRegressor()\n",
    "        model.fit(X_train, Y_train)\n",
    "        models.append(model)\n",
    "\n",
    "\n",
    "\n",
    "\n",
    "    \n",
    "    print(\"done training all models for col \", col)\n",
    "\n",
    "    best_score = 0\n",
    "    best_model = None\n",
    "    probabilistic_models = [\"BayesianGaussianMixture\", \"MLPClassifier\", \"SVC\", \"RandomForestClassifier\", \"HistGradientBoostingClassifier\", \"GradientBoostingClassifier\", \"ExtraTreesClassifier\", \"RandomForestRegressor\", \"DecisionTreeClassifier\", \"GaussianNB\", \"AdaBoostClassifier\", \"QuadraticDiscriminantAnalysis\", \"GaussianProcessClassifier\",\"CatBoostClassifier\"]\n",
    "    for model in models:\n",
    "        model_type = str(type(model)).split(\".\")[-1].split(\"'\")[0]\n",
    "        # print(\"testing model \", model_type)\n",
    "        #if the model is probabilistic\n",
    "        if model_type in probabilistic_models:\n",
    "            print(model.predict_proba(X_valid).shape)\n",
    "            print(model.predict_proba(X_valid))\n",
    "            pred = model.predict_proba(X_valid)[:,1]\n",
    "        else:\n",
    "            pred = model.predict(X_valid)\n",
    "        if(col<11):  \n",
    "            np.clip(pred, 0.0, 1.0, out=pred)\n",
    "            # print(pred.min())\n",
    "            # print(pred.max())\n",
    "        # print(\"predictions shape: \", pred.shape)\n",
    "        if(col>=11):\n",
    "            score = 0.5 + 0.5 * np.maximum(0, metrics.r2_score(Y_valid, pred))\n",
    "        else:\n",
    "            score = metrics.roc_auc_score(Y_valid, pred)\n",
    "        print(\"score for\",type(model),\": \" , score)\n",
    "        if score > best_score:\n",
    "            best_score = score\n",
    "            best_model = model\n",
    "\n",
    "    print(\"best model: \", type(best_model),best_score)\n",
    "\n",
    "    #doesn't seem to work\n",
    "    # if str(type(best_model)).count(\"Sequential\") > 0:\n",
    "    #     best_model.fit(X,Y[:,col], epochs=15, verbose=False)\n",
    "    # else:\n",
    "    #     best_model.fit(X, Y[:,col])\n",
    "\n",
    "    predictions = best_model.predict(X_test)\n",
    "    # print(\"predictions shape: \", predictions.shape)\n",
    "\n",
    "    return predictions,best_score"
   ]
  },
  {
   "cell_type": "markdown",
   "metadata": {},
   "source": [
    "## Writing results"
   ]
  },
  {
   "cell_type": "code",
   "execution_count": 12,
   "metadata": {},
   "outputs": [
    {
     "name": "stdout",
     "output_type": "stream",
     "text": [
      "training BayesianGaussianMixture for col  0\n",
      "training BayesianGaussianMixture 2 for col  0\n",
      "done training all models for col  0\n",
      "(3799, 2)\n",
      "score for <class 'sklearn.mixture._bayesian_mixture.BayesianGaussianMixture'> :  0.5\n",
      "(3799, 1)\n"
     ]
    },
    {
     "ename": "IndexError",
     "evalue": "index 1 is out of bounds for axis 1 with size 1",
     "output_type": "error",
     "traceback": [
      "\u001b[1;31m---------------------------------------------------------------------------\u001b[0m",
      "\u001b[1;31mIndexError\u001b[0m                                Traceback (most recent call last)",
      "\u001b[1;32m~\\AppData\\Local\\Temp/ipykernel_69244/4098773703.py\u001b[0m in \u001b[0;36m<module>\u001b[1;34m\u001b[0m\n\u001b[0;32m     15\u001b[0m \u001b[1;33m\u001b[0m\u001b[0m\n\u001b[0;32m     16\u001b[0m     \u001b[1;31m# pred = find_best_model(i, X, Y, X, Y, X_test,X,Y)\u001b[0m\u001b[1;33m\u001b[0m\u001b[1;33m\u001b[0m\u001b[0m\n\u001b[1;32m---> 17\u001b[1;33m     \u001b[0mpred\u001b[0m\u001b[1;33m,\u001b[0m\u001b[0mbest_score\u001b[0m \u001b[1;33m=\u001b[0m \u001b[0mfind_best_model\u001b[0m\u001b[1;33m(\u001b[0m\u001b[0mi\u001b[0m\u001b[1;33m,\u001b[0m \u001b[0mX\u001b[0m\u001b[1;33m[\u001b[0m\u001b[1;33m:\u001b[0m\u001b[0mint\u001b[0m\u001b[1;33m(\u001b[0m\u001b[0mX\u001b[0m\u001b[1;33m.\u001b[0m\u001b[0mshape\u001b[0m\u001b[1;33m[\u001b[0m\u001b[1;36m0\u001b[0m\u001b[1;33m]\u001b[0m\u001b[1;33m*\u001b[0m\u001b[1;36m0.8\u001b[0m\u001b[1;33m)\u001b[0m\u001b[1;33m]\u001b[0m\u001b[1;33m,\u001b[0m \u001b[0mY\u001b[0m\u001b[1;33m[\u001b[0m\u001b[1;33m:\u001b[0m\u001b[0mint\u001b[0m\u001b[1;33m(\u001b[0m\u001b[0mY\u001b[0m\u001b[1;33m.\u001b[0m\u001b[0mshape\u001b[0m\u001b[1;33m[\u001b[0m\u001b[1;36m0\u001b[0m\u001b[1;33m]\u001b[0m\u001b[1;33m*\u001b[0m\u001b[1;36m0.8\u001b[0m\u001b[1;33m)\u001b[0m\u001b[1;33m]\u001b[0m\u001b[1;33m,\u001b[0m \u001b[0mX\u001b[0m\u001b[1;33m[\u001b[0m\u001b[0mint\u001b[0m\u001b[1;33m(\u001b[0m\u001b[0mX\u001b[0m\u001b[1;33m.\u001b[0m\u001b[0mshape\u001b[0m\u001b[1;33m[\u001b[0m\u001b[1;36m0\u001b[0m\u001b[1;33m]\u001b[0m\u001b[1;33m*\u001b[0m\u001b[1;36m0.8\u001b[0m\u001b[1;33m)\u001b[0m\u001b[1;33m:\u001b[0m\u001b[1;33m]\u001b[0m\u001b[1;33m,\u001b[0m \u001b[0mY\u001b[0m\u001b[1;33m[\u001b[0m\u001b[0mint\u001b[0m\u001b[1;33m(\u001b[0m\u001b[0mY\u001b[0m\u001b[1;33m.\u001b[0m\u001b[0mshape\u001b[0m\u001b[1;33m[\u001b[0m\u001b[1;36m0\u001b[0m\u001b[1;33m]\u001b[0m\u001b[1;33m*\u001b[0m\u001b[1;36m0.8\u001b[0m\u001b[1;33m)\u001b[0m\u001b[1;33m:\u001b[0m\u001b[1;33m]\u001b[0m\u001b[1;33m,\u001b[0m \u001b[0mX_test\u001b[0m\u001b[1;33m,\u001b[0m\u001b[0mX\u001b[0m\u001b[1;33m,\u001b[0m\u001b[0mY\u001b[0m\u001b[1;33m)\u001b[0m\u001b[1;33m\u001b[0m\u001b[1;33m\u001b[0m\u001b[0m\n\u001b[0m\u001b[0;32m     18\u001b[0m     \u001b[1;31m# pred = find_best_model(i, X[int(X.shape[0]*0.2):], Y[int(Y.shape[0]*0.2):], X[:int(X.shape[0]*0.2)], Y[:int(Y.shape[0]*0.2)], X_test,X,Y)\u001b[0m\u001b[1;33m\u001b[0m\u001b[1;33m\u001b[0m\u001b[0m\n\u001b[0;32m     19\u001b[0m     \u001b[1;31m# print(\"pred shape: \", pred.shape)\u001b[0m\u001b[1;33m\u001b[0m\u001b[1;33m\u001b[0m\u001b[0m\n",
      "\u001b[1;32m~\\AppData\\Local\\Temp/ipykernel_69244/2653844224.py\u001b[0m in \u001b[0;36mfind_best_model\u001b[1;34m(col, X_train, Y_train, X_valid, Y_valid, X_test, X, Y)\u001b[0m\n\u001b[0;32m    138\u001b[0m         \u001b[1;32mif\u001b[0m \u001b[0mmodel_type\u001b[0m \u001b[1;32min\u001b[0m \u001b[0mprobabilistic_models\u001b[0m\u001b[1;33m:\u001b[0m\u001b[1;33m\u001b[0m\u001b[1;33m\u001b[0m\u001b[0m\n\u001b[0;32m    139\u001b[0m             \u001b[0mprint\u001b[0m\u001b[1;33m(\u001b[0m\u001b[0mmodel\u001b[0m\u001b[1;33m.\u001b[0m\u001b[0mpredict_proba\u001b[0m\u001b[1;33m(\u001b[0m\u001b[0mX_valid\u001b[0m\u001b[1;33m)\u001b[0m\u001b[1;33m.\u001b[0m\u001b[0mshape\u001b[0m\u001b[1;33m)\u001b[0m\u001b[1;33m\u001b[0m\u001b[1;33m\u001b[0m\u001b[0m\n\u001b[1;32m--> 140\u001b[1;33m             \u001b[0mpred\u001b[0m \u001b[1;33m=\u001b[0m \u001b[0mmodel\u001b[0m\u001b[1;33m.\u001b[0m\u001b[0mpredict_proba\u001b[0m\u001b[1;33m(\u001b[0m\u001b[0mX_valid\u001b[0m\u001b[1;33m)\u001b[0m\u001b[1;33m[\u001b[0m\u001b[1;33m:\u001b[0m\u001b[1;33m,\u001b[0m\u001b[1;36m1\u001b[0m\u001b[1;33m]\u001b[0m\u001b[1;33m\u001b[0m\u001b[1;33m\u001b[0m\u001b[0m\n\u001b[0m\u001b[0;32m    141\u001b[0m         \u001b[1;32melse\u001b[0m\u001b[1;33m:\u001b[0m\u001b[1;33m\u001b[0m\u001b[1;33m\u001b[0m\u001b[0m\n\u001b[0;32m    142\u001b[0m             \u001b[0mpred\u001b[0m \u001b[1;33m=\u001b[0m \u001b[0mmodel\u001b[0m\u001b[1;33m.\u001b[0m\u001b[0mpredict\u001b[0m\u001b[1;33m(\u001b[0m\u001b[0mX_valid\u001b[0m\u001b[1;33m)\u001b[0m\u001b[1;33m\u001b[0m\u001b[1;33m\u001b[0m\u001b[0m\n",
      "\u001b[1;31mIndexError\u001b[0m: index 1 is out of bounds for axis 1 with size 1"
     ]
    }
   ],
   "source": [
    "X_test = pd.read_csv(\"test_features_improved.csv\")\n",
    "X_test = np.array(X_test.iloc[:, 1:].values,  dtype=float)\n",
    "\n",
    "data = []\n",
    "scores = []\n",
    "\n",
    "for i in range(0,15):\n",
    "# for i in range(0,1):\n",
    "# for i in range(10,11):\n",
    "# for i in range(11,15):\n",
    "# for i in range(13,14):\n",
    "    # if i == 11:\n",
    "    #     X = np.array(pd.read_csv(\"train_features_imputed.csv\").iloc[:, 1:].values,  dtype=float)\n",
    "    #     X_test = np.array(pd.read_csv(\"test_features_imputed.csv\").iloc[:, 1:].values,  dtype=float)\n",
    "\n",
    "    # pred = find_best_model(i, X, Y, X, Y, X_test,X,Y)\n",
    "    pred,best_score = find_best_model(i, X[:int(X.shape[0]*0.8)], Y[:int(Y.shape[0]*0.8)], X[int(X.shape[0]*0.8):], Y[int(Y.shape[0]*0.8):], X_test,X,Y)\n",
    "    # pred = find_best_model(i, X[int(X.shape[0]*0.2):], Y[int(Y.shape[0]*0.2):], X[:int(X.shape[0]*0.2)], Y[:int(Y.shape[0]*0.2)], X_test,X,Y)\n",
    "    # print(\"pred shape: \", pred.shape)\n",
    "    pred = pred.reshape(pred.shape[0],1)\n",
    "    data.append(pred)\n",
    "    scores.append(best_score)\n",
    "\n",
    "\n",
    "\n"
   ]
  },
  {
   "cell_type": "code",
   "execution_count": null,
   "metadata": {},
   "outputs": [
    {
     "name": "stdout",
     "output_type": "stream",
     "text": [
      "0.8253314355638655\n",
      "0.6854859797906396\n",
      "0.7713988058678847\n",
      "0.7607387404074633\n"
     ]
    }
   ],
   "source": [
    "print(np.mean(scores[:10]))\n",
    "print(np.mean(scores[10]))\n",
    "print(np.mean(scores[11:]))\n",
    "\n",
    "print(np.mean([np.mean(scores[:10]),np.mean(scores[10]),np.mean(scores[11:])]))\n"
   ]
  },
  {
   "cell_type": "code",
   "execution_count": null,
   "metadata": {},
   "outputs": [
    {
     "name": "stdout",
     "output_type": "stream",
     "text": [
      "15\n"
     ]
    }
   ],
   "source": [
    "np_array = np.array(data).transpose()[0]\n",
    "\n",
    "#un-normalize\n",
    "# np_array[:,13] = (np_array[:,13]*73)+27\n",
    "\n",
    "col_names = ['LABEL_BaseExcess', 'LABEL_Fibrinogen', 'LABEL_AST', 'LABEL_Alkalinephos', 'LABEL_Bilirubin_total', 'LABEL_Lactate', 'LABEL_TroponinI', 'LABEL_SaO2', 'LABEL_Bilirubin_direct', 'LABEL_EtCO2', 'LABEL_Sepsis', 'LABEL_RRate', 'LABEL_ABPm', 'LABEL_SpO2', 'LABEL_Heartrate']\n",
    "print(len(col_names))\n",
    "new_df = pd.DataFrame(np_array, columns=col_names)\n",
    "\n",
    "output_csv = pd.read_csv(\"sample.csv\")\n",
    "output_csv.update(new_df)\n",
    "output_csv.to_csv('submit.zip', index=False, float_format='%.3f', compression='zip')\n",
    "output_csv.to_csv('submit.csv', index=False, float_format='%.3f')\n"
   ]
  }
 ],
 "metadata": {
  "colab": {
   "collapsed_sections": [],
   "name": "l02c01_celsius_to_fahrenheit.ipynb",
   "toc_visible": true
  },
  "kernelspec": {
   "display_name": "Python 3.9.7 ('base')",
   "language": "python",
   "name": "python3"
  },
  "language_info": {
   "codemirror_mode": {
    "name": "ipython",
    "version": 3
   },
   "file_extension": ".py",
   "mimetype": "text/x-python",
   "name": "python",
   "nbconvert_exporter": "python",
   "pygments_lexer": "ipython3",
   "version": "3.9.7"
  },
  "vscode": {
   "interpreter": {
    "hash": "ad2bdc8ecc057115af97d19610ffacc2b4e99fae6737bb82f5d7fb13d2f2c186"
   }
  }
 },
 "nbformat": 4,
 "nbformat_minor": 0
}
