import pandas as pd
import numpy as np

df = pd.read_csv("train_features.csv")
ratios = pd.DataFrame(df.groupby(["pid"]).last()/df.groupby(["pid"]).first()-1)
#rename all columns to add "_ratio" at the end
ratios.columns = [x+"_ratio" for x in ratios.columns]
#drop the first 2 columns
ratios = ratios.iloc[:,2:]



df = pd.read_csv("train_features.csv")
last_hour = pd.DataFrame(np.array(df.iloc[:, 1:].values,  dtype=float)[11::12], columns=df.columns[1:])



data_merge = pd.merge(last_hour,
                      ratios,
                      on = "pid",
                      how = "outer")
 imputer = KNNImputer(n_neighbors=2)
 data_imputated = imputer.fit_transform(data_merge)
data_imputated.to_csv('train_with_ratios.csv', index=False)
