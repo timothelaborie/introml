{
  "cells": [
    {
      "cell_type": "markdown",
      "metadata": {
        "id": "fA93WUy1zzWf"
      },
      "source": [
        "## Import stuff"
      ]
    },
    {
      "cell_type": "code",
      "execution_count": 13,
      "metadata": {
        "id": "-ZMgCvSRFqxE"
      },
      "outputs": [
        {
          "name": "stdout",
          "output_type": "stream",
          "text": [
            "2.3.0\n",
            "tensorflow doesn't detects GPU: \n",
            "[name: \"/device:CPU:0\"\n",
            "device_type: \"CPU\"\n",
            "memory_limit: 268435456\n",
            "locality {\n",
            "}\n",
            "incarnation: 9442908139656197204\n",
            "]\n",
            "\n",
            "[PhysicalDevice(name='/physical_device:CPU:0', device_type='CPU')]\n",
            "torch detects GPU:  True\n"
          ]
        }
      ],
      "source": [
        "import tensorflow as tf\n",
        "import os\n",
        "import matplotlib.pyplot as plt\n",
        "import numpy as np\n",
        "import pandas as pd\n",
        "from tensorflow.keras import layers\n",
        "import shutil\n",
        "import random\n",
        "from PIL import Image\n",
        "import numpy as np\n",
        "import logging\n",
        "from sklearn.metrics import mean_squared_error\n",
        "from sklearn.model_selection import KFold\n",
        "import torch \n",
        "import torch.jit\n",
        "import torch.nn as nn \n",
        "import torchvision\n",
        "from torchvision import transforms, datasets\n",
        "import math\n",
        "logger = tf.get_logger()\n",
        "logger.setLevel(logging.ERROR)\n",
        "os.environ[\"CUDA_VISIBLE_DEVICES\"]=\"0,1\"\n",
        "\n",
        "print(tf.__version__)\n",
        "\n",
        "from tensorflow.python.client import device_lib\n",
        "print(\"tensorflow doesn't detects GPU: \")\n",
        "print(device_lib.list_local_devices() )\n",
        "print(tf.test.gpu_device_name())\n",
        "print(tf.config.list_physical_devices())\n",
        "\n",
        "print(\"torch detects GPU: \" , torch.cuda.is_available())\n"
      ]
    },
    {
      "cell_type": "markdown",
      "metadata": {
        "id": "AC3EQFi20buB"
      },
      "source": [
        "## Load training data from csv\n"
      ]
    },
    {
      "cell_type": "code",
      "execution_count": 29,
      "metadata": {},
      "outputs": [
        {
          "name": "stderr",
          "output_type": "stream",
          "text": [
            "<ipython-input-29-9a92f03d48f3>:14: SettingWithCopyWarning: \n",
            "A value is trying to be set on a copy of a slice from a DataFrame.\n",
            "Try using .loc[row_indexer,col_indexer] = value instead\n",
            "\n",
            "See the caveats in the documentation: https://pandas.pydata.org/pandas-docs/stable/user_guide/indexing.html#returning-a-view-versus-a-copy\n",
            "  patient[col] = patient[col].interpolate(method='linear')\n",
            "<ipython-input-29-9a92f03d48f3>:17: SettingWithCopyWarning: \n",
            "A value is trying to be set on a copy of a slice from a DataFrame.\n",
            "Try using .loc[row_indexer,col_indexer] = value instead\n",
            "\n",
            "See the caveats in the documentation: https://pandas.pydata.org/pandas-docs/stable/user_guide/indexing.html#returning-a-view-versus-a-copy\n",
            "  patient[col] = mean_values[col]\n"
          ]
        },
        {
          "name": "stdout",
          "output_type": "stream",
          "text": [
            "0\n",
            "3000\n",
            "6000\n",
            "9000\n",
            "12000\n",
            "15000\n",
            "18000\n",
            "21000\n",
            "24000\n",
            "27000\n",
            "30000\n",
            "33000\n",
            "36000\n",
            "39000\n",
            "42000\n",
            "45000\n",
            "48000\n",
            "51000\n",
            "54000\n",
            "57000\n",
            "60000\n",
            "63000\n",
            "66000\n",
            "69000\n",
            "72000\n",
            "75000\n",
            "78000\n",
            "81000\n",
            "84000\n",
            "87000\n",
            "90000\n",
            "93000\n",
            "96000\n",
            "99000\n",
            "102000\n",
            "105000\n",
            "108000\n",
            "111000\n",
            "114000\n",
            "117000\n",
            "120000\n",
            "123000\n",
            "126000\n",
            "129000\n",
            "132000\n",
            "135000\n",
            "138000\n",
            "141000\n",
            "144000\n",
            "147000\n",
            "150000\n",
            "153000\n",
            "156000\n",
            "159000\n",
            "162000\n",
            "165000\n",
            "168000\n",
            "171000\n",
            "174000\n",
            "177000\n",
            "180000\n",
            "183000\n",
            "186000\n",
            "189000\n",
            "192000\n",
            "195000\n",
            "198000\n",
            "201000\n",
            "204000\n",
            "207000\n",
            "210000\n",
            "213000\n",
            "216000\n",
            "219000\n",
            "222000\n",
            "225000\n"
          ]
        }
      ],
      "source": [
        "patients = pd.read_csv(\"train_features.csv\")\n",
        "\n",
        "\n",
        "#get the mean for each column\n",
        "mean_values = patients.mean()\n",
        "\n",
        "\n",
        "# go through 12 rows at a time\n",
        "for i in range(0, len(patients), 12):\n",
        "    # get the 12 rows\n",
        "    patient = patients.iloc[i:i+12]\n",
        "    #for each column, use linear interpolation to replace the nan values\n",
        "    for col in patient.columns:\n",
        "        patient[col] = patient[col].interpolate(method='linear')\n",
        "        mean = patient[col].mean()\n",
        "        if math.isnan(mean):\n",
        "            patient[col] = mean_values[col]\n",
        "\n",
        "\n",
        "\n",
        "    if i%1000 == 0:\n",
        "        print(i)\n",
        "        # break\n",
        "    # break\n",
        "\n",
        "\n",
        "\n",
        "#save the dataframe\n",
        "patients.to_csv(\"train_features_fixed.csv\", index=False, float_format='%.3f',na_rep='nan')\n",
        "\n",
        "\n"
      ]
    },
    {
      "cell_type": "code",
      "execution_count": 30,
      "metadata": {},
      "outputs": [],
      "source": [
        "patients = pd.read_csv(\"train_features_fixed.csv\")\n",
        "\n",
        "#normalize each column except the first 2\n",
        "patients2 = patients.iloc[:,2:]\n",
        "patients2 = patients2.apply(lambda x: (x - x.min()) / (x.max() - x.min()))\n",
        "\n",
        "#apply the changes to the original\n",
        "patients.iloc[:,2:] = patients2\n",
        "\n",
        "\n",
        "#save the dataframe\n",
        "patients.to_csv(\"train_features_normalized.csv\", index=False, float_format='%.3f',na_rep='nan')"
      ]
    }
  ],
  "metadata": {
    "colab": {
      "collapsed_sections": [],
      "name": "l02c01_celsius_to_fahrenheit.ipynb",
      "toc_visible": true
    },
    "kernelspec": {
      "display_name": "Python 3",
      "name": "python3"
    },
    "language_info": {
      "codemirror_mode": {
        "name": "ipython",
        "version": 3
      },
      "file_extension": ".py",
      "mimetype": "text/x-python",
      "name": "python",
      "nbconvert_exporter": "python",
      "pygments_lexer": "ipython3",
      "version": "3.8.8"
    }
  },
  "nbformat": 4,
  "nbformat_minor": 0
}
